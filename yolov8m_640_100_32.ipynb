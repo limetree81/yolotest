{
  "cells": [
    {
      "cell_type": "code",
      "execution_count": null,
      "metadata": {
        "colab": {
          "base_uri": "https://localhost:8080/"
        },
        "id": "Fr9rVf1eQU5h",
        "outputId": "f8ec5bed-9a49-4935-ed2f-4fef198f9b38"
      },
      "outputs": [
        {
          "name": "stdout",
          "output_type": "stream",
          "text": [
            "Cloning into 'yolotest'...\n",
            "remote: Enumerating objects: 2016, done.\u001b[K\n",
            "remote: Counting objects: 100% (31/31), done.\u001b[K\n",
            "remote: Compressing objects: 100% (28/28), done.\u001b[K\n",
            "remote: Total 2016 (delta 1), reused 29 (delta 0), pack-reused 1985\u001b[K\n",
            "Receiving objects: 100% (2016/2016), 123.12 MiB | 36.42 MiB/s, done.\n",
            "Resolving deltas: 100% (2/2), done.\n"
          ]
        }
      ],
      "source": [
        "!git clone https://github.com/limetree81/yolotest.git"
      ]
    },
    {
      "cell_type": "code",
      "execution_count": null,
      "metadata": {
        "id": "8m9Mr6rsQbyd"
      },
      "outputs": [],
      "source": [
        "%cd yolotest/\n",
        "!unzip dataset_yolov8.zip"
      ]
    },
    {
      "cell_type": "code",
      "execution_count": null,
      "metadata": {
        "colab": {
          "base_uri": "https://localhost:8080/"
        },
        "id": "TIbruRfqQfzZ",
        "outputId": "63ff6b8d-2983-4ce2-f01d-e87554750b7a"
      },
      "outputs": [
        {
          "name": "stdout",
          "output_type": "stream",
          "text": [
            "Ultralytics YOLOv8.1.45 🚀 Python-3.10.12 torch-2.2.1+cu121 CUDA:0 (Tesla T4, 15102MiB)\n",
            "Setup complete ✅ (2 CPUs, 12.7 GB RAM, 29.2/78.2 GB disk)\n"
          ]
        }
      ],
      "source": [
        "%pip install ultralytics\n",
        "import ultralytics\n",
        "ultralytics.checks()"
      ]
    },
    {
      "cell_type": "code",
      "execution_count": null,
      "metadata": {
        "colab": {
          "base_uri": "https://localhost:8080/"
        },
        "id": "0lx_Z9KNR8SC",
        "outputId": "f613f04e-9487-4680-94c9-8485ca64a424"
      },
      "outputs": [
        {
          "name": "stdout",
          "output_type": "stream",
          "text": [
            "Downloading https://github.com/ultralytics/assets/releases/download/v8.1.0/yolov8m.pt to 'yolov8m.pt'...\n"
          ]
        },
        {
          "name": "stderr",
          "output_type": "stream",
          "text": [
            "100%|██████████| 49.7M/49.7M [00:00<00:00, 201MB/s]\n"
          ]
        },
        {
          "name": "stdout",
          "output_type": "stream",
          "text": [
            "Ultralytics YOLOv8.1.45 🚀 Python-3.10.12 torch-2.2.1+cu121 CUDA:0 (Tesla T4, 15102MiB)\n",
            "\u001b[34m\u001b[1mengine/trainer: \u001b[0mtask=detect, mode=train, model=yolov8m.pt, data=/content/yolotest/data.yaml, epochs=100, time=None, patience=100, batch=32, imgsz=640, save=True, save_period=-1, cache=False, device=None, workers=8, project=None, name=train, exist_ok=False, pretrained=True, optimizer=auto, verbose=True, seed=0, deterministic=True, single_cls=False, rect=False, cos_lr=False, close_mosaic=10, resume=False, amp=True, fraction=1.0, profile=False, freeze=None, multi_scale=False, overlap_mask=True, mask_ratio=4, dropout=0.0, val=True, split=val, save_json=False, save_hybrid=False, conf=None, iou=0.7, max_det=300, half=False, dnn=False, plots=True, source=None, vid_stride=1, stream_buffer=False, visualize=False, augment=False, agnostic_nms=False, classes=None, retina_masks=False, embed=None, show=False, save_frames=False, save_txt=False, save_conf=False, save_crop=False, show_labels=True, show_conf=True, show_boxes=True, line_width=None, format=torchscript, keras=False, optimize=False, int8=False, dynamic=False, simplify=False, opset=None, workspace=4, nms=False, lr0=0.01, lrf=0.01, momentum=0.937, weight_decay=0.0005, warmup_epochs=3.0, warmup_momentum=0.8, warmup_bias_lr=0.1, box=7.5, cls=0.5, dfl=1.5, pose=12.0, kobj=1.0, label_smoothing=0.0, nbs=64, hsv_h=0.015, hsv_s=0.7, hsv_v=0.4, degrees=0.0, translate=0.1, scale=0.5, shear=0.0, perspective=0.0, flipud=0.0, fliplr=0.5, bgr=0.0, mosaic=1.0, mixup=0.0, copy_paste=0.0, auto_augment=randaugment, erasing=0.4, crop_fraction=1.0, cfg=None, tracker=botsort.yaml, save_dir=runs/detect/train\n",
            "Downloading https://ultralytics.com/assets/Arial.ttf to '/root/.config/Ultralytics/Arial.ttf'...\n"
          ]
        },
        {
          "name": "stderr",
          "output_type": "stream",
          "text": [
            "100%|██████████| 755k/755k [00:00<00:00, 16.2MB/s]\n"
          ]
        },
        {
          "name": "stdout",
          "output_type": "stream",
          "text": [
            "Overriding model.yaml nc=80 with nc=2\n",
            "\n",
            "                   from  n    params  module                                       arguments                     \n",
            "  0                  -1  1      1392  ultralytics.nn.modules.conv.Conv             [3, 48, 3, 2]                 \n",
            "  1                  -1  1     41664  ultralytics.nn.modules.conv.Conv             [48, 96, 3, 2]                \n",
            "  2                  -1  2    111360  ultralytics.nn.modules.block.C2f             [96, 96, 2, True]             \n",
            "  3                  -1  1    166272  ultralytics.nn.modules.conv.Conv             [96, 192, 3, 2]               \n",
            "  4                  -1  4    813312  ultralytics.nn.modules.block.C2f             [192, 192, 4, True]           \n",
            "  5                  -1  1    664320  ultralytics.nn.modules.conv.Conv             [192, 384, 3, 2]              \n",
            "  6                  -1  4   3248640  ultralytics.nn.modules.block.C2f             [384, 384, 4, True]           \n",
            "  7                  -1  1   1991808  ultralytics.nn.modules.conv.Conv             [384, 576, 3, 2]              \n",
            "  8                  -1  2   3985920  ultralytics.nn.modules.block.C2f             [576, 576, 2, True]           \n",
            "  9                  -1  1    831168  ultralytics.nn.modules.block.SPPF            [576, 576, 5]                 \n",
            " 10                  -1  1         0  torch.nn.modules.upsampling.Upsample         [None, 2, 'nearest']          \n",
            " 11             [-1, 6]  1         0  ultralytics.nn.modules.conv.Concat           [1]                           \n",
            " 12                  -1  2   1993728  ultralytics.nn.modules.block.C2f             [960, 384, 2]                 \n",
            " 13                  -1  1         0  torch.nn.modules.upsampling.Upsample         [None, 2, 'nearest']          \n",
            " 14             [-1, 4]  1         0  ultralytics.nn.modules.conv.Concat           [1]                           \n",
            " 15                  -1  2    517632  ultralytics.nn.modules.block.C2f             [576, 192, 2]                 \n",
            " 16                  -1  1    332160  ultralytics.nn.modules.conv.Conv             [192, 192, 3, 2]              \n",
            " 17            [-1, 12]  1         0  ultralytics.nn.modules.conv.Concat           [1]                           \n",
            " 18                  -1  2   1846272  ultralytics.nn.modules.block.C2f             [576, 384, 2]                 \n",
            " 19                  -1  1   1327872  ultralytics.nn.modules.conv.Conv             [384, 384, 3, 2]              \n",
            " 20             [-1, 9]  1         0  ultralytics.nn.modules.conv.Concat           [1]                           \n",
            " 21                  -1  2   4207104  ultralytics.nn.modules.block.C2f             [960, 576, 2]                 \n",
            " 22        [15, 18, 21]  1   3776854  ultralytics.nn.modules.head.Detect           [2, [192, 384, 576]]          \n",
            "Model summary: 295 layers, 25857478 parameters, 25857462 gradients, 79.1 GFLOPs\n",
            "\n",
            "Transferred 469/475 items from pretrained weights\n",
            "\u001b[34m\u001b[1mTensorBoard: \u001b[0mStart with 'tensorboard --logdir runs/detect/train', view at http://localhost:6006/\n",
            "Freezing layer 'model.22.dfl.conv.weight'\n",
            "\u001b[34m\u001b[1mAMP: \u001b[0mrunning Automatic Mixed Precision (AMP) checks with YOLOv8n...\n",
            "Downloading https://github.com/ultralytics/assets/releases/download/v8.1.0/yolov8n.pt to 'yolov8n.pt'...\n"
          ]
        },
        {
          "name": "stderr",
          "output_type": "stream",
          "text": [
            "100%|██████████| 6.23M/6.23M [00:00<00:00, 85.4MB/s]\n"
          ]
        },
        {
          "name": "stdout",
          "output_type": "stream",
          "text": [
            "\u001b[34m\u001b[1mAMP: \u001b[0mchecks passed ✅\n"
          ]
        },
        {
          "name": "stderr",
          "output_type": "stream",
          "text": [
            "\u001b[34m\u001b[1mtrain: \u001b[0mScanning /content/yolotest/train/labels... 1338 images, 0 backgrounds, 0 corrupt: 100%|██████████| 1338/1338 [00:01<00:00, 800.70it/s]"
          ]
        },
        {
          "name": "stdout",
          "output_type": "stream",
          "text": [
            "\u001b[34m\u001b[1mtrain: \u001b[0mNew cache created: /content/yolotest/train/labels.cache\n"
          ]
        },
        {
          "name": "stderr",
          "output_type": "stream",
          "text": [
            "\n"
          ]
        },
        {
          "name": "stdout",
          "output_type": "stream",
          "text": [
            "\u001b[34m\u001b[1malbumentations: \u001b[0mBlur(p=0.01, blur_limit=(3, 7)), MedianBlur(p=0.01, blur_limit=(3, 7)), ToGray(p=0.01), CLAHE(p=0.01, clip_limit=(1, 4.0), tile_grid_size=(8, 8))\n"
          ]
        },
        {
          "name": "stderr",
          "output_type": "stream",
          "text": [
            "/usr/lib/python3.10/multiprocessing/popen_fork.py:66: RuntimeWarning: os.fork() was called. os.fork() is incompatible with multithreaded code, and JAX is multithreaded, so this will likely lead to a deadlock.\n",
            "  self.pid = os.fork()\n",
            "\u001b[34m\u001b[1mval: \u001b[0mScanning /content/yolotest/valid/labels... 357 images, 0 backgrounds, 0 corrupt: 100%|██████████| 357/357 [00:00<00:00, 550.60it/s]"
          ]
        },
        {
          "name": "stdout",
          "output_type": "stream",
          "text": [
            "\u001b[34m\u001b[1mval: \u001b[0mNew cache created: /content/yolotest/valid/labels.cache\n"
          ]
        },
        {
          "name": "stderr",
          "output_type": "stream",
          "text": [
            "\n"
          ]
        },
        {
          "name": "stdout",
          "output_type": "stream",
          "text": [
            "Plotting labels to runs/detect/train/labels.jpg... \n",
            "\u001b[34m\u001b[1moptimizer:\u001b[0m 'optimizer=auto' found, ignoring 'lr0=0.01' and 'momentum=0.937' and determining best 'optimizer', 'lr0' and 'momentum' automatically... \n",
            "\u001b[34m\u001b[1moptimizer:\u001b[0m AdamW(lr=0.001667, momentum=0.9) with parameter groups 77 weight(decay=0.0), 84 weight(decay=0.0005), 83 bias(decay=0.0)\n",
            "\u001b[34m\u001b[1mTensorBoard: \u001b[0mmodel graph visualization added ✅\n",
            "Image sizes 640 train, 640 val\n",
            "Using 2 dataloader workers\n",
            "Logging results to \u001b[1mruns/detect/train\u001b[0m\n",
            "Starting training for 100 epochs...\n",
            "\n",
            "      Epoch    GPU_mem   box_loss   cls_loss   dfl_loss  Instances       Size\n"
          ]
        },
        {
          "name": "stderr",
          "output_type": "stream",
          "text": [
            "      1/100      14.3G      1.749      2.842      1.854         68        640: 100%|██████████| 42/42 [00:45<00:00,  1.08s/it]\n",
            "                 Class     Images  Instances      Box(P          R      mAP50  mAP50-95): 100%|██████████| 6/6 [00:06<00:00,  1.12s/it]"
          ]
        },
        {
          "name": "stdout",
          "output_type": "stream",
          "text": [
            "                   all        357        567     0.0121      0.281    0.00796    0.00258\n"
          ]
        },
        {
          "name": "stderr",
          "output_type": "stream",
          "text": [
            "\n"
          ]
        },
        {
          "name": "stdout",
          "output_type": "stream",
          "text": [
            "\n",
            "      Epoch    GPU_mem   box_loss   cls_loss   dfl_loss  Instances       Size\n"
          ]
        },
        {
          "name": "stderr",
          "output_type": "stream",
          "text": [
            "      2/100      14.6G      1.934      2.355      2.016         65        640: 100%|██████████| 42/42 [00:42<00:00,  1.02s/it]\n",
            "                 Class     Images  Instances      Box(P          R      mAP50  mAP50-95): 100%|██████████| 6/6 [00:05<00:00,  1.05it/s]"
          ]
        },
        {
          "name": "stdout",
          "output_type": "stream",
          "text": [
            "                   all        357        567     0.0092      0.167    0.00824     0.0037\n"
          ]
        },
        {
          "name": "stderr",
          "output_type": "stream",
          "text": [
            "\n"
          ]
        },
        {
          "name": "stdout",
          "output_type": "stream",
          "text": [
            "\n",
            "      Epoch    GPU_mem   box_loss   cls_loss   dfl_loss  Instances       Size\n"
          ]
        },
        {
          "name": "stderr",
          "output_type": "stream",
          "text": [
            "      3/100      14.6G      1.946      2.352      2.034         68        640: 100%|██████████| 42/42 [00:43<00:00,  1.04s/it]\n",
            "                 Class     Images  Instances      Box(P          R      mAP50  mAP50-95): 100%|██████████| 6/6 [00:05<00:00,  1.02it/s]"
          ]
        },
        {
          "name": "stdout",
          "output_type": "stream",
          "text": [
            "                   all        357        567    0.00512      0.179    0.00382    0.00104\n"
          ]
        },
        {
          "name": "stderr",
          "output_type": "stream",
          "text": [
            "\n"
          ]
        },
        {
          "name": "stdout",
          "output_type": "stream",
          "text": [
            "\n",
            "      Epoch    GPU_mem   box_loss   cls_loss   dfl_loss  Instances       Size\n"
          ]
        },
        {
          "name": "stderr",
          "output_type": "stream",
          "text": [
            "      4/100      14.2G      1.974      2.444      2.007         78        640: 100%|██████████| 42/42 [00:43<00:00,  1.04s/it]\n",
            "                 Class     Images  Instances      Box(P          R      mAP50  mAP50-95): 100%|██████████| 6/6 [00:06<00:00,  1.01s/it]"
          ]
        },
        {
          "name": "stdout",
          "output_type": "stream",
          "text": [
            "                   all        357        567     0.0205        0.2    0.00903    0.00321\n"
          ]
        },
        {
          "name": "stderr",
          "output_type": "stream",
          "text": [
            "\n"
          ]
        },
        {
          "name": "stdout",
          "output_type": "stream",
          "text": [
            "\n",
            "      Epoch    GPU_mem   box_loss   cls_loss   dfl_loss  Instances       Size\n"
          ]
        },
        {
          "name": "stderr",
          "output_type": "stream",
          "text": [
            "      5/100      14.3G      1.921      2.272      2.004         68        640: 100%|██████████| 42/42 [00:43<00:00,  1.02s/it]\n",
            "                 Class     Images  Instances      Box(P          R      mAP50  mAP50-95): 100%|██████████| 6/6 [00:06<00:00,  1.08s/it]"
          ]
        },
        {
          "name": "stdout",
          "output_type": "stream",
          "text": [
            "                   all        357        567     0.0447      0.207     0.0343     0.0102\n"
          ]
        },
        {
          "name": "stderr",
          "output_type": "stream",
          "text": [
            "\n"
          ]
        },
        {
          "name": "stdout",
          "output_type": "stream",
          "text": [
            "\n",
            "      Epoch    GPU_mem   box_loss   cls_loss   dfl_loss  Instances       Size\n"
          ]
        },
        {
          "name": "stderr",
          "output_type": "stream",
          "text": [
            "      6/100      14.2G      1.875      2.198      1.953         56        640: 100%|██████████| 42/42 [00:43<00:00,  1.03s/it]\n",
            "                 Class     Images  Instances      Box(P          R      mAP50  mAP50-95): 100%|██████████| 6/6 [00:06<00:00,  1.07s/it]"
          ]
        },
        {
          "name": "stdout",
          "output_type": "stream",
          "text": [
            "                   all        357        567      0.149      0.142     0.0778     0.0282\n"
          ]
        },
        {
          "name": "stderr",
          "output_type": "stream",
          "text": [
            "\n"
          ]
        },
        {
          "name": "stdout",
          "output_type": "stream",
          "text": [
            "\n",
            "      Epoch    GPU_mem   box_loss   cls_loss   dfl_loss  Instances       Size\n"
          ]
        },
        {
          "name": "stderr",
          "output_type": "stream",
          "text": [
            "      7/100      13.8G      1.829      2.185      1.938         61        640: 100%|██████████| 42/42 [00:43<00:00,  1.03s/it]\n",
            "                 Class     Images  Instances      Box(P          R      mAP50  mAP50-95): 100%|██████████| 6/6 [00:05<00:00,  1.08it/s]"
          ]
        },
        {
          "name": "stdout",
          "output_type": "stream",
          "text": [
            "                   all        357        567      0.471      0.321      0.308      0.125\n"
          ]
        },
        {
          "name": "stderr",
          "output_type": "stream",
          "text": [
            "\n"
          ]
        },
        {
          "name": "stdout",
          "output_type": "stream",
          "text": [
            "\n",
            "      Epoch    GPU_mem   box_loss   cls_loss   dfl_loss  Instances       Size\n"
          ]
        },
        {
          "name": "stderr",
          "output_type": "stream",
          "text": [
            "      8/100      13.7G      1.769       1.99      1.852         72        640: 100%|██████████| 42/42 [00:43<00:00,  1.02s/it]\n",
            "                 Class     Images  Instances      Box(P          R      mAP50  mAP50-95): 100%|██████████| 6/6 [00:05<00:00,  1.11it/s]"
          ]
        },
        {
          "name": "stdout",
          "output_type": "stream",
          "text": [
            "                   all        357        567      0.788      0.274      0.276      0.116\n"
          ]
        },
        {
          "name": "stderr",
          "output_type": "stream",
          "text": [
            "\n"
          ]
        },
        {
          "name": "stdout",
          "output_type": "stream",
          "text": [
            "\n",
            "      Epoch    GPU_mem   box_loss   cls_loss   dfl_loss  Instances       Size\n"
          ]
        },
        {
          "name": "stderr",
          "output_type": "stream",
          "text": [
            "      9/100      13.8G      1.764      1.991      1.854         58        640: 100%|██████████| 42/42 [00:43<00:00,  1.02s/it]\n",
            "                 Class     Images  Instances      Box(P          R      mAP50  mAP50-95): 100%|██████████| 6/6 [00:05<00:00,  1.08it/s]"
          ]
        },
        {
          "name": "stdout",
          "output_type": "stream",
          "text": [
            "                   all        357        567      0.361      0.426      0.363      0.141\n"
          ]
        },
        {
          "name": "stderr",
          "output_type": "stream",
          "text": [
            "\n"
          ]
        },
        {
          "name": "stdout",
          "output_type": "stream",
          "text": [
            "\n",
            "      Epoch    GPU_mem   box_loss   cls_loss   dfl_loss  Instances       Size\n"
          ]
        },
        {
          "name": "stderr",
          "output_type": "stream",
          "text": [
            "     10/100      13.8G      1.737      1.959      1.838         60        640: 100%|██████████| 42/42 [00:43<00:00,  1.03s/it]\n",
            "                 Class     Images  Instances      Box(P          R      mAP50  mAP50-95): 100%|██████████| 6/6 [00:05<00:00,  1.06it/s]"
          ]
        },
        {
          "name": "stdout",
          "output_type": "stream",
          "text": [
            "                   all        357        567      0.341      0.365      0.296      0.119\n"
          ]
        },
        {
          "name": "stderr",
          "output_type": "stream",
          "text": [
            "\n"
          ]
        },
        {
          "name": "stdout",
          "output_type": "stream",
          "text": [
            "\n",
            "      Epoch    GPU_mem   box_loss   cls_loss   dfl_loss  Instances       Size\n"
          ]
        },
        {
          "name": "stderr",
          "output_type": "stream",
          "text": [
            "     11/100      14.1G      1.726      1.962      1.832         52        640: 100%|██████████| 42/42 [00:43<00:00,  1.03s/it]\n",
            "                 Class     Images  Instances      Box(P          R      mAP50  mAP50-95): 100%|██████████| 6/6 [00:06<00:00,  1.01s/it]"
          ]
        },
        {
          "name": "stdout",
          "output_type": "stream",
          "text": [
            "                   all        357        567      0.394      0.435      0.371       0.17\n"
          ]
        },
        {
          "name": "stderr",
          "output_type": "stream",
          "text": [
            "\n"
          ]
        },
        {
          "name": "stdout",
          "output_type": "stream",
          "text": [
            "\n",
            "      Epoch    GPU_mem   box_loss   cls_loss   dfl_loss  Instances       Size\n"
          ]
        },
        {
          "name": "stderr",
          "output_type": "stream",
          "text": [
            "     12/100      14.2G      1.665       1.85      1.752         76        640: 100%|██████████| 42/42 [00:43<00:00,  1.03s/it]\n",
            "                 Class     Images  Instances      Box(P          R      mAP50  mAP50-95): 100%|██████████| 6/6 [00:06<00:00,  1.01s/it]"
          ]
        },
        {
          "name": "stdout",
          "output_type": "stream",
          "text": [
            "                   all        357        567       0.42      0.418      0.398      0.194\n"
          ]
        },
        {
          "name": "stderr",
          "output_type": "stream",
          "text": [
            "\n"
          ]
        },
        {
          "name": "stdout",
          "output_type": "stream",
          "text": [
            "\n",
            "      Epoch    GPU_mem   box_loss   cls_loss   dfl_loss  Instances       Size\n"
          ]
        },
        {
          "name": "stderr",
          "output_type": "stream",
          "text": [
            "     13/100      14.6G       1.63      1.755      1.757         61        640: 100%|██████████| 42/42 [00:43<00:00,  1.03s/it]\n",
            "                 Class     Images  Instances      Box(P          R      mAP50  mAP50-95): 100%|██████████| 6/6 [00:06<00:00,  1.04s/it]"
          ]
        },
        {
          "name": "stdout",
          "output_type": "stream",
          "text": [
            "                   all        357        567      0.498      0.473      0.444      0.196\n"
          ]
        },
        {
          "name": "stderr",
          "output_type": "stream",
          "text": [
            "\n"
          ]
        },
        {
          "name": "stdout",
          "output_type": "stream",
          "text": [
            "\n",
            "      Epoch    GPU_mem   box_loss   cls_loss   dfl_loss  Instances       Size\n"
          ]
        },
        {
          "name": "stderr",
          "output_type": "stream",
          "text": [
            "     14/100      14.1G      1.672       1.82      1.762         61        640: 100%|██████████| 42/42 [00:42<00:00,  1.02s/it]\n",
            "                 Class     Images  Instances      Box(P          R      mAP50  mAP50-95): 100%|██████████| 6/6 [00:06<00:00,  1.01s/it]"
          ]
        },
        {
          "name": "stdout",
          "output_type": "stream",
          "text": [
            "                   all        357        567      0.519      0.467      0.446      0.203\n"
          ]
        },
        {
          "name": "stderr",
          "output_type": "stream",
          "text": [
            "\n"
          ]
        },
        {
          "name": "stdout",
          "output_type": "stream",
          "text": [
            "\n",
            "      Epoch    GPU_mem   box_loss   cls_loss   dfl_loss  Instances       Size\n"
          ]
        },
        {
          "name": "stderr",
          "output_type": "stream",
          "text": [
            "     15/100      14.1G      1.641       1.74      1.722         64        640: 100%|██████████| 42/42 [00:43<00:00,  1.02s/it]\n",
            "                 Class     Images  Instances      Box(P          R      mAP50  mAP50-95): 100%|██████████| 6/6 [00:05<00:00,  1.07it/s]"
          ]
        },
        {
          "name": "stdout",
          "output_type": "stream",
          "text": [
            "                   all        357        567       0.47      0.468      0.441      0.203\n"
          ]
        },
        {
          "name": "stderr",
          "output_type": "stream",
          "text": [
            "\n"
          ]
        },
        {
          "name": "stdout",
          "output_type": "stream",
          "text": [
            "\n",
            "      Epoch    GPU_mem   box_loss   cls_loss   dfl_loss  Instances       Size\n"
          ]
        },
        {
          "name": "stderr",
          "output_type": "stream",
          "text": [
            "     16/100      13.8G      1.628       1.73      1.706         69        640: 100%|██████████| 42/42 [00:43<00:00,  1.03s/it]\n",
            "                 Class     Images  Instances      Box(P          R      mAP50  mAP50-95): 100%|██████████| 6/6 [00:05<00:00,  1.10it/s]"
          ]
        },
        {
          "name": "stdout",
          "output_type": "stream",
          "text": [
            "                   all        357        567      0.549      0.423      0.451       0.21\n"
          ]
        },
        {
          "name": "stderr",
          "output_type": "stream",
          "text": [
            "\n"
          ]
        },
        {
          "name": "stdout",
          "output_type": "stream",
          "text": [
            "\n",
            "      Epoch    GPU_mem   box_loss   cls_loss   dfl_loss  Instances       Size\n"
          ]
        },
        {
          "name": "stderr",
          "output_type": "stream",
          "text": [
            "     17/100      13.8G      1.568      1.618      1.658         70        640: 100%|██████████| 42/42 [00:43<00:00,  1.03s/it]\n",
            "                 Class     Images  Instances      Box(P          R      mAP50  mAP50-95): 100%|██████████| 6/6 [00:05<00:00,  1.07it/s]"
          ]
        },
        {
          "name": "stdout",
          "output_type": "stream",
          "text": [
            "                   all        357        567      0.674      0.487      0.512      0.259\n"
          ]
        },
        {
          "name": "stderr",
          "output_type": "stream",
          "text": [
            "\n"
          ]
        },
        {
          "name": "stdout",
          "output_type": "stream",
          "text": [
            "\n",
            "      Epoch    GPU_mem   box_loss   cls_loss   dfl_loss  Instances       Size\n"
          ]
        },
        {
          "name": "stderr",
          "output_type": "stream",
          "text": [
            "     18/100      14.1G      1.591      1.661      1.682         63        640: 100%|██████████| 42/42 [00:43<00:00,  1.03s/it]\n",
            "                 Class     Images  Instances      Box(P          R      mAP50  mAP50-95): 100%|██████████| 6/6 [00:05<00:00,  1.07it/s]"
          ]
        },
        {
          "name": "stdout",
          "output_type": "stream",
          "text": [
            "                   all        357        567      0.558      0.511       0.52       0.27\n"
          ]
        },
        {
          "name": "stderr",
          "output_type": "stream",
          "text": [
            "\n"
          ]
        },
        {
          "name": "stdout",
          "output_type": "stream",
          "text": [
            "\n",
            "      Epoch    GPU_mem   box_loss   cls_loss   dfl_loss  Instances       Size\n"
          ]
        },
        {
          "name": "stderr",
          "output_type": "stream",
          "text": [
            "     19/100      14.1G      1.557      1.579      1.656         52        640: 100%|██████████| 42/42 [00:43<00:00,  1.04s/it]\n",
            "                 Class     Images  Instances      Box(P          R      mAP50  mAP50-95): 100%|██████████| 6/6 [00:05<00:00,  1.05it/s]"
          ]
        },
        {
          "name": "stdout",
          "output_type": "stream",
          "text": [
            "                   all        357        567      0.569      0.559      0.552       0.27\n"
          ]
        },
        {
          "name": "stderr",
          "output_type": "stream",
          "text": [
            "\n"
          ]
        },
        {
          "name": "stdout",
          "output_type": "stream",
          "text": [
            "\n",
            "      Epoch    GPU_mem   box_loss   cls_loss   dfl_loss  Instances       Size\n"
          ]
        },
        {
          "name": "stderr",
          "output_type": "stream",
          "text": [
            "     20/100      14.1G      1.506      1.558      1.634         67        640: 100%|██████████| 42/42 [00:42<00:00,  1.02s/it]\n",
            "                 Class     Images  Instances      Box(P          R      mAP50  mAP50-95): 100%|██████████| 6/6 [00:06<00:00,  1.02s/it]"
          ]
        },
        {
          "name": "stdout",
          "output_type": "stream",
          "text": [
            "                   all        357        567      0.452      0.484      0.458       0.24\n"
          ]
        },
        {
          "name": "stderr",
          "output_type": "stream",
          "text": [
            "\n"
          ]
        },
        {
          "name": "stdout",
          "output_type": "stream",
          "text": [
            "\n",
            "      Epoch    GPU_mem   box_loss   cls_loss   dfl_loss  Instances       Size\n"
          ]
        },
        {
          "name": "stderr",
          "output_type": "stream",
          "text": [
            "     21/100      14.1G      1.516       1.53      1.642         63        640: 100%|██████████| 42/42 [00:43<00:00,  1.03s/it]\n",
            "                 Class     Images  Instances      Box(P          R      mAP50  mAP50-95): 100%|██████████| 6/6 [00:06<00:00,  1.03s/it]"
          ]
        },
        {
          "name": "stdout",
          "output_type": "stream",
          "text": [
            "                   all        357        567      0.523      0.578      0.563      0.291\n"
          ]
        },
        {
          "name": "stderr",
          "output_type": "stream",
          "text": [
            "\n"
          ]
        },
        {
          "name": "stdout",
          "output_type": "stream",
          "text": [
            "\n",
            "      Epoch    GPU_mem   box_loss   cls_loss   dfl_loss  Instances       Size\n"
          ]
        },
        {
          "name": "stderr",
          "output_type": "stream",
          "text": [
            "     22/100      13.8G      1.522      1.558      1.618         70        640: 100%|██████████| 42/42 [00:43<00:00,  1.03s/it]\n",
            "                 Class     Images  Instances      Box(P          R      mAP50  mAP50-95): 100%|██████████| 6/6 [00:06<00:00,  1.03s/it]"
          ]
        },
        {
          "name": "stdout",
          "output_type": "stream",
          "text": [
            "                   all        357        567      0.589      0.536       0.56      0.296\n"
          ]
        },
        {
          "name": "stderr",
          "output_type": "stream",
          "text": [
            "\n"
          ]
        },
        {
          "name": "stdout",
          "output_type": "stream",
          "text": [
            "\n",
            "      Epoch    GPU_mem   box_loss   cls_loss   dfl_loss  Instances       Size\n"
          ]
        },
        {
          "name": "stderr",
          "output_type": "stream",
          "text": [
            "     23/100      14.1G      1.486      1.502      1.622         65        640: 100%|██████████| 42/42 [00:43<00:00,  1.03s/it]\n",
            "                 Class     Images  Instances      Box(P          R      mAP50  mAP50-95): 100%|██████████| 6/6 [00:06<00:00,  1.00s/it]"
          ]
        },
        {
          "name": "stdout",
          "output_type": "stream",
          "text": [
            "                   all        357        567      0.576      0.505      0.529      0.267\n"
          ]
        },
        {
          "name": "stderr",
          "output_type": "stream",
          "text": [
            "\n"
          ]
        },
        {
          "name": "stdout",
          "output_type": "stream",
          "text": [
            "\n",
            "      Epoch    GPU_mem   box_loss   cls_loss   dfl_loss  Instances       Size\n"
          ]
        },
        {
          "name": "stderr",
          "output_type": "stream",
          "text": [
            "     24/100      14.1G       1.49      1.477      1.615         64        640: 100%|██████████| 42/42 [00:42<00:00,  1.02s/it]\n",
            "                 Class     Images  Instances      Box(P          R      mAP50  mAP50-95): 100%|██████████| 6/6 [00:05<00:00,  1.10it/s]"
          ]
        },
        {
          "name": "stdout",
          "output_type": "stream",
          "text": [
            "                   all        357        567      0.623      0.519      0.574      0.298\n"
          ]
        },
        {
          "name": "stderr",
          "output_type": "stream",
          "text": [
            "\n"
          ]
        },
        {
          "name": "stdout",
          "output_type": "stream",
          "text": [
            "\n",
            "      Epoch    GPU_mem   box_loss   cls_loss   dfl_loss  Instances       Size\n"
          ]
        },
        {
          "name": "stderr",
          "output_type": "stream",
          "text": [
            "     25/100      14.1G      1.481      1.466      1.582         65        640: 100%|██████████| 42/42 [00:43<00:00,  1.03s/it]\n",
            "                 Class     Images  Instances      Box(P          R      mAP50  mAP50-95): 100%|██████████| 6/6 [00:05<00:00,  1.07it/s]"
          ]
        },
        {
          "name": "stdout",
          "output_type": "stream",
          "text": [
            "                   all        357        567      0.639      0.557      0.592      0.309\n"
          ]
        },
        {
          "name": "stderr",
          "output_type": "stream",
          "text": [
            "\n"
          ]
        },
        {
          "name": "stdout",
          "output_type": "stream",
          "text": [
            "\n",
            "      Epoch    GPU_mem   box_loss   cls_loss   dfl_loss  Instances       Size\n"
          ]
        },
        {
          "name": "stderr",
          "output_type": "stream",
          "text": [
            "     26/100      14.1G      1.443      1.418      1.561         91        640: 100%|██████████| 42/42 [00:43<00:00,  1.03s/it]\n",
            "                 Class     Images  Instances      Box(P          R      mAP50  mAP50-95): 100%|██████████| 6/6 [00:06<00:00,  1.01s/it]"
          ]
        },
        {
          "name": "stdout",
          "output_type": "stream",
          "text": [
            "                   all        357        567      0.772      0.532      0.638       0.34\n"
          ]
        },
        {
          "name": "stderr",
          "output_type": "stream",
          "text": [
            "\n"
          ]
        },
        {
          "name": "stdout",
          "output_type": "stream",
          "text": [
            "\n",
            "      Epoch    GPU_mem   box_loss   cls_loss   dfl_loss  Instances       Size\n"
          ]
        },
        {
          "name": "stderr",
          "output_type": "stream",
          "text": [
            "     27/100      13.8G      1.442      1.418      1.577         76        640: 100%|██████████| 42/42 [00:42<00:00,  1.02s/it]\n",
            "                 Class     Images  Instances      Box(P          R      mAP50  mAP50-95): 100%|██████████| 6/6 [00:05<00:00,  1.03it/s]"
          ]
        },
        {
          "name": "stdout",
          "output_type": "stream",
          "text": [
            "                   all        357        567      0.623      0.597      0.604      0.313\n"
          ]
        },
        {
          "name": "stderr",
          "output_type": "stream",
          "text": [
            "\n"
          ]
        },
        {
          "name": "stdout",
          "output_type": "stream",
          "text": [
            "\n",
            "      Epoch    GPU_mem   box_loss   cls_loss   dfl_loss  Instances       Size\n"
          ]
        },
        {
          "name": "stderr",
          "output_type": "stream",
          "text": [
            "     28/100      13.7G      1.415      1.409      1.567         59        640: 100%|██████████| 42/42 [00:43<00:00,  1.03s/it]\n",
            "                 Class     Images  Instances      Box(P          R      mAP50  mAP50-95): 100%|██████████| 6/6 [00:05<00:00,  1.06it/s]"
          ]
        },
        {
          "name": "stdout",
          "output_type": "stream",
          "text": [
            "                   all        357        567      0.662      0.527      0.556      0.299\n"
          ]
        },
        {
          "name": "stderr",
          "output_type": "stream",
          "text": [
            "\n"
          ]
        },
        {
          "name": "stdout",
          "output_type": "stream",
          "text": [
            "\n",
            "      Epoch    GPU_mem   box_loss   cls_loss   dfl_loss  Instances       Size\n"
          ]
        },
        {
          "name": "stderr",
          "output_type": "stream",
          "text": [
            "     29/100      14.1G      1.412      1.343      1.568         82        640: 100%|██████████| 42/42 [00:43<00:00,  1.04s/it]\n",
            "                 Class     Images  Instances      Box(P          R      mAP50  mAP50-95): 100%|██████████| 6/6 [00:05<00:00,  1.06it/s]"
          ]
        },
        {
          "name": "stdout",
          "output_type": "stream",
          "text": [
            "                   all        357        567       0.67      0.483      0.598      0.305\n"
          ]
        },
        {
          "name": "stderr",
          "output_type": "stream",
          "text": [
            "\n"
          ]
        },
        {
          "name": "stdout",
          "output_type": "stream",
          "text": [
            "\n",
            "      Epoch    GPU_mem   box_loss   cls_loss   dfl_loss  Instances       Size\n"
          ]
        },
        {
          "name": "stderr",
          "output_type": "stream",
          "text": [
            "     30/100      14.6G      1.429      1.372      1.575         65        640: 100%|██████████| 42/42 [00:43<00:00,  1.05s/it]\n",
            "                 Class     Images  Instances      Box(P          R      mAP50  mAP50-95): 100%|██████████| 6/6 [00:05<00:00,  1.04it/s]"
          ]
        },
        {
          "name": "stdout",
          "output_type": "stream",
          "text": [
            "                   all        357        567      0.705      0.627      0.683      0.358\n"
          ]
        },
        {
          "name": "stderr",
          "output_type": "stream",
          "text": [
            "\n"
          ]
        },
        {
          "name": "stdout",
          "output_type": "stream",
          "text": [
            "\n",
            "      Epoch    GPU_mem   box_loss   cls_loss   dfl_loss  Instances       Size\n"
          ]
        },
        {
          "name": "stderr",
          "output_type": "stream",
          "text": [
            "     31/100      13.8G      1.385      1.311      1.529         57        640: 100%|██████████| 42/42 [00:44<00:00,  1.06s/it]\n",
            "                 Class     Images  Instances      Box(P          R      mAP50  mAP50-95): 100%|██████████| 6/6 [00:05<00:00,  1.06it/s]"
          ]
        },
        {
          "name": "stdout",
          "output_type": "stream",
          "text": [
            "                   all        357        567      0.711      0.636      0.684      0.381\n"
          ]
        },
        {
          "name": "stderr",
          "output_type": "stream",
          "text": [
            "\n"
          ]
        },
        {
          "name": "stdout",
          "output_type": "stream",
          "text": [
            "\n",
            "      Epoch    GPU_mem   box_loss   cls_loss   dfl_loss  Instances       Size\n"
          ]
        },
        {
          "name": "stderr",
          "output_type": "stream",
          "text": [
            "     32/100      13.7G      1.404      1.314      1.543         72        640: 100%|██████████| 42/42 [00:43<00:00,  1.02s/it]\n",
            "                 Class     Images  Instances      Box(P          R      mAP50  mAP50-95): 100%|██████████| 6/6 [00:06<00:00,  1.02s/it]"
          ]
        },
        {
          "name": "stdout",
          "output_type": "stream",
          "text": [
            "                   all        357        567      0.688      0.604      0.673      0.362\n"
          ]
        },
        {
          "name": "stderr",
          "output_type": "stream",
          "text": [
            "\n"
          ]
        },
        {
          "name": "stdout",
          "output_type": "stream",
          "text": [
            "\n",
            "      Epoch    GPU_mem   box_loss   cls_loss   dfl_loss  Instances       Size\n"
          ]
        },
        {
          "name": "stderr",
          "output_type": "stream",
          "text": [
            "     33/100      13.8G      1.373      1.277      1.518         67        640: 100%|██████████| 42/42 [00:43<00:00,  1.03s/it]\n",
            "                 Class     Images  Instances      Box(P          R      mAP50  mAP50-95): 100%|██████████| 6/6 [00:06<00:00,  1.03s/it]"
          ]
        },
        {
          "name": "stdout",
          "output_type": "stream",
          "text": [
            "                   all        357        567      0.713       0.61      0.678      0.371\n"
          ]
        },
        {
          "name": "stderr",
          "output_type": "stream",
          "text": [
            "\n"
          ]
        },
        {
          "name": "stdout",
          "output_type": "stream",
          "text": [
            "\n",
            "      Epoch    GPU_mem   box_loss   cls_loss   dfl_loss  Instances       Size\n"
          ]
        },
        {
          "name": "stderr",
          "output_type": "stream",
          "text": [
            "     34/100      14.3G      1.379      1.223      1.509         68        640: 100%|██████████| 42/42 [00:42<00:00,  1.02s/it]\n",
            "                 Class     Images  Instances      Box(P          R      mAP50  mAP50-95): 100%|██████████| 6/6 [00:06<00:00,  1.01s/it]"
          ]
        },
        {
          "name": "stdout",
          "output_type": "stream",
          "text": [
            "                   all        357        567      0.689      0.573      0.641      0.351\n"
          ]
        },
        {
          "name": "stderr",
          "output_type": "stream",
          "text": [
            "\n"
          ]
        },
        {
          "name": "stdout",
          "output_type": "stream",
          "text": [
            "\n",
            "      Epoch    GPU_mem   box_loss   cls_loss   dfl_loss  Instances       Size\n"
          ]
        },
        {
          "name": "stderr",
          "output_type": "stream",
          "text": [
            "     35/100      14.2G      1.339      1.244      1.498         81        640: 100%|██████████| 42/42 [00:43<00:00,  1.03s/it]\n",
            "                 Class     Images  Instances      Box(P          R      mAP50  mAP50-95): 100%|██████████| 6/6 [00:06<00:00,  1.01s/it]"
          ]
        },
        {
          "name": "stdout",
          "output_type": "stream",
          "text": [
            "                   all        357        567      0.711      0.589      0.662      0.359\n"
          ]
        },
        {
          "name": "stderr",
          "output_type": "stream",
          "text": [
            "\n"
          ]
        },
        {
          "name": "stdout",
          "output_type": "stream",
          "text": [
            "\n",
            "      Epoch    GPU_mem   box_loss   cls_loss   dfl_loss  Instances       Size\n"
          ]
        },
        {
          "name": "stderr",
          "output_type": "stream",
          "text": [
            "     36/100      14.2G       1.37       1.23      1.517         69        640: 100%|██████████| 42/42 [00:43<00:00,  1.03s/it]\n",
            "                 Class     Images  Instances      Box(P          R      mAP50  mAP50-95): 100%|██████████| 6/6 [00:05<00:00,  1.04it/s]"
          ]
        },
        {
          "name": "stdout",
          "output_type": "stream",
          "text": [
            "                   all        357        567      0.725       0.62      0.704      0.386\n"
          ]
        },
        {
          "name": "stderr",
          "output_type": "stream",
          "text": [
            "\n"
          ]
        },
        {
          "name": "stdout",
          "output_type": "stream",
          "text": [
            "\n",
            "      Epoch    GPU_mem   box_loss   cls_loss   dfl_loss  Instances       Size\n"
          ]
        },
        {
          "name": "stderr",
          "output_type": "stream",
          "text": [
            "     37/100      14.1G      1.358      1.217      1.517         49        640: 100%|██████████| 42/42 [00:43<00:00,  1.04s/it]\n",
            "                 Class     Images  Instances      Box(P          R      mAP50  mAP50-95): 100%|██████████| 6/6 [00:05<00:00,  1.07it/s]"
          ]
        },
        {
          "name": "stdout",
          "output_type": "stream",
          "text": [
            "                   all        357        567      0.811      0.569      0.696       0.39\n"
          ]
        },
        {
          "name": "stderr",
          "output_type": "stream",
          "text": [
            "\n"
          ]
        },
        {
          "name": "stdout",
          "output_type": "stream",
          "text": [
            "\n",
            "      Epoch    GPU_mem   box_loss   cls_loss   dfl_loss  Instances       Size\n"
          ]
        },
        {
          "name": "stderr",
          "output_type": "stream",
          "text": [
            "     38/100      14.3G      1.354      1.226      1.502         85        640: 100%|██████████| 42/42 [00:43<00:00,  1.03s/it]\n",
            "                 Class     Images  Instances      Box(P          R      mAP50  mAP50-95): 100%|██████████| 6/6 [00:05<00:00,  1.00it/s]"
          ]
        },
        {
          "name": "stdout",
          "output_type": "stream",
          "text": [
            "                   all        357        567      0.728      0.611      0.672      0.373\n"
          ]
        },
        {
          "name": "stderr",
          "output_type": "stream",
          "text": [
            "\n"
          ]
        },
        {
          "name": "stdout",
          "output_type": "stream",
          "text": [
            "\n",
            "      Epoch    GPU_mem   box_loss   cls_loss   dfl_loss  Instances       Size\n"
          ]
        },
        {
          "name": "stderr",
          "output_type": "stream",
          "text": [
            "     39/100      13.8G      1.343      1.198      1.504         80        640: 100%|██████████| 42/42 [00:42<00:00,  1.02s/it]\n",
            "                 Class     Images  Instances      Box(P          R      mAP50  mAP50-95): 100%|██████████| 6/6 [00:06<00:00,  1.03s/it]"
          ]
        },
        {
          "name": "stdout",
          "output_type": "stream",
          "text": [
            "                   all        357        567      0.678      0.617      0.657      0.356\n"
          ]
        },
        {
          "name": "stderr",
          "output_type": "stream",
          "text": [
            "\n"
          ]
        },
        {
          "name": "stdout",
          "output_type": "stream",
          "text": [
            "\n",
            "      Epoch    GPU_mem   box_loss   cls_loss   dfl_loss  Instances       Size\n"
          ]
        },
        {
          "name": "stderr",
          "output_type": "stream",
          "text": [
            "     40/100      13.8G      1.347      1.166      1.508         84        640: 100%|██████████| 42/42 [00:42<00:00,  1.02s/it]\n",
            "                 Class     Images  Instances      Box(P          R      mAP50  mAP50-95): 100%|██████████| 6/6 [00:05<00:00,  1.03it/s]"
          ]
        },
        {
          "name": "stdout",
          "output_type": "stream",
          "text": [
            "                   all        357        567      0.708      0.583      0.662      0.356\n"
          ]
        },
        {
          "name": "stderr",
          "output_type": "stream",
          "text": [
            "\n"
          ]
        },
        {
          "name": "stdout",
          "output_type": "stream",
          "text": [
            "\n",
            "      Epoch    GPU_mem   box_loss   cls_loss   dfl_loss  Instances       Size\n"
          ]
        },
        {
          "name": "stderr",
          "output_type": "stream",
          "text": [
            "     41/100      13.8G      1.311      1.176      1.479         78        640: 100%|██████████| 42/42 [00:43<00:00,  1.03s/it]\n",
            "                 Class     Images  Instances      Box(P          R      mAP50  mAP50-95): 100%|██████████| 6/6 [00:05<00:00,  1.06it/s]"
          ]
        },
        {
          "name": "stdout",
          "output_type": "stream",
          "text": [
            "                   all        357        567      0.753      0.608      0.702      0.385\n"
          ]
        },
        {
          "name": "stderr",
          "output_type": "stream",
          "text": [
            "\n"
          ]
        },
        {
          "name": "stdout",
          "output_type": "stream",
          "text": [
            "\n",
            "      Epoch    GPU_mem   box_loss   cls_loss   dfl_loss  Instances       Size\n"
          ]
        },
        {
          "name": "stderr",
          "output_type": "stream",
          "text": [
            "     42/100      13.8G      1.311      1.152      1.481         68        640: 100%|██████████| 42/42 [00:43<00:00,  1.03s/it]\n",
            "                 Class     Images  Instances      Box(P          R      mAP50  mAP50-95): 100%|██████████| 6/6 [00:05<00:00,  1.08it/s]"
          ]
        },
        {
          "name": "stdout",
          "output_type": "stream",
          "text": [
            "                   all        357        567      0.794      0.625      0.725      0.413\n"
          ]
        },
        {
          "name": "stderr",
          "output_type": "stream",
          "text": [
            "\n"
          ]
        },
        {
          "name": "stdout",
          "output_type": "stream",
          "text": [
            "\n",
            "      Epoch    GPU_mem   box_loss   cls_loss   dfl_loss  Instances       Size\n"
          ]
        },
        {
          "name": "stderr",
          "output_type": "stream",
          "text": [
            "     43/100      13.8G      1.298      1.117      1.457         66        640: 100%|██████████| 42/42 [00:43<00:00,  1.04s/it]\n",
            "                 Class     Images  Instances      Box(P          R      mAP50  mAP50-95): 100%|██████████| 6/6 [00:05<00:00,  1.05it/s]"
          ]
        },
        {
          "name": "stdout",
          "output_type": "stream",
          "text": [
            "                   all        357        567      0.765      0.595      0.726      0.419\n"
          ]
        },
        {
          "name": "stderr",
          "output_type": "stream",
          "text": [
            "\n"
          ]
        },
        {
          "name": "stdout",
          "output_type": "stream",
          "text": [
            "\n",
            "      Epoch    GPU_mem   box_loss   cls_loss   dfl_loss  Instances       Size\n"
          ]
        },
        {
          "name": "stderr",
          "output_type": "stream",
          "text": [
            "     44/100      13.8G      1.323       1.12      1.464         65        640: 100%|██████████| 42/42 [00:43<00:00,  1.03s/it]\n",
            "                 Class     Images  Instances      Box(P          R      mAP50  mAP50-95): 100%|██████████| 6/6 [00:05<00:00,  1.08it/s]"
          ]
        },
        {
          "name": "stdout",
          "output_type": "stream",
          "text": [
            "                   all        357        567      0.712       0.68      0.737      0.414\n"
          ]
        },
        {
          "name": "stderr",
          "output_type": "stream",
          "text": [
            "\n"
          ]
        },
        {
          "name": "stdout",
          "output_type": "stream",
          "text": [
            "\n",
            "      Epoch    GPU_mem   box_loss   cls_loss   dfl_loss  Instances       Size\n"
          ]
        },
        {
          "name": "stderr",
          "output_type": "stream",
          "text": [
            "     45/100      13.8G      1.284      1.079      1.464         76        640: 100%|██████████| 42/42 [00:43<00:00,  1.02s/it]\n",
            "                 Class     Images  Instances      Box(P          R      mAP50  mAP50-95): 100%|██████████| 6/6 [00:05<00:00,  1.08it/s]"
          ]
        },
        {
          "name": "stdout",
          "output_type": "stream",
          "text": [
            "                   all        357        567      0.756      0.674      0.741      0.438\n"
          ]
        },
        {
          "name": "stderr",
          "output_type": "stream",
          "text": [
            "\n"
          ]
        },
        {
          "name": "stdout",
          "output_type": "stream",
          "text": [
            "\n",
            "      Epoch    GPU_mem   box_loss   cls_loss   dfl_loss  Instances       Size\n"
          ]
        },
        {
          "name": "stderr",
          "output_type": "stream",
          "text": [
            "     46/100      13.8G       1.27      1.089      1.453         69        640: 100%|██████████| 42/42 [00:43<00:00,  1.03s/it]\n",
            "                 Class     Images  Instances      Box(P          R      mAP50  mAP50-95): 100%|██████████| 6/6 [00:05<00:00,  1.10it/s]"
          ]
        },
        {
          "name": "stdout",
          "output_type": "stream",
          "text": [
            "                   all        357        567      0.747      0.681      0.744      0.436\n"
          ]
        },
        {
          "name": "stderr",
          "output_type": "stream",
          "text": [
            "\n"
          ]
        },
        {
          "name": "stdout",
          "output_type": "stream",
          "text": [
            "\n",
            "      Epoch    GPU_mem   box_loss   cls_loss   dfl_loss  Instances       Size\n"
          ]
        },
        {
          "name": "stderr",
          "output_type": "stream",
          "text": [
            "     47/100      13.8G      1.269      1.074      1.439         76        640: 100%|██████████| 42/42 [00:43<00:00,  1.02s/it]\n",
            "                 Class     Images  Instances      Box(P          R      mAP50  mAP50-95): 100%|██████████| 6/6 [00:05<00:00,  1.06it/s]"
          ]
        },
        {
          "name": "stdout",
          "output_type": "stream",
          "text": [
            "                   all        357        567      0.711      0.567      0.662       0.38\n"
          ]
        },
        {
          "name": "stderr",
          "output_type": "stream",
          "text": [
            "\n"
          ]
        },
        {
          "name": "stdout",
          "output_type": "stream",
          "text": [
            "\n",
            "      Epoch    GPU_mem   box_loss   cls_loss   dfl_loss  Instances       Size\n"
          ]
        },
        {
          "name": "stderr",
          "output_type": "stream",
          "text": [
            "     48/100      13.8G      1.247      1.045      1.428         64        640: 100%|██████████| 42/42 [00:43<00:00,  1.03s/it]\n",
            "                 Class     Images  Instances      Box(P          R      mAP50  mAP50-95): 100%|██████████| 6/6 [00:05<00:00,  1.00it/s]"
          ]
        },
        {
          "name": "stdout",
          "output_type": "stream",
          "text": [
            "                   all        357        567      0.718      0.698      0.745       0.43\n"
          ]
        },
        {
          "name": "stderr",
          "output_type": "stream",
          "text": [
            "\n"
          ]
        },
        {
          "name": "stdout",
          "output_type": "stream",
          "text": [
            "\n",
            "      Epoch    GPU_mem   box_loss   cls_loss   dfl_loss  Instances       Size\n"
          ]
        },
        {
          "name": "stderr",
          "output_type": "stream",
          "text": [
            "     49/100      13.8G      1.232      1.032      1.406         51        640: 100%|██████████| 42/42 [00:42<00:00,  1.02s/it]\n",
            "                 Class     Images  Instances      Box(P          R      mAP50  mAP50-95): 100%|██████████| 6/6 [00:06<00:00,  1.00s/it]"
          ]
        },
        {
          "name": "stdout",
          "output_type": "stream",
          "text": [
            "                   all        357        567      0.759      0.706      0.785      0.452\n"
          ]
        },
        {
          "name": "stderr",
          "output_type": "stream",
          "text": [
            "\n"
          ]
        },
        {
          "name": "stdout",
          "output_type": "stream",
          "text": [
            "\n",
            "      Epoch    GPU_mem   box_loss   cls_loss   dfl_loss  Instances       Size\n"
          ]
        },
        {
          "name": "stderr",
          "output_type": "stream",
          "text": [
            "     50/100      13.8G       1.25      1.049      1.425         74        640: 100%|██████████| 42/42 [00:42<00:00,  1.02s/it]\n",
            "                 Class     Images  Instances      Box(P          R      mAP50  mAP50-95): 100%|██████████| 6/6 [00:05<00:00,  1.00it/s]"
          ]
        },
        {
          "name": "stdout",
          "output_type": "stream",
          "text": [
            "                   all        357        567      0.748      0.673      0.752      0.434\n"
          ]
        },
        {
          "name": "stderr",
          "output_type": "stream",
          "text": [
            "\n"
          ]
        },
        {
          "name": "stdout",
          "output_type": "stream",
          "text": [
            "\n",
            "      Epoch    GPU_mem   box_loss   cls_loss   dfl_loss  Instances       Size\n"
          ]
        },
        {
          "name": "stderr",
          "output_type": "stream",
          "text": [
            "     51/100      13.8G      1.249      1.044      1.431         57        640: 100%|██████████| 42/42 [00:42<00:00,  1.02s/it]\n",
            "                 Class     Images  Instances      Box(P          R      mAP50  mAP50-95): 100%|██████████| 6/6 [00:06<00:00,  1.03s/it]"
          ]
        },
        {
          "name": "stdout",
          "output_type": "stream",
          "text": [
            "                   all        357        567      0.803      0.663      0.762      0.446\n"
          ]
        },
        {
          "name": "stderr",
          "output_type": "stream",
          "text": [
            "\n"
          ]
        },
        {
          "name": "stdout",
          "output_type": "stream",
          "text": [
            "\n",
            "      Epoch    GPU_mem   box_loss   cls_loss   dfl_loss  Instances       Size\n"
          ]
        },
        {
          "name": "stderr",
          "output_type": "stream",
          "text": [
            "     52/100      13.8G      1.227       1.03      1.411         67        640: 100%|██████████| 42/42 [00:42<00:00,  1.01s/it]\n",
            "                 Class     Images  Instances      Box(P          R      mAP50  mAP50-95): 100%|██████████| 6/6 [00:05<00:00,  1.06it/s]"
          ]
        },
        {
          "name": "stdout",
          "output_type": "stream",
          "text": [
            "                   all        357        567      0.769      0.719      0.781      0.451\n"
          ]
        },
        {
          "name": "stderr",
          "output_type": "stream",
          "text": [
            "\n"
          ]
        },
        {
          "name": "stdout",
          "output_type": "stream",
          "text": [
            "\n",
            "      Epoch    GPU_mem   box_loss   cls_loss   dfl_loss  Instances       Size\n"
          ]
        },
        {
          "name": "stderr",
          "output_type": "stream",
          "text": [
            "     53/100      13.8G      1.237      1.022      1.421         94        640: 100%|██████████| 42/42 [00:42<00:00,  1.02s/it]\n",
            "                 Class     Images  Instances      Box(P          R      mAP50  mAP50-95): 100%|██████████| 6/6 [00:05<00:00,  1.02it/s]"
          ]
        },
        {
          "name": "stdout",
          "output_type": "stream",
          "text": [
            "                   all        357        567      0.758      0.679      0.747      0.442\n"
          ]
        },
        {
          "name": "stderr",
          "output_type": "stream",
          "text": [
            "\n"
          ]
        },
        {
          "name": "stdout",
          "output_type": "stream",
          "text": [
            "\n",
            "      Epoch    GPU_mem   box_loss   cls_loss   dfl_loss  Instances       Size\n"
          ]
        },
        {
          "name": "stderr",
          "output_type": "stream",
          "text": [
            "     54/100      13.8G      1.215     0.9942      1.404         69        640: 100%|██████████| 42/42 [00:43<00:00,  1.03s/it]\n",
            "                 Class     Images  Instances      Box(P          R      mAP50  mAP50-95): 100%|██████████| 6/6 [00:05<00:00,  1.04it/s]"
          ]
        },
        {
          "name": "stdout",
          "output_type": "stream",
          "text": [
            "                   all        357        567      0.751      0.678      0.744      0.439\n"
          ]
        },
        {
          "name": "stderr",
          "output_type": "stream",
          "text": [
            "\n"
          ]
        },
        {
          "name": "stdout",
          "output_type": "stream",
          "text": [
            "\n",
            "      Epoch    GPU_mem   box_loss   cls_loss   dfl_loss  Instances       Size\n"
          ]
        },
        {
          "name": "stderr",
          "output_type": "stream",
          "text": [
            "     55/100      13.7G       1.19     0.9771      1.393         75        640: 100%|██████████| 42/42 [00:43<00:00,  1.02s/it]\n",
            "                 Class     Images  Instances      Box(P          R      mAP50  mAP50-95): 100%|██████████| 6/6 [00:05<00:00,  1.09it/s]"
          ]
        },
        {
          "name": "stdout",
          "output_type": "stream",
          "text": [
            "                   all        357        567      0.739      0.657      0.727      0.428\n"
          ]
        },
        {
          "name": "stderr",
          "output_type": "stream",
          "text": [
            "\n"
          ]
        },
        {
          "name": "stdout",
          "output_type": "stream",
          "text": [
            "\n",
            "      Epoch    GPU_mem   box_loss   cls_loss   dfl_loss  Instances       Size\n"
          ]
        },
        {
          "name": "stderr",
          "output_type": "stream",
          "text": [
            "     56/100      13.8G      1.219     0.9776      1.389         65        640: 100%|██████████| 42/42 [00:42<00:00,  1.02s/it]\n",
            "                 Class     Images  Instances      Box(P          R      mAP50  mAP50-95): 100%|██████████| 6/6 [00:05<00:00,  1.11it/s]"
          ]
        },
        {
          "name": "stdout",
          "output_type": "stream",
          "text": [
            "                   all        357        567      0.795      0.614       0.73      0.421\n"
          ]
        },
        {
          "name": "stderr",
          "output_type": "stream",
          "text": [
            "\n"
          ]
        },
        {
          "name": "stdout",
          "output_type": "stream",
          "text": [
            "\n",
            "      Epoch    GPU_mem   box_loss   cls_loss   dfl_loss  Instances       Size\n"
          ]
        },
        {
          "name": "stderr",
          "output_type": "stream",
          "text": [
            "     57/100      13.8G      1.181      0.974       1.37         67        640: 100%|██████████| 42/42 [00:43<00:00,  1.02s/it]\n",
            "                 Class     Images  Instances      Box(P          R      mAP50  mAP50-95): 100%|██████████| 6/6 [00:05<00:00,  1.02it/s]"
          ]
        },
        {
          "name": "stdout",
          "output_type": "stream",
          "text": [
            "                   all        357        567      0.812      0.688      0.783      0.467\n"
          ]
        },
        {
          "name": "stderr",
          "output_type": "stream",
          "text": [
            "\n"
          ]
        },
        {
          "name": "stdout",
          "output_type": "stream",
          "text": [
            "\n",
            "      Epoch    GPU_mem   box_loss   cls_loss   dfl_loss  Instances       Size\n"
          ]
        },
        {
          "name": "stderr",
          "output_type": "stream",
          "text": [
            "     58/100      13.8G       1.18     0.9542      1.375         63        640: 100%|██████████| 42/42 [00:43<00:00,  1.02s/it]\n",
            "                 Class     Images  Instances      Box(P          R      mAP50  mAP50-95): 100%|██████████| 6/6 [00:06<00:00,  1.01s/it]"
          ]
        },
        {
          "name": "stdout",
          "output_type": "stream",
          "text": [
            "                   all        357        567      0.777      0.679      0.755      0.448\n"
          ]
        },
        {
          "name": "stderr",
          "output_type": "stream",
          "text": [
            "\n"
          ]
        },
        {
          "name": "stdout",
          "output_type": "stream",
          "text": [
            "\n",
            "      Epoch    GPU_mem   box_loss   cls_loss   dfl_loss  Instances       Size\n"
          ]
        },
        {
          "name": "stderr",
          "output_type": "stream",
          "text": [
            "     59/100      13.8G      1.181     0.9289      1.368         78        640: 100%|██████████| 42/42 [00:43<00:00,  1.04s/it]\n",
            "                 Class     Images  Instances      Box(P          R      mAP50  mAP50-95): 100%|██████████| 6/6 [00:05<00:00,  1.00it/s]"
          ]
        },
        {
          "name": "stdout",
          "output_type": "stream",
          "text": [
            "                   all        357        567      0.862       0.66      0.796      0.462\n"
          ]
        },
        {
          "name": "stderr",
          "output_type": "stream",
          "text": [
            "\n"
          ]
        },
        {
          "name": "stdout",
          "output_type": "stream",
          "text": [
            "\n",
            "      Epoch    GPU_mem   box_loss   cls_loss   dfl_loss  Instances       Size\n"
          ]
        },
        {
          "name": "stderr",
          "output_type": "stream",
          "text": [
            "     60/100      13.8G      1.164     0.9328      1.368         75        640: 100%|██████████| 42/42 [00:43<00:00,  1.02s/it]\n",
            "                 Class     Images  Instances      Box(P          R      mAP50  mAP50-95): 100%|██████████| 6/6 [00:05<00:00,  1.00it/s]"
          ]
        },
        {
          "name": "stdout",
          "output_type": "stream",
          "text": [
            "                   all        357        567      0.758      0.727      0.775      0.466\n"
          ]
        },
        {
          "name": "stderr",
          "output_type": "stream",
          "text": [
            "\n"
          ]
        },
        {
          "name": "stdout",
          "output_type": "stream",
          "text": [
            "\n",
            "      Epoch    GPU_mem   box_loss   cls_loss   dfl_loss  Instances       Size\n"
          ]
        },
        {
          "name": "stderr",
          "output_type": "stream",
          "text": [
            "     61/100      13.8G      1.152     0.9485      1.361         59        640: 100%|██████████| 42/42 [00:43<00:00,  1.03s/it]\n",
            "                 Class     Images  Instances      Box(P          R      mAP50  mAP50-95): 100%|██████████| 6/6 [00:06<00:00,  1.04s/it]"
          ]
        },
        {
          "name": "stdout",
          "output_type": "stream",
          "text": [
            "                   all        357        567      0.801      0.691      0.796      0.466\n"
          ]
        },
        {
          "name": "stderr",
          "output_type": "stream",
          "text": [
            "\n"
          ]
        },
        {
          "name": "stdout",
          "output_type": "stream",
          "text": [
            "\n",
            "      Epoch    GPU_mem   box_loss   cls_loss   dfl_loss  Instances       Size\n"
          ]
        },
        {
          "name": "stderr",
          "output_type": "stream",
          "text": [
            "     62/100      14.6G       1.13     0.8856       1.34         90        640: 100%|██████████| 42/42 [00:42<00:00,  1.02s/it]\n",
            "                 Class     Images  Instances      Box(P          R      mAP50  mAP50-95): 100%|██████████| 6/6 [00:05<00:00,  1.04it/s]"
          ]
        },
        {
          "name": "stdout",
          "output_type": "stream",
          "text": [
            "                   all        357        567      0.755      0.685      0.759      0.448\n"
          ]
        },
        {
          "name": "stderr",
          "output_type": "stream",
          "text": [
            "\n"
          ]
        },
        {
          "name": "stdout",
          "output_type": "stream",
          "text": [
            "\n",
            "      Epoch    GPU_mem   box_loss   cls_loss   dfl_loss  Instances       Size\n"
          ]
        },
        {
          "name": "stderr",
          "output_type": "stream",
          "text": [
            "     63/100      14.2G      1.141     0.8776      1.349         48        640: 100%|██████████| 42/42 [00:42<00:00,  1.02s/it]\n",
            "                 Class     Images  Instances      Box(P          R      mAP50  mAP50-95): 100%|██████████| 6/6 [00:05<00:00,  1.11it/s]"
          ]
        },
        {
          "name": "stdout",
          "output_type": "stream",
          "text": [
            "                   all        357        567      0.769      0.681       0.77      0.458\n"
          ]
        },
        {
          "name": "stderr",
          "output_type": "stream",
          "text": [
            "\n"
          ]
        },
        {
          "name": "stdout",
          "output_type": "stream",
          "text": [
            "\n",
            "      Epoch    GPU_mem   box_loss   cls_loss   dfl_loss  Instances       Size\n"
          ]
        },
        {
          "name": "stderr",
          "output_type": "stream",
          "text": [
            "     64/100      13.8G      1.139     0.8817      1.344         81        640: 100%|██████████| 42/42 [00:42<00:00,  1.02s/it]\n",
            "                 Class     Images  Instances      Box(P          R      mAP50  mAP50-95): 100%|██████████| 6/6 [00:05<00:00,  1.11it/s]"
          ]
        },
        {
          "name": "stdout",
          "output_type": "stream",
          "text": [
            "                   all        357        567      0.818      0.705        0.8      0.478\n"
          ]
        },
        {
          "name": "stderr",
          "output_type": "stream",
          "text": [
            "\n"
          ]
        },
        {
          "name": "stdout",
          "output_type": "stream",
          "text": [
            "\n",
            "      Epoch    GPU_mem   box_loss   cls_loss   dfl_loss  Instances       Size\n"
          ]
        },
        {
          "name": "stderr",
          "output_type": "stream",
          "text": [
            "     65/100      13.8G      1.124     0.8877      1.339         70        640: 100%|██████████| 42/42 [00:43<00:00,  1.02s/it]\n",
            "                 Class     Images  Instances      Box(P          R      mAP50  mAP50-95): 100%|██████████| 6/6 [00:05<00:00,  1.00it/s]"
          ]
        },
        {
          "name": "stdout",
          "output_type": "stream",
          "text": [
            "                   all        357        567       0.83       0.71      0.808      0.475\n"
          ]
        },
        {
          "name": "stderr",
          "output_type": "stream",
          "text": [
            "\n"
          ]
        },
        {
          "name": "stdout",
          "output_type": "stream",
          "text": [
            "\n",
            "      Epoch    GPU_mem   box_loss   cls_loss   dfl_loss  Instances       Size\n"
          ]
        },
        {
          "name": "stderr",
          "output_type": "stream",
          "text": [
            "     66/100      13.8G      1.122     0.8665      1.323         50        640: 100%|██████████| 42/42 [00:42<00:00,  1.01s/it]\n",
            "                 Class     Images  Instances      Box(P          R      mAP50  mAP50-95): 100%|██████████| 6/6 [00:05<00:00,  1.04it/s]"
          ]
        },
        {
          "name": "stdout",
          "output_type": "stream",
          "text": [
            "                   all        357        567      0.759      0.734      0.787      0.475\n"
          ]
        },
        {
          "name": "stderr",
          "output_type": "stream",
          "text": [
            "\n"
          ]
        },
        {
          "name": "stdout",
          "output_type": "stream",
          "text": [
            "\n",
            "      Epoch    GPU_mem   box_loss   cls_loss   dfl_loss  Instances       Size\n"
          ]
        },
        {
          "name": "stderr",
          "output_type": "stream",
          "text": [
            "     67/100      13.8G      1.112     0.8692       1.33         67        640: 100%|██████████| 42/42 [00:42<00:00,  1.02s/it]\n",
            "                 Class     Images  Instances      Box(P          R      mAP50  mAP50-95): 100%|██████████| 6/6 [00:05<00:00,  1.01it/s]"
          ]
        },
        {
          "name": "stdout",
          "output_type": "stream",
          "text": [
            "                   all        357        567      0.809      0.719      0.803      0.488\n"
          ]
        },
        {
          "name": "stderr",
          "output_type": "stream",
          "text": [
            "\n"
          ]
        },
        {
          "name": "stdout",
          "output_type": "stream",
          "text": [
            "\n",
            "      Epoch    GPU_mem   box_loss   cls_loss   dfl_loss  Instances       Size\n"
          ]
        },
        {
          "name": "stderr",
          "output_type": "stream",
          "text": [
            "     68/100      13.7G      1.095     0.8584      1.319         83        640: 100%|██████████| 42/42 [00:43<00:00,  1.03s/it]\n",
            "                 Class     Images  Instances      Box(P          R      mAP50  mAP50-95): 100%|██████████| 6/6 [00:05<00:00,  1.10it/s]"
          ]
        },
        {
          "name": "stdout",
          "output_type": "stream",
          "text": [
            "                   all        357        567      0.806      0.701      0.788      0.479\n"
          ]
        },
        {
          "name": "stderr",
          "output_type": "stream",
          "text": [
            "\n"
          ]
        },
        {
          "name": "stdout",
          "output_type": "stream",
          "text": [
            "\n",
            "      Epoch    GPU_mem   box_loss   cls_loss   dfl_loss  Instances       Size\n"
          ]
        },
        {
          "name": "stderr",
          "output_type": "stream",
          "text": [
            "     69/100      13.8G      1.085     0.8417      1.308         58        640: 100%|██████████| 42/42 [00:42<00:00,  1.02s/it]\n",
            "                 Class     Images  Instances      Box(P          R      mAP50  mAP50-95): 100%|██████████| 6/6 [00:05<00:00,  1.11it/s]"
          ]
        },
        {
          "name": "stdout",
          "output_type": "stream",
          "text": [
            "                   all        357        567      0.792      0.768      0.823      0.489\n"
          ]
        },
        {
          "name": "stderr",
          "output_type": "stream",
          "text": [
            "\n"
          ]
        },
        {
          "name": "stdout",
          "output_type": "stream",
          "text": [
            "\n",
            "      Epoch    GPU_mem   box_loss   cls_loss   dfl_loss  Instances       Size\n"
          ]
        },
        {
          "name": "stderr",
          "output_type": "stream",
          "text": [
            "     70/100      13.8G       1.09     0.8333      1.315         63        640: 100%|██████████| 42/42 [00:42<00:00,  1.02s/it]\n",
            "                 Class     Images  Instances      Box(P          R      mAP50  mAP50-95): 100%|██████████| 6/6 [00:05<00:00,  1.10it/s]"
          ]
        },
        {
          "name": "stdout",
          "output_type": "stream",
          "text": [
            "                   all        357        567      0.823      0.739      0.811      0.493\n"
          ]
        },
        {
          "name": "stderr",
          "output_type": "stream",
          "text": [
            "\n"
          ]
        },
        {
          "name": "stdout",
          "output_type": "stream",
          "text": [
            "\n",
            "      Epoch    GPU_mem   box_loss   cls_loss   dfl_loss  Instances       Size\n"
          ]
        },
        {
          "name": "stderr",
          "output_type": "stream",
          "text": [
            "     71/100      13.8G      1.092     0.8354        1.3         57        640: 100%|██████████| 42/42 [00:43<00:00,  1.02s/it]\n",
            "                 Class     Images  Instances      Box(P          R      mAP50  mAP50-95): 100%|██████████| 6/6 [00:05<00:00,  1.05it/s]"
          ]
        },
        {
          "name": "stdout",
          "output_type": "stream",
          "text": [
            "                   all        357        567      0.877      0.706      0.829      0.489\n"
          ]
        },
        {
          "name": "stderr",
          "output_type": "stream",
          "text": [
            "\n"
          ]
        },
        {
          "name": "stdout",
          "output_type": "stream",
          "text": [
            "\n",
            "      Epoch    GPU_mem   box_loss   cls_loss   dfl_loss  Instances       Size\n"
          ]
        },
        {
          "name": "stderr",
          "output_type": "stream",
          "text": [
            "     72/100      13.7G      1.114     0.8589      1.343         70        640: 100%|██████████| 42/42 [00:43<00:00,  1.03s/it]\n",
            "                 Class     Images  Instances      Box(P          R      mAP50  mAP50-95): 100%|██████████| 6/6 [00:05<00:00,  1.11it/s]"
          ]
        },
        {
          "name": "stdout",
          "output_type": "stream",
          "text": [
            "                   all        357        567      0.798      0.739      0.816      0.491\n"
          ]
        },
        {
          "name": "stderr",
          "output_type": "stream",
          "text": [
            "\n"
          ]
        },
        {
          "name": "stdout",
          "output_type": "stream",
          "text": [
            "\n",
            "      Epoch    GPU_mem   box_loss   cls_loss   dfl_loss  Instances       Size\n"
          ]
        },
        {
          "name": "stderr",
          "output_type": "stream",
          "text": [
            "     73/100      13.8G      1.054     0.7987      1.284         59        640: 100%|██████████| 42/42 [00:42<00:00,  1.02s/it]\n",
            "                 Class     Images  Instances      Box(P          R      mAP50  mAP50-95): 100%|██████████| 6/6 [00:05<00:00,  1.04it/s]"
          ]
        },
        {
          "name": "stdout",
          "output_type": "stream",
          "text": [
            "                   all        357        567      0.819       0.74      0.823      0.495\n"
          ]
        },
        {
          "name": "stderr",
          "output_type": "stream",
          "text": [
            "\n"
          ]
        },
        {
          "name": "stdout",
          "output_type": "stream",
          "text": [
            "\n",
            "      Epoch    GPU_mem   box_loss   cls_loss   dfl_loss  Instances       Size\n"
          ]
        },
        {
          "name": "stderr",
          "output_type": "stream",
          "text": [
            "     74/100      13.8G      1.054     0.7843      1.282         60        640: 100%|██████████| 42/42 [00:43<00:00,  1.02s/it]\n",
            "                 Class     Images  Instances      Box(P          R      mAP50  mAP50-95): 100%|██████████| 6/6 [00:05<00:00,  1.00it/s]"
          ]
        },
        {
          "name": "stdout",
          "output_type": "stream",
          "text": [
            "                   all        357        567      0.807      0.747      0.811      0.488\n"
          ]
        },
        {
          "name": "stderr",
          "output_type": "stream",
          "text": [
            "\n"
          ]
        },
        {
          "name": "stdout",
          "output_type": "stream",
          "text": [
            "\n",
            "      Epoch    GPU_mem   box_loss   cls_loss   dfl_loss  Instances       Size\n"
          ]
        },
        {
          "name": "stderr",
          "output_type": "stream",
          "text": [
            "     75/100      14.2G      1.057      0.799      1.283         55        640: 100%|██████████| 42/42 [00:43<00:00,  1.02s/it]\n",
            "                 Class     Images  Instances      Box(P          R      mAP50  mAP50-95): 100%|██████████| 6/6 [00:05<00:00,  1.02it/s]"
          ]
        },
        {
          "name": "stdout",
          "output_type": "stream",
          "text": [
            "                   all        357        567      0.863      0.713      0.817      0.493\n"
          ]
        },
        {
          "name": "stderr",
          "output_type": "stream",
          "text": [
            "\n"
          ]
        },
        {
          "name": "stdout",
          "output_type": "stream",
          "text": [
            "\n",
            "      Epoch    GPU_mem   box_loss   cls_loss   dfl_loss  Instances       Size\n"
          ]
        },
        {
          "name": "stderr",
          "output_type": "stream",
          "text": [
            "     76/100      13.7G      1.026     0.7907      1.264         84        640: 100%|██████████| 42/42 [00:43<00:00,  1.03s/it]\n",
            "                 Class     Images  Instances      Box(P          R      mAP50  mAP50-95): 100%|██████████| 6/6 [00:06<00:00,  1.05s/it]"
          ]
        },
        {
          "name": "stdout",
          "output_type": "stream",
          "text": [
            "                   all        357        567      0.815       0.72      0.815      0.507\n"
          ]
        },
        {
          "name": "stderr",
          "output_type": "stream",
          "text": [
            "\n"
          ]
        },
        {
          "name": "stdout",
          "output_type": "stream",
          "text": [
            "\n",
            "      Epoch    GPU_mem   box_loss   cls_loss   dfl_loss  Instances       Size\n"
          ]
        },
        {
          "name": "stderr",
          "output_type": "stream",
          "text": [
            "     77/100      13.8G       1.05     0.7735      1.285         84        640: 100%|██████████| 42/42 [00:43<00:00,  1.03s/it]\n",
            "                 Class     Images  Instances      Box(P          R      mAP50  mAP50-95): 100%|██████████| 6/6 [00:05<00:00,  1.04it/s]"
          ]
        },
        {
          "name": "stdout",
          "output_type": "stream",
          "text": [
            "                   all        357        567      0.833      0.709      0.814      0.502\n"
          ]
        },
        {
          "name": "stderr",
          "output_type": "stream",
          "text": [
            "\n"
          ]
        },
        {
          "name": "stdout",
          "output_type": "stream",
          "text": [
            "\n",
            "      Epoch    GPU_mem   box_loss   cls_loss   dfl_loss  Instances       Size\n"
          ]
        },
        {
          "name": "stderr",
          "output_type": "stream",
          "text": [
            "     78/100      14.1G      1.006     0.7734      1.258         73        640: 100%|██████████| 42/42 [00:42<00:00,  1.02s/it]\n",
            "                 Class     Images  Instances      Box(P          R      mAP50  mAP50-95): 100%|██████████| 6/6 [00:05<00:00,  1.09it/s]"
          ]
        },
        {
          "name": "stdout",
          "output_type": "stream",
          "text": [
            "                   all        357        567       0.83      0.761      0.843      0.504\n"
          ]
        },
        {
          "name": "stderr",
          "output_type": "stream",
          "text": [
            "\n"
          ]
        },
        {
          "name": "stdout",
          "output_type": "stream",
          "text": [
            "\n",
            "      Epoch    GPU_mem   box_loss   cls_loss   dfl_loss  Instances       Size\n"
          ]
        },
        {
          "name": "stderr",
          "output_type": "stream",
          "text": [
            "     79/100      14.3G      1.016     0.7481      1.254         54        640: 100%|██████████| 42/42 [00:43<00:00,  1.03s/it]\n",
            "                 Class     Images  Instances      Box(P          R      mAP50  mAP50-95): 100%|██████████| 6/6 [00:06<00:00,  1.00s/it]"
          ]
        },
        {
          "name": "stdout",
          "output_type": "stream",
          "text": [
            "                   all        357        567      0.849      0.752      0.834      0.499\n"
          ]
        },
        {
          "name": "stderr",
          "output_type": "stream",
          "text": [
            "\n"
          ]
        },
        {
          "name": "stdout",
          "output_type": "stream",
          "text": [
            "\n",
            "      Epoch    GPU_mem   box_loss   cls_loss   dfl_loss  Instances       Size\n"
          ]
        },
        {
          "name": "stderr",
          "output_type": "stream",
          "text": [
            "     80/100      14.3G      1.013     0.7405      1.252         81        640: 100%|██████████| 42/42 [00:43<00:00,  1.03s/it]\n",
            "                 Class     Images  Instances      Box(P          R      mAP50  mAP50-95): 100%|██████████| 6/6 [00:05<00:00,  1.02it/s]"
          ]
        },
        {
          "name": "stdout",
          "output_type": "stream",
          "text": [
            "                   all        357        567      0.734      0.802      0.819      0.507\n"
          ]
        },
        {
          "name": "stderr",
          "output_type": "stream",
          "text": [
            "\n"
          ]
        },
        {
          "name": "stdout",
          "output_type": "stream",
          "text": [
            "\n",
            "      Epoch    GPU_mem   box_loss   cls_loss   dfl_loss  Instances       Size\n"
          ]
        },
        {
          "name": "stderr",
          "output_type": "stream",
          "text": [
            "     81/100      14.2G     0.9905     0.7285      1.248         86        640: 100%|██████████| 42/42 [00:43<00:00,  1.03s/it]\n",
            "                 Class     Images  Instances      Box(P          R      mAP50  mAP50-95): 100%|██████████| 6/6 [00:05<00:00,  1.01it/s]"
          ]
        },
        {
          "name": "stdout",
          "output_type": "stream",
          "text": [
            "                   all        357        567      0.842      0.728      0.826      0.509\n"
          ]
        },
        {
          "name": "stderr",
          "output_type": "stream",
          "text": [
            "\n"
          ]
        },
        {
          "name": "stdout",
          "output_type": "stream",
          "text": [
            "\n",
            "      Epoch    GPU_mem   box_loss   cls_loss   dfl_loss  Instances       Size\n"
          ]
        },
        {
          "name": "stderr",
          "output_type": "stream",
          "text": [
            "     82/100      14.3G      1.001      0.727      1.244         61        640: 100%|██████████| 42/42 [00:43<00:00,  1.03s/it]\n",
            "                 Class     Images  Instances      Box(P          R      mAP50  mAP50-95): 100%|██████████| 6/6 [00:05<00:00,  1.05it/s]"
          ]
        },
        {
          "name": "stdout",
          "output_type": "stream",
          "text": [
            "                   all        357        567       0.83      0.733      0.823      0.509\n"
          ]
        },
        {
          "name": "stderr",
          "output_type": "stream",
          "text": [
            "\n"
          ]
        },
        {
          "name": "stdout",
          "output_type": "stream",
          "text": [
            "\n",
            "      Epoch    GPU_mem   box_loss   cls_loss   dfl_loss  Instances       Size\n"
          ]
        },
        {
          "name": "stderr",
          "output_type": "stream",
          "text": [
            "     83/100      13.8G      1.015     0.7534      1.259         62        640: 100%|██████████| 42/42 [00:42<00:00,  1.02s/it]\n",
            "                 Class     Images  Instances      Box(P          R      mAP50  mAP50-95): 100%|██████████| 6/6 [00:05<00:00,  1.05it/s]"
          ]
        },
        {
          "name": "stdout",
          "output_type": "stream",
          "text": [
            "                   all        357        567       0.84      0.711      0.815      0.489\n"
          ]
        },
        {
          "name": "stderr",
          "output_type": "stream",
          "text": [
            "\n"
          ]
        },
        {
          "name": "stdout",
          "output_type": "stream",
          "text": [
            "\n",
            "      Epoch    GPU_mem   box_loss   cls_loss   dfl_loss  Instances       Size\n"
          ]
        },
        {
          "name": "stderr",
          "output_type": "stream",
          "text": [
            "     84/100      13.8G     0.9828     0.7105      1.241         69        640: 100%|██████████| 42/42 [00:43<00:00,  1.03s/it]\n",
            "                 Class     Images  Instances      Box(P          R      mAP50  mAP50-95): 100%|██████████| 6/6 [00:05<00:00,  1.01it/s]"
          ]
        },
        {
          "name": "stdout",
          "output_type": "stream",
          "text": [
            "                   all        357        567       0.79      0.779      0.829      0.497\n"
          ]
        },
        {
          "name": "stderr",
          "output_type": "stream",
          "text": [
            "\n"
          ]
        },
        {
          "name": "stdout",
          "output_type": "stream",
          "text": [
            "\n",
            "      Epoch    GPU_mem   box_loss   cls_loss   dfl_loss  Instances       Size\n"
          ]
        },
        {
          "name": "stderr",
          "output_type": "stream",
          "text": [
            "     85/100      13.8G      0.963     0.7195      1.226         70        640: 100%|██████████| 42/42 [00:42<00:00,  1.02s/it]\n",
            "                 Class     Images  Instances      Box(P          R      mAP50  mAP50-95): 100%|██████████| 6/6 [00:05<00:00,  1.01it/s]"
          ]
        },
        {
          "name": "stdout",
          "output_type": "stream",
          "text": [
            "                   all        357        567       0.85      0.771      0.848      0.523\n"
          ]
        },
        {
          "name": "stderr",
          "output_type": "stream",
          "text": [
            "\n"
          ]
        },
        {
          "name": "stdout",
          "output_type": "stream",
          "text": [
            "\n",
            "      Epoch    GPU_mem   box_loss   cls_loss   dfl_loss  Instances       Size\n"
          ]
        },
        {
          "name": "stderr",
          "output_type": "stream",
          "text": [
            "     86/100      13.8G     0.9647     0.6911      1.234         73        640: 100%|██████████| 42/42 [00:43<00:00,  1.03s/it]\n",
            "                 Class     Images  Instances      Box(P          R      mAP50  mAP50-95): 100%|██████████| 6/6 [00:05<00:00,  1.05it/s]"
          ]
        },
        {
          "name": "stdout",
          "output_type": "stream",
          "text": [
            "                   all        357        567      0.837      0.795      0.845      0.522\n"
          ]
        },
        {
          "name": "stderr",
          "output_type": "stream",
          "text": [
            "\n"
          ]
        },
        {
          "name": "stdout",
          "output_type": "stream",
          "text": [
            "\n",
            "      Epoch    GPU_mem   box_loss   cls_loss   dfl_loss  Instances       Size\n"
          ]
        },
        {
          "name": "stderr",
          "output_type": "stream",
          "text": [
            "     87/100      13.8G     0.9559      0.703      1.226         70        640: 100%|██████████| 42/42 [00:42<00:00,  1.02s/it]\n",
            "                 Class     Images  Instances      Box(P          R      mAP50  mAP50-95): 100%|██████████| 6/6 [00:06<00:00,  1.09s/it]"
          ]
        },
        {
          "name": "stdout",
          "output_type": "stream",
          "text": [
            "                   all        357        567       0.85      0.747      0.835      0.503\n"
          ]
        },
        {
          "name": "stderr",
          "output_type": "stream",
          "text": [
            "\n"
          ]
        },
        {
          "name": "stdout",
          "output_type": "stream",
          "text": [
            "\n",
            "      Epoch    GPU_mem   box_loss   cls_loss   dfl_loss  Instances       Size\n"
          ]
        },
        {
          "name": "stderr",
          "output_type": "stream",
          "text": [
            "     88/100      14.2G     0.9224     0.6775      1.213         67        640: 100%|██████████| 42/42 [00:43<00:00,  1.03s/it]\n",
            "                 Class     Images  Instances      Box(P          R      mAP50  mAP50-95): 100%|██████████| 6/6 [00:05<00:00,  1.04it/s]"
          ]
        },
        {
          "name": "stdout",
          "output_type": "stream",
          "text": [
            "                   all        357        567       0.87      0.755      0.846      0.518\n"
          ]
        },
        {
          "name": "stderr",
          "output_type": "stream",
          "text": [
            "\n"
          ]
        },
        {
          "name": "stdout",
          "output_type": "stream",
          "text": [
            "\n",
            "      Epoch    GPU_mem   box_loss   cls_loss   dfl_loss  Instances       Size\n"
          ]
        },
        {
          "name": "stderr",
          "output_type": "stream",
          "text": [
            "     89/100      13.8G     0.9374     0.6754      1.204         71        640: 100%|██████████| 42/42 [00:42<00:00,  1.01s/it]\n",
            "                 Class     Images  Instances      Box(P          R      mAP50  mAP50-95): 100%|██████████| 6/6 [00:05<00:00,  1.04it/s]"
          ]
        },
        {
          "name": "stdout",
          "output_type": "stream",
          "text": [
            "                   all        357        567       0.85      0.762      0.825       0.51\n"
          ]
        },
        {
          "name": "stderr",
          "output_type": "stream",
          "text": [
            "\n"
          ]
        },
        {
          "name": "stdout",
          "output_type": "stream",
          "text": [
            "\n",
            "      Epoch    GPU_mem   box_loss   cls_loss   dfl_loss  Instances       Size\n"
          ]
        },
        {
          "name": "stderr",
          "output_type": "stream",
          "text": [
            "     90/100      13.7G     0.9402     0.6923       1.21         62        640: 100%|██████████| 42/42 [00:43<00:00,  1.03s/it]\n",
            "                 Class     Images  Instances      Box(P          R      mAP50  mAP50-95): 100%|██████████| 6/6 [00:05<00:00,  1.09it/s]"
          ]
        },
        {
          "name": "stdout",
          "output_type": "stream",
          "text": [
            "                   all        357        567      0.868      0.751      0.844      0.525\n"
          ]
        },
        {
          "name": "stderr",
          "output_type": "stream",
          "text": [
            "\n"
          ]
        },
        {
          "name": "stdout",
          "output_type": "stream",
          "text": [
            "Closing dataloader mosaic\n",
            "\u001b[34m\u001b[1malbumentations: \u001b[0mBlur(p=0.01, blur_limit=(3, 7)), MedianBlur(p=0.01, blur_limit=(3, 7)), ToGray(p=0.01), CLAHE(p=0.01, clip_limit=(1, 4.0), tile_grid_size=(8, 8))\n"
          ]
        },
        {
          "name": "stderr",
          "output_type": "stream",
          "text": [
            "/usr/lib/python3.10/multiprocessing/popen_fork.py:66: RuntimeWarning: os.fork() was called. os.fork() is incompatible with multithreaded code, and JAX is multithreaded, so this will likely lead to a deadlock.\n",
            "  self.pid = os.fork()\n"
          ]
        },
        {
          "name": "stdout",
          "output_type": "stream",
          "text": [
            "\n",
            "      Epoch    GPU_mem   box_loss   cls_loss   dfl_loss  Instances       Size\n"
          ]
        },
        {
          "name": "stderr",
          "output_type": "stream",
          "text": [
            "     91/100      13.8G     0.8901     0.5739      1.179         35        640: 100%|██████████| 42/42 [00:44<00:00,  1.07s/it]\n",
            "                 Class     Images  Instances      Box(P          R      mAP50  mAP50-95): 100%|██████████| 6/6 [00:05<00:00,  1.11it/s]"
          ]
        },
        {
          "name": "stdout",
          "output_type": "stream",
          "text": [
            "                   all        357        567      0.864      0.783      0.858      0.536\n"
          ]
        },
        {
          "name": "stderr",
          "output_type": "stream",
          "text": [
            "\n"
          ]
        },
        {
          "name": "stdout",
          "output_type": "stream",
          "text": [
            "\n",
            "      Epoch    GPU_mem   box_loss   cls_loss   dfl_loss  Instances       Size\n"
          ]
        },
        {
          "name": "stderr",
          "output_type": "stream",
          "text": [
            "     92/100      13.8G     0.8468     0.5195       1.15         43        640: 100%|██████████| 42/42 [00:42<00:00,  1.01s/it]\n",
            "                 Class     Images  Instances      Box(P          R      mAP50  mAP50-95): 100%|██████████| 6/6 [00:05<00:00,  1.05it/s]"
          ]
        },
        {
          "name": "stdout",
          "output_type": "stream",
          "text": [
            "                   all        357        567      0.875       0.77      0.847      0.533\n"
          ]
        },
        {
          "name": "stderr",
          "output_type": "stream",
          "text": [
            "\n"
          ]
        },
        {
          "name": "stdout",
          "output_type": "stream",
          "text": [
            "\n",
            "      Epoch    GPU_mem   box_loss   cls_loss   dfl_loss  Instances       Size\n"
          ]
        },
        {
          "name": "stderr",
          "output_type": "stream",
          "text": [
            "     93/100      13.8G     0.8646     0.5221      1.171         35        640: 100%|██████████| 42/42 [00:43<00:00,  1.03s/it]\n",
            "                 Class     Images  Instances      Box(P          R      mAP50  mAP50-95): 100%|██████████| 6/6 [00:05<00:00,  1.09it/s]"
          ]
        },
        {
          "name": "stdout",
          "output_type": "stream",
          "text": [
            "                   all        357        567      0.847      0.756       0.84      0.531\n"
          ]
        },
        {
          "name": "stderr",
          "output_type": "stream",
          "text": [
            "\n"
          ]
        },
        {
          "name": "stdout",
          "output_type": "stream",
          "text": [
            "\n",
            "      Epoch    GPU_mem   box_loss   cls_loss   dfl_loss  Instances       Size\n"
          ]
        },
        {
          "name": "stderr",
          "output_type": "stream",
          "text": [
            "     94/100      14.2G     0.8211     0.4944      1.146         37        640: 100%|██████████| 42/42 [00:42<00:00,  1.01s/it]\n",
            "                 Class     Images  Instances      Box(P          R      mAP50  mAP50-95): 100%|██████████| 6/6 [00:05<00:00,  1.01it/s]"
          ]
        },
        {
          "name": "stdout",
          "output_type": "stream",
          "text": [
            "                   all        357        567      0.868      0.764      0.846      0.538\n"
          ]
        },
        {
          "name": "stderr",
          "output_type": "stream",
          "text": [
            "\n"
          ]
        },
        {
          "name": "stdout",
          "output_type": "stream",
          "text": [
            "\n",
            "      Epoch    GPU_mem   box_loss   cls_loss   dfl_loss  Instances       Size\n"
          ]
        },
        {
          "name": "stderr",
          "output_type": "stream",
          "text": [
            "     95/100      13.8G     0.8213     0.4945      1.144         41        640: 100%|██████████| 42/42 [00:42<00:00,  1.02s/it]\n",
            "                 Class     Images  Instances      Box(P          R      mAP50  mAP50-95): 100%|██████████| 6/6 [00:05<00:00,  1.10it/s]"
          ]
        },
        {
          "name": "stdout",
          "output_type": "stream",
          "text": [
            "                   all        357        567      0.863      0.789      0.854      0.543\n"
          ]
        },
        {
          "name": "stderr",
          "output_type": "stream",
          "text": [
            "\n"
          ]
        },
        {
          "name": "stdout",
          "output_type": "stream",
          "text": [
            "\n",
            "      Epoch    GPU_mem   box_loss   cls_loss   dfl_loss  Instances       Size\n"
          ]
        },
        {
          "name": "stderr",
          "output_type": "stream",
          "text": [
            "     96/100      13.8G     0.8043      0.488      1.128         44        640: 100%|██████████| 42/42 [00:42<00:00,  1.00s/it]\n",
            "                 Class     Images  Instances      Box(P          R      mAP50  mAP50-95): 100%|██████████| 6/6 [00:05<00:00,  1.04it/s]"
          ]
        },
        {
          "name": "stdout",
          "output_type": "stream",
          "text": [
            "                   all        357        567       0.89      0.776      0.854      0.538\n"
          ]
        },
        {
          "name": "stderr",
          "output_type": "stream",
          "text": [
            "\n"
          ]
        },
        {
          "name": "stdout",
          "output_type": "stream",
          "text": [
            "\n",
            "      Epoch    GPU_mem   box_loss   cls_loss   dfl_loss  Instances       Size\n"
          ]
        },
        {
          "name": "stderr",
          "output_type": "stream",
          "text": [
            "     97/100      14.1G     0.7971     0.4872      1.122         46        640: 100%|██████████| 42/42 [00:42<00:00,  1.02s/it]\n",
            "                 Class     Images  Instances      Box(P          R      mAP50  mAP50-95): 100%|██████████| 6/6 [00:05<00:00,  1.10it/s]"
          ]
        },
        {
          "name": "stdout",
          "output_type": "stream",
          "text": [
            "                   all        357        567      0.894       0.77      0.854      0.548\n"
          ]
        },
        {
          "name": "stderr",
          "output_type": "stream",
          "text": [
            "\n"
          ]
        },
        {
          "name": "stdout",
          "output_type": "stream",
          "text": [
            "\n",
            "      Epoch    GPU_mem   box_loss   cls_loss   dfl_loss  Instances       Size\n"
          ]
        },
        {
          "name": "stderr",
          "output_type": "stream",
          "text": [
            "     98/100      13.7G     0.7971     0.4776      1.129         35        640: 100%|██████████| 42/42 [00:42<00:00,  1.00s/it]\n",
            "                 Class     Images  Instances      Box(P          R      mAP50  mAP50-95): 100%|██████████| 6/6 [00:06<00:00,  1.09s/it]"
          ]
        },
        {
          "name": "stdout",
          "output_type": "stream",
          "text": [
            "                   all        357        567      0.893      0.758      0.854      0.545\n"
          ]
        },
        {
          "name": "stderr",
          "output_type": "stream",
          "text": [
            "\n"
          ]
        },
        {
          "name": "stdout",
          "output_type": "stream",
          "text": [
            "\n",
            "      Epoch    GPU_mem   box_loss   cls_loss   dfl_loss  Instances       Size\n"
          ]
        },
        {
          "name": "stderr",
          "output_type": "stream",
          "text": [
            "     99/100      14.1G     0.7878     0.4819      1.121         43        640: 100%|██████████| 42/42 [00:42<00:00,  1.01s/it]\n",
            "                 Class     Images  Instances      Box(P          R      mAP50  mAP50-95): 100%|██████████| 6/6 [00:05<00:00,  1.04it/s]"
          ]
        },
        {
          "name": "stdout",
          "output_type": "stream",
          "text": [
            "                   all        357        567      0.885      0.759      0.848      0.543\n"
          ]
        },
        {
          "name": "stderr",
          "output_type": "stream",
          "text": [
            "\n"
          ]
        },
        {
          "name": "stdout",
          "output_type": "stream",
          "text": [
            "\n",
            "      Epoch    GPU_mem   box_loss   cls_loss   dfl_loss  Instances       Size\n"
          ]
        },
        {
          "name": "stderr",
          "output_type": "stream",
          "text": [
            "    100/100      13.8G     0.7716     0.4712      1.118         37        640: 100%|██████████| 42/42 [00:42<00:00,  1.02s/it]\n",
            "                 Class     Images  Instances      Box(P          R      mAP50  mAP50-95): 100%|██████████| 6/6 [00:05<00:00,  1.06it/s]"
          ]
        },
        {
          "name": "stdout",
          "output_type": "stream",
          "text": [
            "                   all        357        567      0.873      0.759      0.842      0.546\n"
          ]
        },
        {
          "name": "stderr",
          "output_type": "stream",
          "text": [
            "\n"
          ]
        },
        {
          "name": "stdout",
          "output_type": "stream",
          "text": [
            "\n",
            "100 epochs completed in 1.435 hours.\n",
            "Optimizer stripped from runs/detect/train/weights/last.pt, 52.0MB\n",
            "Optimizer stripped from runs/detect/train/weights/best.pt, 52.0MB\n",
            "\n",
            "Validating runs/detect/train/weights/best.pt...\n",
            "Ultralytics YOLOv8.1.45 🚀 Python-3.10.12 torch-2.2.1+cu121 CUDA:0 (Tesla T4, 15102MiB)\n",
            "Model summary (fused): 218 layers, 25840918 parameters, 0 gradients, 78.7 GFLOPs\n"
          ]
        },
        {
          "name": "stderr",
          "output_type": "stream",
          "text": [
            "                 Class     Images  Instances      Box(P          R      mAP50  mAP50-95): 100%|██████████| 6/6 [00:10<00:00,  1.72s/it]\n"
          ]
        },
        {
          "name": "stdout",
          "output_type": "stream",
          "text": [
            "                   all        357        567      0.894      0.772      0.855      0.547\n",
            "                  fire        357        441      0.921      0.821      0.901      0.571\n",
            "                 smoke        357        126      0.866      0.722      0.808      0.524\n",
            "Speed: 0.3ms preprocess, 10.6ms inference, 0.0ms loss, 5.9ms postprocess per image\n",
            "Results saved to \u001b[1mruns/detect/train\u001b[0m\n"
          ]
        }
      ],
      "source": [
        "from ultralytics import YOLO\n",
        "\n",
        "# Load a pretrained YOLO model (recommended for training)\n",
        "model = YOLO('yolov8m.pt')\n",
        "\n",
        "# Train the model using the 'coco128.yaml' dataset for 3 epochs\n",
        "results = model.train(data='/content/yolotest/data.yaml', imgsz=640, epochs=100, batch=32)"
      ]
    },
    {
      "cell_type": "code",
      "execution_count": null,
      "metadata": {
        "id": "J2UpnXMqnWWL"
      },
      "outputs": [],
      "source": [
        "import locale\n",
        "locale.getpreferredencoding = lambda: \"UTF-8\""
      ]
    },
    {
      "cell_type": "code",
      "execution_count": null,
      "metadata": {
        "id": "FTXSUJuXnkZN"
      },
      "outputs": [],
      "source": [
        "!git add runs/."
      ]
    },
    {
      "cell_type": "code",
      "execution_count": null,
      "metadata": {
        "id": "_3EiPQ9jn-8J"
      },
      "outputs": [],
      "source": [
        "!git add *.pt"
      ]
    },
    {
      "cell_type": "code",
      "execution_count": null,
      "metadata": {
        "colab": {
          "base_uri": "https://localhost:8080/"
        },
        "id": "88mGEXQSoRgj",
        "outputId": "ed41454f-fe26-4812-8109-1fc737779c9e"
      },
      "outputs": [
        {
          "name": "stdout",
          "output_type": "stream",
          "text": [
            "On branch main\n",
            "Your branch is up to date with 'origin/main'.\n",
            "\n",
            "Changes to be committed:\n",
            "  (use \"git restore --staged <file>...\" to unstage)\n",
            "\t\u001b[32mnew file:   runs/detect/train/F1_curve.png\u001b[m\n",
            "\t\u001b[32mnew file:   runs/detect/train/PR_curve.png\u001b[m\n",
            "\t\u001b[32mnew file:   runs/detect/train/P_curve.png\u001b[m\n",
            "\t\u001b[32mnew file:   runs/detect/train/R_curve.png\u001b[m\n",
            "\t\u001b[32mnew file:   runs/detect/train/args.yaml\u001b[m\n",
            "\t\u001b[32mnew file:   runs/detect/train/confusion_matrix.png\u001b[m\n",
            "\t\u001b[32mnew file:   runs/detect/train/confusion_matrix_normalized.png\u001b[m\n",
            "\t\u001b[32mnew file:   runs/detect/train/events.out.tfevents.1712656861.3852f053ff41.281.0\u001b[m\n",
            "\t\u001b[32mnew file:   runs/detect/train/labels.jpg\u001b[m\n",
            "\t\u001b[32mnew file:   runs/detect/train/labels_correlogram.jpg\u001b[m\n",
            "\t\u001b[32mnew file:   runs/detect/train/results.csv\u001b[m\n",
            "\t\u001b[32mnew file:   runs/detect/train/results.png\u001b[m\n",
            "\t\u001b[32mnew file:   runs/detect/train/train_batch0.jpg\u001b[m\n",
            "\t\u001b[32mnew file:   runs/detect/train/train_batch1.jpg\u001b[m\n",
            "\t\u001b[32mnew file:   runs/detect/train/train_batch2.jpg\u001b[m\n",
            "\t\u001b[32mnew file:   runs/detect/train/train_batch3780.jpg\u001b[m\n",
            "\t\u001b[32mnew file:   runs/detect/train/train_batch3781.jpg\u001b[m\n",
            "\t\u001b[32mnew file:   runs/detect/train/train_batch3782.jpg\u001b[m\n",
            "\t\u001b[32mnew file:   runs/detect/train/val_batch0_labels.jpg\u001b[m\n",
            "\t\u001b[32mnew file:   runs/detect/train/val_batch0_pred.jpg\u001b[m\n",
            "\t\u001b[32mnew file:   runs/detect/train/val_batch1_labels.jpg\u001b[m\n",
            "\t\u001b[32mnew file:   runs/detect/train/val_batch1_pred.jpg\u001b[m\n",
            "\t\u001b[32mnew file:   runs/detect/train/val_batch2_labels.jpg\u001b[m\n",
            "\t\u001b[32mnew file:   runs/detect/train/val_batch2_pred.jpg\u001b[m\n",
            "\t\u001b[32mnew file:   runs/detect/train/weights/best.pt\u001b[m\n",
            "\t\u001b[32mnew file:   runs/detect/train/weights/last.pt\u001b[m\n",
            "\t\u001b[32mnew file:   yolov8m.pt\u001b[m\n",
            "\t\u001b[32mnew file:   yolov8n.pt\u001b[m\n",
            "\n",
            "Untracked files:\n",
            "  (use \"git add <file>...\" to include in what will be committed)\n",
            "\t\u001b[31mREADME.dataset.txt\u001b[m\n",
            "\t\u001b[31mREADME.roboflow.txt\u001b[m\n",
            "\t\u001b[31mdata.yaml\u001b[m\n",
            "\t\u001b[31mtest/\u001b[m\n",
            "\t\u001b[31mtrain/\u001b[m\n",
            "\t\u001b[31mvalid/\u001b[m\n",
            "\n"
          ]
        }
      ],
      "source": [
        "!git status"
      ]
    },
    {
      "cell_type": "code",
      "execution_count": null,
      "metadata": {
        "id": "mGvwNZlJpJdB"
      },
      "outputs": [],
      "source": [
        "!git config --global user.email 'limetree81@knu.ac.kr'\n",
        "!git config --global user.name 'limetree81'"
      ]
    },
    {
      "cell_type": "code",
      "execution_count": null,
      "metadata": {
        "colab": {
          "base_uri": "https://localhost:8080/"
        },
        "id": "t7pjEgf3o1pq",
        "outputId": "f7057d22-b2f4-4dda-ab6c-9d5bb233dae8"
      },
      "outputs": [
        {
          "name": "stdout",
          "output_type": "stream",
          "text": [
            "[main dedf968] v8m 640 100 32\n",
            " 28 files changed, 207 insertions(+)\n",
            " create mode 100644 runs/detect/train/F1_curve.png\n",
            " create mode 100644 runs/detect/train/PR_curve.png\n",
            " create mode 100644 runs/detect/train/P_curve.png\n",
            " create mode 100644 runs/detect/train/R_curve.png\n",
            " create mode 100644 runs/detect/train/args.yaml\n",
            " create mode 100644 runs/detect/train/confusion_matrix.png\n",
            " create mode 100644 runs/detect/train/confusion_matrix_normalized.png\n",
            " create mode 100644 runs/detect/train/events.out.tfevents.1712656861.3852f053ff41.281.0\n",
            " create mode 100644 runs/detect/train/labels.jpg\n",
            " create mode 100644 runs/detect/train/labels_correlogram.jpg\n",
            " create mode 100644 runs/detect/train/results.csv\n",
            " create mode 100644 runs/detect/train/results.png\n",
            " create mode 100644 runs/detect/train/train_batch0.jpg\n",
            " create mode 100644 runs/detect/train/train_batch1.jpg\n",
            " create mode 100644 runs/detect/train/train_batch2.jpg\n",
            " create mode 100644 runs/detect/train/train_batch3780.jpg\n",
            " create mode 100644 runs/detect/train/train_batch3781.jpg\n",
            " create mode 100644 runs/detect/train/train_batch3782.jpg\n",
            " create mode 100644 runs/detect/train/val_batch0_labels.jpg\n",
            " create mode 100644 runs/detect/train/val_batch0_pred.jpg\n",
            " create mode 100644 runs/detect/train/val_batch1_labels.jpg\n",
            " create mode 100644 runs/detect/train/val_batch1_pred.jpg\n",
            " create mode 100644 runs/detect/train/val_batch2_labels.jpg\n",
            " create mode 100644 runs/detect/train/val_batch2_pred.jpg\n",
            " create mode 100644 runs/detect/train/weights/best.pt\n",
            " create mode 100644 runs/detect/train/weights/last.pt\n",
            " create mode 100644 yolov8m.pt\n",
            " create mode 100644 yolov8n.pt\n"
          ]
        }
      ],
      "source": [
        "!git commit -m 'v8m 640 100 32'"
      ]
    },
    {
      "cell_type": "code",
      "execution_count": null,
      "metadata": {
        "colab": {
          "base_uri": "https://localhost:8080/"
        },
        "id": "rHUnASTspYcp",
        "outputId": "99cf5ff9-1ef5-4bb3-9410-630120cc06a6"
      },
      "outputs": [
        {
          "name": "stdout",
          "output_type": "stream",
          "text": [
            "Enumerating objects: 35, done.\n",
            "Counting objects:   2% (1/35)\rCounting objects:   5% (2/35)\rCounting objects:   8% (3/35)\rCounting objects:  11% (4/35)\rCounting objects:  14% (5/35)\rCounting objects:  17% (6/35)\rCounting objects:  20% (7/35)\rCounting objects:  22% (8/35)\rCounting objects:  25% (9/35)\rCounting objects:  28% (10/35)\rCounting objects:  31% (11/35)\rCounting objects:  34% (12/35)\rCounting objects:  37% (13/35)\rCounting objects:  40% (14/35)\rCounting objects:  42% (15/35)\rCounting objects:  45% (16/35)\rCounting objects:  48% (17/35)\rCounting objects:  51% (18/35)\rCounting objects:  54% (19/35)\rCounting objects:  57% (20/35)\rCounting objects:  60% (21/35)\rCounting objects:  62% (22/35)\rCounting objects:  65% (23/35)\rCounting objects:  68% (24/35)\rCounting objects:  71% (25/35)\rCounting objects:  74% (26/35)\rCounting objects:  77% (27/35)\rCounting objects:  80% (28/35)\rCounting objects:  82% (29/35)\rCounting objects:  85% (30/35)\rCounting objects:  88% (31/35)\rCounting objects:  91% (32/35)\rCounting objects:  94% (33/35)\rCounting objects:  97% (34/35)\rCounting objects: 100% (35/35)\rCounting objects: 100% (35/35), done.\n",
            "Delta compression using up to 2 threads\n",
            "Compressing objects: 100% (32/32), done.\n",
            "Writing objects: 100% (34/34), 150.04 MiB | 13.53 MiB/s, done.\n",
            "Total 34 (delta 0), reused 1 (delta 0), pack-reused 0\n",
            "To https://github.com/limetree81/yolotest.git\n",
            "   df563f8..dedf968  main -> main\n"
          ]
        }
      ],
      "source": [
        "!git push https://---------------github_pat---------------@github.com/limetree81/yolotest.git"
      ]
    },
    {
      "cell_type": "code",
      "execution_count": null,
      "metadata": {
        "colab": {
          "base_uri": "https://localhost:8080/"
        },
        "id": "uex-0m-Bu253",
        "outputId": "85eedf23-4422-4e0b-a9d2-bc0d5d0c3739"
      },
      "outputs": [
        {
          "name": "stdout",
          "output_type": "stream",
          "text": [
            "\n",
            "image 1/87 /content/yolotest/test/images/S3-N1451MF01560_jpg.rf.d0956b6a581014a3db30ca46cefb5271.jpg: 640x640 1 fire, 37.2ms\n",
            "image 2/87 /content/yolotest/test/images/S3-N1451MF01572_jpg.rf.c86d8939cbf08d1921c5acb0b9ed2db1.jpg: 640x640 1 fire, 35.3ms\n",
            "image 3/87 /content/yolotest/test/images/S3-N1451MF01934_jpg.rf.be3abe24fe8e0194f6a30ddc74c3f3a2.jpg: 640x640 1 fire, 34.2ms\n",
            "image 4/87 /content/yolotest/test/images/S3-N1453MF01359_jpg.rf.818550e18edd86afe3ce968b36461ba5.jpg: 640x640 1 fire, 1 smoke, 34.2ms\n",
            "image 5/87 /content/yolotest/test/images/S3-N1455MF01629_jpg.rf.d41dfb9cd3176b82c15ae085a8508416.jpg: 640x640 1 fire, 1 smoke, 34.2ms\n",
            "image 6/87 /content/yolotest/test/images/S3-N1455MF01654_jpg.rf.b233158287e0a1ef5489f34caecc3ac1.jpg: 640x640 1 fire, 1 smoke, 28.3ms\n",
            "image 7/87 /content/yolotest/test/images/S3-N1455MF01944_jpg.rf.69e695838b1a4b9976ab7c521b69a04f.jpg: 640x640 1 fire, 1 smoke, 21.4ms\n",
            "image 8/87 /content/yolotest/test/images/fire_test_img_115_jpg.rf.736604c6970f4b7b5eec69873126760e.jpg: 640x640 1 fire, 21.5ms\n",
            "image 9/87 /content/yolotest/test/images/fire_test_img_135_jpg.rf.832c744150cde84ab8fd26249fe20a20.jpg: 640x640 1 fire, 21.3ms\n",
            "image 10/87 /content/yolotest/test/images/fire_test_img_242_jpg.rf.c93a4c549e15f5b2a230de2987eed5a4.jpg: 640x640 1 fire, 21.1ms\n",
            "image 11/87 /content/yolotest/test/images/fire_test_img_245_jpg.rf.16e78b332e48ab8ab6beca1fa1003b1b.jpg: 640x640 1 fire, 20.9ms\n",
            "image 12/87 /content/yolotest/test/images/fire_test_img_262_jpg.rf.5dba70aefbb6d4a89892600ea6efaf52.jpg: 640x640 1 fire, 21.6ms\n",
            "image 13/87 /content/yolotest/test/images/fire_train_img_398_jpg.rf.0bfb75464d50502ebb89343258555a95.jpg: 640x640 1 fire, 19.4ms\n",
            "image 14/87 /content/yolotest/test/images/fire_train_img_429_jpg.rf.556c8a83252c79490f075c599a36b3ca.jpg: 640x640 2 fires, 19.3ms\n",
            "image 15/87 /content/yolotest/test/images/fire_train_img_432_jpg.rf.0438badbe5348b91a99e97d8eaf66ee7.jpg: 640x640 1 fire, 19.5ms\n",
            "image 16/87 /content/yolotest/test/images/fire_train_img_454_jpg.rf.0cad81f1b1546756776b6e33322df193.jpg: 640x640 1 fire, 19.0ms\n",
            "image 17/87 /content/yolotest/test/images/fire_train_img_610_jpg.rf.ae9874f65aa4528f2a0c9716debe1703.jpg: 640x640 1 fire, 1 smoke, 20.7ms\n",
            "image 18/87 /content/yolotest/test/images/fire_train_img_628_jpg.rf.b54c8bb7479eb17a7b911c36f9eec512.jpg: 640x640 1 fire, 1 smoke, 19.1ms\n",
            "image 19/87 /content/yolotest/test/images/fire_train_img_632_jpg.rf.498b3df19c73135246a95863643a1c22.jpg: 640x640 2 fires, 1 smoke, 19.8ms\n",
            "image 20/87 /content/yolotest/test/images/fire_train_img_723_jpg.rf.90a0e45141129361f3b1787dd74d0cbd.jpg: 640x640 1 fire, 19.4ms\n",
            "image 21/87 /content/yolotest/test/images/fire_train_img_735_jpg.rf.2415a8062a760a12ac812db73322df36.jpg: 640x640 1 fire, 19.0ms\n",
            "image 22/87 /content/yolotest/test/images/fire_train_img_738_jpg.rf.3ce0e40c2c83498807aceda18461a953.jpg: 640x640 1 fire, 20.1ms\n",
            "image 23/87 /content/yolotest/test/images/fire_train_img_754_jpg.rf.def6b9a48c0a8a08f2a7f57fc2091670.jpg: 640x640 1 fire, 19.0ms\n",
            "image 24/87 /content/yolotest/test/images/fire_train_img_764_jpg.rf.838408b685bb39ffb061fab3298431c9.jpg: 640x640 1 fire, 20.7ms\n",
            "image 25/87 /content/yolotest/test/images/fire_train_img_772_jpg.rf.649bd5299f5a5887f2a7c190d59341a5.jpg: 640x640 1 fire, 19.5ms\n",
            "image 26/87 /content/yolotest/test/images/fire_train_img_779_jpg.rf.a93686c136abe3f14d7ba1a761e569a7.jpg: 640x640 1 fire, 19.6ms\n",
            "image 27/87 /content/yolotest/test/images/fire_train_img_83_jpg.rf.e4e0b136256f5581e830d4a444efc72a.jpg: 640x640 3 fires, 20.1ms\n",
            "image 28/87 /content/yolotest/test/images/fires-29-_jpg.rf.b84f03d8e335b505bdd36135704371bf.jpg: 640x640 1 fire, 19.0ms\n",
            "image 29/87 /content/yolotest/test/images/fires-90-_jpg.rf.37607d542d06a5482c13628a35c87168.jpg: 640x640 11 fires, 20.8ms\n",
            "image 30/87 /content/yolotest/test/images/image-151-_jpg.rf.f5693554a1ac6947346e908192811a23.jpg: 640x640 1 fire, 19.7ms\n",
            "image 31/87 /content/yolotest/test/images/image-174-_jpg.rf.0a8d4703b622b05deb03b5a764e78ed5.jpg: 640x640 1 fire, 19.1ms\n",
            "image 32/87 /content/yolotest/test/images/image-180-_jpg.rf.2a6039d9a4a8d30eb8254d480e957489.jpg: 640x640 1 fire, 20.2ms\n",
            "image 33/87 /content/yolotest/test/images/image-198-_jpg.rf.70ab522cd00d18dee0a2fe00f6743439.jpg: 640x640 1 fire, 18.9ms\n",
            "image 34/87 /content/yolotest/test/images/image-23-_jpg.rf.eb26d61911af20e7768cba7a294250ff.jpg: 640x640 1 fire, 20.7ms\n",
            "image 35/87 /content/yolotest/test/images/image-239-_jpg.rf.c161f36836abf6c506dbf0c5cd0408e8.jpg: 640x640 1 fire, 19.7ms\n",
            "image 36/87 /content/yolotest/test/images/image-248-_jpg.rf.cbe212b25245304983e8076ad15f239f.jpg: 640x640 (no detections), 18.8ms\n",
            "image 37/87 /content/yolotest/test/images/image-259-_jpg.rf.49e3a3ccc8ba947ddbdfc6423ad3f4b5.jpg: 640x640 1 fire, 20.9ms\n",
            "image 38/87 /content/yolotest/test/images/image-267-_jpg.rf.9bb28e117dae0f7e56bf4a002893458d.jpg: 640x640 1 fire, 18.8ms\n",
            "image 39/87 /content/yolotest/test/images/image-268-_jpg.rf.5034ab6794e7cb7a579e0c76ec57b400.jpg: 640x640 1 fire, 19.6ms\n",
            "image 40/87 /content/yolotest/test/images/image-285-_jpg.rf.f3a69098d26f8408d04548b2dde25a7c.jpg: 640x640 1 fire, 19.8ms\n",
            "image 41/87 /content/yolotest/test/images/image-289-_jpg.rf.9d0eed7f8cec314c5feee83467d6ec4a.jpg: 640x640 1 fire, 18.6ms\n",
            "image 42/87 /content/yolotest/test/images/image-317-_jpg.rf.eb60f32f42c1b845d0d05cc8d1d8a8b3.jpg: 640x640 1 fire, 1 smoke, 20.5ms\n",
            "image 43/87 /content/yolotest/test/images/image-328-_jpg.rf.294d84bcef48e778973a6b0ba3e3a844.jpg: 640x640 1 fire, 19.4ms\n",
            "image 44/87 /content/yolotest/test/images/image-340-_jpg.rf.4fdb26c00925da43e9361e9b1aef3029.jpg: 640x640 2 fires, 19.1ms\n",
            "image 45/87 /content/yolotest/test/images/image-367-_jpg.rf.bcd1908b3ef1d8d4c3242e0b15632bc9.jpg: 640x640 1 fire, 19.7ms\n",
            "image 46/87 /content/yolotest/test/images/image-394-_jpg.rf.1a795e3426e6da4cc7da8a0ae3e12492.jpg: 640x640 1 fire, 18.7ms\n",
            "image 47/87 /content/yolotest/test/images/image-426-_jpg.rf.5a8f5e3f1286706b3708b0d8bf432a25.jpg: 640x640 2 fires, 20.4ms\n",
            "image 48/87 /content/yolotest/test/images/image-435-_jpg.rf.72a7ba5c1deb0e2ec84fa2f90f823ae4.jpg: 640x640 1 fire, 19.8ms\n",
            "image 49/87 /content/yolotest/test/images/image-445-_jpg.rf.f56c44f0208b59e05800157f07691ab6.jpg: 640x640 1 fire, 18.5ms\n",
            "image 50/87 /content/yolotest/test/images/image-496-_jpg.rf.cc3aeb55b2f156eb832e1cea4b4dd63d.jpg: 640x640 2 fires, 2 smokes, 20.7ms\n",
            "image 51/87 /content/yolotest/test/images/image-513-_jpg.rf.75516a84bbdb4da631f3c50c443a5e01.jpg: 640x640 2 fires, 1 smoke, 19.3ms\n",
            "image 52/87 /content/yolotest/test/images/image-521-_jpg.rf.a080fe12fe9af2098589bf99e24135c2.jpg: 640x640 2 fires, 1 smoke, 20.0ms\n",
            "image 53/87 /content/yolotest/test/images/image-532-_jpg.rf.ff9ab4bb44721cbf0d363ad283f1820f.jpg: 640x640 1 fire, 19.4ms\n",
            "image 54/87 /content/yolotest/test/images/image-540-_jpg.rf.047033c4ba2817b42a6ceac7d4721de7.jpg: 640x640 (no detections), 18.6ms\n",
            "image 55/87 /content/yolotest/test/images/image-543-_jpg.rf.7e617bf16e63d4962bac1745f3ec6cdc.jpg: 640x640 1 fire, 20.9ms\n",
            "image 56/87 /content/yolotest/test/images/image-563-_jpg.rf.6f98f10a15ae358fb9e51f930bfcb343.jpg: 640x640 1 fire, 1 smoke, 19.8ms\n",
            "image 57/87 /content/yolotest/test/images/image-567-_jpg.rf.e755efb22889f65d0848acf26d4c531d.jpg: 640x640 1 fire, 18.7ms\n",
            "image 58/87 /content/yolotest/test/images/image-633-_jpg.rf.eda9835b15e95b2f8b8e24f8fab6289f.jpg: 640x640 2 fires, 2 smokes, 20.4ms\n",
            "image 59/87 /content/yolotest/test/images/image-643-_jpg.rf.99ed68fc1dcbd99e69c3bb7c891b70fc.jpg: 640x640 2 fires, 1 smoke, 19.1ms\n",
            "image 60/87 /content/yolotest/test/images/image-684-_jpg.rf.874571c3ac90c24c0aa2346c947513c9.jpg: 640x640 2 fires, 19.8ms\n",
            "image 61/87 /content/yolotest/test/images/image-694-_jpg.rf.e98d042a59e9f9644607e206cab4e9b1.jpg: 640x640 1 fire, 19.7ms\n",
            "image 62/87 /content/yolotest/test/images/image-728-_jpg.rf.7f4bf174f51a40f2faa6fb28ef64913c.jpg: 640x640 1 fire, 19.0ms\n",
            "image 63/87 /content/yolotest/test/images/image-735-_jpg.rf.6eb2b465aecd56d564fb88002e57fa5d.jpg: 640x640 1 fire, 20.3ms\n",
            "image 64/87 /content/yolotest/test/images/image-759-_jpg.rf.b2979dcf9d2a14acce8c38e1fdaddbf7.jpg: 640x640 1 fire, 18.8ms\n",
            "image 65/87 /content/yolotest/test/images/image-770-_jpg.rf.69483d0d9ddc49b4c6791e3838d9a80f.jpg: 640x640 1 fire, 18.2ms\n",
            "image 66/87 /content/yolotest/test/images/image-774-_jpg.rf.d7803a4653301155f6bc57261fc6d6b4.jpg: 640x640 1 fire, 19.8ms\n",
            "image 67/87 /content/yolotest/test/images/image-80-_jpg.rf.a0c90db3e1247d0e9c139518aeaa24ac.jpg: 640x640 2 fires, 19.0ms\n",
            "image 68/87 /content/yolotest/test/images/image-838-_jpg.rf.ddb61450b7c0d3b9a120f569785b5be3.jpg: 640x640 1 fire, 21.0ms\n",
            "image 69/87 /content/yolotest/test/images/image-846-_jpg.rf.f80ff2684b8dbb0421a7e62cb48abe7a.jpg: 640x640 1 fire, 19.4ms\n",
            "image 70/87 /content/yolotest/test/images/image-859-_jpg.rf.d82c1a7fb8b84e47bcc75db1164d6c44.jpg: 640x640 1 fire, 18.4ms\n",
            "image 71/87 /content/yolotest/test/images/image-873-_jpg.rf.c2c1149a47b72b4eca3f39fc4decd06d.jpg: 640x640 1 fire, 20.1ms\n",
            "image 72/87 /content/yolotest/test/images/image-896-_jpg.rf.d702213848dd53f171b5d7aa8e6d05dd.jpg: 640x640 1 fire, 2 smokes, 18.9ms\n",
            "image 73/87 /content/yolotest/test/images/image-947-_jpg.rf.5cee207acf6811e49a11261d023ed32a.jpg: 640x640 1 fire, 20.9ms\n",
            "image 74/87 /content/yolotest/test/images/image-976-_jpg.rf.60b4f97fa07d40dbbfe302b0f14a4b11.jpg: 640x640 1 fire, 1 smoke, 19.6ms\n",
            "image 75/87 /content/yolotest/test/images/images4-11-_jpg.rf.56d4076f90b86a518ee7d43d39d4beb7.jpg: 640x640 1 fire, 19.1ms\n",
            "image 76/87 /content/yolotest/test/images/images4-159-_jpg.rf.e3385c2c34d56b6a14785d334671bda6.jpg: 640x640 1 fire, 20.3ms\n",
            "image 77/87 /content/yolotest/test/images/images4-176-_jpg.rf.0b0c6936869aec5cf00831b7923437b3.jpg: 640x640 1 fire, 18.9ms\n",
            "image 78/87 /content/yolotest/test/images/images4-183-_jpg.rf.c208c72576ea985d19a54a0791fcbbf1.jpg: 640x640 1 fire, 20.9ms\n",
            "image 79/87 /content/yolotest/test/images/images4-184-_jpg.rf.f8c5ba5a2cb3030f1e5dd61b5c8d341d.jpg: 640x640 1 fire, 19.3ms\n",
            "image 80/87 /content/yolotest/test/images/images4-43-_jpg.rf.1fbb0d308ef4308b7d92efd013bba238.jpg: 640x640 3 fires, 19.9ms\n",
            "image 81/87 /content/yolotest/test/images/images4-58-_jpg.rf.1c5d5011d570bb196a46f02f17636268.jpg: 640x640 1 fire, 1 smoke, 19.5ms\n",
            "image 82/87 /content/yolotest/test/images/images4-59-_jpg.rf.8e1228ce5ed49edc334bc5979f1c4f3d.jpg: 640x640 1 fire, 19.0ms\n",
            "image 83/87 /content/yolotest/test/images/images4-67-_jpg.rf.ab409cf0cbca183da2974ce4202bf15f.jpg: 640x640 1 fire, 19.9ms\n",
            "image 84/87 /content/yolotest/test/images/images4-91-_jpg.rf.528fa0b2d9c44bb38843c2043cda4c68.jpg: 640x640 1 fire, 19.1ms\n",
            "image 85/87 /content/yolotest/test/images/photo-19-_jpg.rf.44979900bfdbf745e7fc69c108dd060d.jpg: 640x640 1 fire, 20.4ms\n",
            "image 86/87 /content/yolotest/test/images/photo-27-_jpg.rf.05330600e45b8b09f23c631c01bafe03.jpg: 640x640 1 fire, 19.8ms\n",
            "image 87/87 /content/yolotest/test/images/photo-9-_jpg.rf.4107d7ae1f812cbc68626e9a858497c8.jpg: 640x640 1 fire, 18.8ms\n",
            "Speed: 2.2ms preprocess, 20.7ms inference, 1.7ms postprocess per image at shape (1, 3, 640, 640)\n"
          ]
        }
      ],
      "source": [
        "import cv2\n",
        "\n",
        "model = YOLO(\"/content/yolotest/runs/detect/train/weights/best.pt\")\n",
        "results = model.predict(\"/content/yolotest/test/images\")"
      ]
    },
    {
      "cell_type": "code",
      "execution_count": null,
      "metadata": {
        "colab": {
          "base_uri": "https://localhost:8080/",
          "height": 1000
        },
        "id": "FSoeZsxRwZQk",
        "outputId": "2d41baf8-c11d-4f63-93a3-5f43730e72b1"
      },
      "outputs": [],
      "source": [
        "from google.colab.patches import cv2_imshow\n",
        "\n",
        "for i in results:\n",
        "  cv2_imshow(i.plot())"
      ]
    },
    {
      "cell_type": "code",
      "execution_count": null,
      "metadata": {
        "colab": {
          "base_uri": "https://localhost:8080/"
        },
        "id": "uIXoROu0xYGC",
        "outputId": "432fb2f7-71e5-4a11-d42b-1049986a1888"
      },
      "outputs": [
        {
          "name": "stdout",
          "output_type": "stream",
          "text": [
            "\n",
            "\u001b[31m\u001b[1mrequirements:\u001b[0m Ultralytics requirements ['pafy', 'youtube_dl==2020.12.2'] not found, attempting AutoUpdate...\n",
            "Collecting pafy\n",
            "  Downloading pafy-0.5.5-py2.py3-none-any.whl (35 kB)\n",
            "Collecting youtube_dl==2020.12.2\n",
            "  Downloading youtube_dl-2020.12.2-py2.py3-none-any.whl (1.8 MB)\n",
            "     ━━━━━━━━━━━━━━━━━━━━━━━━━━━━━━━━━━━━━━━━ 1.8/1.8 MB 37.8 MB/s eta 0:00:00\n",
            "Installing collected packages: youtube_dl, pafy\n",
            "Successfully installed pafy-0.5.5 youtube_dl-2020.12.2\n",
            "\n",
            "\u001b[31m\u001b[1mrequirements:\u001b[0m AutoUpdate success ✅ 9.7s, installed 2 packages: ['pafy', 'youtube_dl==2020.12.2']\n",
            "\u001b[31m\u001b[1mrequirements:\u001b[0m ⚠️ \u001b[1mRestart runtime or rerun command for updates to take effect\u001b[0m\n",
            "\n",
            "1/1: https://youtu.be/F_muEod1-Fo... Success ✅ (2291 frames of shape 854x480 at 29.97 FPS)\n",
            "\n",
            "\n",
            "WARNING ⚠️ inference results will accumulate in RAM unless `stream=True` is passed, causing potential out-of-memory\n",
            "errors for large sources or long-running streams and videos. See https://docs.ultralytics.com/modes/predict/ for help.\n",
            "\n",
            "Example:\n",
            "    results = model(source=..., stream=True)  # generator of Results objects\n",
            "    for r in results:\n",
            "        boxes = r.boxes  # Boxes object for bbox outputs\n",
            "        masks = r.masks  # Masks object for segment masks outputs\n",
            "        probs = r.probs  # Class probabilities for classification outputs\n",
            "\n",
            "0: 384x640 (no detections), 2526.8ms\n",
            "0: 384x640 (no detections), 13.1ms\n",
            "WARNING ⚠️ Waiting for stream 0\n",
            "WARNING ⚠️ Waiting for stream 0\n",
            "WARNING ⚠️ Waiting for stream 0\n",
            "WARNING ⚠️ Waiting for stream 0\n",
            "WARNING ⚠️ Waiting for stream 0\n",
            "0: 384x640 (no detections), 17.8ms\n",
            "WARNING ⚠️ Waiting for stream 0\n",
            "WARNING ⚠️ Waiting for stream 0\n",
            "WARNING ⚠️ Waiting for stream 0\n",
            "WARNING ⚠️ Waiting for stream 0\n",
            "WARNING ⚠️ Waiting for stream 0\n",
            "WARNING ⚠️ Waiting for stream 0\n",
            "WARNING ⚠️ Waiting for stream 0\n",
            "WARNING ⚠️ Waiting for stream 0\n",
            "WARNING ⚠️ Waiting for stream 0\n",
            "0: 384x640 (no detections), 13.4ms\n",
            "WARNING ⚠️ Waiting for stream 0\n",
            "WARNING ⚠️ Waiting for stream 0\n",
            "WARNING ⚠️ Waiting for stream 0\n",
            "WARNING ⚠️ Waiting for stream 0\n",
            "WARNING ⚠️ Waiting for stream 0\n",
            "WARNING ⚠️ Waiting for stream 0\n",
            "WARNING ⚠️ Waiting for stream 0\n",
            "WARNING ⚠️ Waiting for stream 0\n",
            "0: 384x640 1 fire, 13.0ms\n",
            "WARNING ⚠️ Waiting for stream 0\n",
            "WARNING ⚠️ Waiting for stream 0\n",
            "WARNING ⚠️ Waiting for stream 0\n",
            "WARNING ⚠️ Waiting for stream 0\n",
            "WARNING ⚠️ Waiting for stream 0\n",
            "WARNING ⚠️ Waiting for stream 0\n",
            "WARNING ⚠️ Waiting for stream 0\n",
            "WARNING ⚠️ Waiting for stream 0\n",
            "WARNING ⚠️ Waiting for stream 0\n",
            "0: 384x640 (no detections), 18.0ms\n",
            "WARNING ⚠️ Waiting for stream 0\n",
            "WARNING ⚠️ Waiting for stream 0\n",
            "WARNING ⚠️ Waiting for stream 0\n",
            "WARNING ⚠️ Waiting for stream 0\n",
            "WARNING ⚠️ Waiting for stream 0\n",
            "WARNING ⚠️ Waiting for stream 0\n",
            "WARNING ⚠️ Waiting for stream 0\n",
            "WARNING ⚠️ Waiting for stream 0\n",
            "0: 384x640 1 fire, 14.6ms\n",
            "WARNING ⚠️ Waiting for stream 0\n",
            "WARNING ⚠️ Waiting for stream 0\n",
            "WARNING ⚠️ Waiting for stream 0\n",
            "WARNING ⚠️ Waiting for stream 0\n",
            "WARNING ⚠️ Waiting for stream 0\n",
            "WARNING ⚠️ Waiting for stream 0\n",
            "WARNING ⚠️ Waiting for stream 0\n",
            "WARNING ⚠️ Waiting for stream 0\n",
            "0: 384x640 2 fires, 25.3ms\n",
            "0: 384x640 1 fire, 25.7ms\n",
            "WARNING ⚠️ Waiting for stream 0\n",
            "WARNING ⚠️ Waiting for stream 0\n",
            "WARNING ⚠️ Waiting for stream 0\n",
            "WARNING ⚠️ Waiting for stream 0\n",
            "WARNING ⚠️ Waiting for stream 0\n",
            "WARNING ⚠️ Waiting for stream 0\n",
            "WARNING ⚠️ Waiting for stream 0\n",
            "0: 384x640 (no detections), 25.2ms\n",
            "WARNING ⚠️ Waiting for stream 0\n",
            "WARNING ⚠️ Waiting for stream 0\n",
            "WARNING ⚠️ Waiting for stream 0\n",
            "WARNING ⚠️ Waiting for stream 0\n",
            "WARNING ⚠️ Waiting for stream 0\n",
            "WARNING ⚠️ Waiting for stream 0\n",
            "WARNING ⚠️ Waiting for stream 0\n",
            "WARNING ⚠️ Waiting for stream 0\n",
            "WARNING ⚠️ Waiting for stream 0\n",
            "WARNING ⚠️ Waiting for stream 0\n",
            "WARNING ⚠️ Waiting for stream 0\n",
            "0: 384x640 1 fire, 25.2ms\n",
            "WARNING ⚠️ Waiting for stream 0\n",
            "WARNING ⚠️ Waiting for stream 0\n",
            "WARNING ⚠️ Waiting for stream 0\n",
            "WARNING ⚠️ Waiting for stream 0\n",
            "WARNING ⚠️ Waiting for stream 0\n",
            "0: 384x640 1 fire, 25.2ms\n",
            "WARNING ⚠️ Waiting for stream 0\n",
            "WARNING ⚠️ Waiting for stream 0\n",
            "WARNING ⚠️ Waiting for stream 0\n",
            "WARNING ⚠️ Waiting for stream 0\n",
            "WARNING ⚠️ Waiting for stream 0\n",
            "WARNING ⚠️ Waiting for stream 0\n",
            "WARNING ⚠️ Waiting for stream 0\n",
            "WARNING ⚠️ Waiting for stream 0\n",
            "WARNING ⚠️ Waiting for stream 0\n",
            "WARNING ⚠️ Waiting for stream 0\n",
            "WARNING ⚠️ Waiting for stream 0\n",
            "0: 384x640 1 fire, 26.9ms\n",
            "0: 384x640 1 fire, 25.1ms\n",
            "WARNING ⚠️ Waiting for stream 0\n",
            "WARNING ⚠️ Waiting for stream 0\n",
            "WARNING ⚠️ Waiting for stream 0\n",
            "WARNING ⚠️ Waiting for stream 0\n",
            "WARNING ⚠️ Waiting for stream 0\n",
            "WARNING ⚠️ Waiting for stream 0\n",
            "WARNING ⚠️ Waiting for stream 0\n",
            "WARNING ⚠️ Waiting for stream 0\n",
            "0: 384x640 1 fire, 25.2ms\n",
            "WARNING ⚠️ Waiting for stream 0\n",
            "WARNING ⚠️ Waiting for stream 0\n",
            "WARNING ⚠️ Waiting for stream 0\n",
            "WARNING ⚠️ Waiting for stream 0\n",
            "WARNING ⚠️ Waiting for stream 0\n",
            "WARNING ⚠️ Waiting for stream 0\n",
            "WARNING ⚠️ Waiting for stream 0\n",
            "0: 384x640 1 fire, 28.0ms\n",
            "0: 384x640 (no detections), 25.2ms\n",
            "WARNING ⚠️ Waiting for stream 0\n",
            "WARNING ⚠️ Waiting for stream 0\n",
            "WARNING ⚠️ Waiting for stream 0\n",
            "WARNING ⚠️ Waiting for stream 0\n",
            "WARNING ⚠️ Waiting for stream 0\n",
            "WARNING ⚠️ Waiting for stream 0\n",
            "WARNING ⚠️ Waiting for stream 0\n",
            "WARNING ⚠️ Waiting for stream 0\n",
            "0: 384x640 1 fire, 25.2ms\n",
            "WARNING ⚠️ Waiting for stream 0\n",
            "WARNING ⚠️ Waiting for stream 0\n",
            "WARNING ⚠️ Waiting for stream 0\n",
            "WARNING ⚠️ Waiting for stream 0\n",
            "WARNING ⚠️ Waiting for stream 0\n",
            "WARNING ⚠️ Waiting for stream 0\n",
            "WARNING ⚠️ Waiting for stream 0\n",
            "WARNING ⚠️ Waiting for stream 0\n",
            "0: 384x640 1 fire, 29.1ms\n",
            "WARNING ⚠️ Waiting for stream 0\n",
            "WARNING ⚠️ Waiting for stream 0\n",
            "WARNING ⚠️ Waiting for stream 0\n",
            "WARNING ⚠️ Waiting for stream 0\n",
            "WARNING ⚠️ Waiting for stream 0\n",
            "WARNING ⚠️ Waiting for stream 0\n",
            "WARNING ⚠️ Waiting for stream 0\n",
            "WARNING ⚠️ Waiting for stream 0\n",
            "0: 384x640 1 fire, 25.3ms\n",
            "WARNING ⚠️ Waiting for stream 0\n",
            "WARNING ⚠️ Waiting for stream 0\n",
            "WARNING ⚠️ Waiting for stream 0\n",
            "WARNING ⚠️ Waiting for stream 0\n",
            "WARNING ⚠️ Waiting for stream 0\n",
            "WARNING ⚠️ Waiting for stream 0\n",
            "WARNING ⚠️ Waiting for stream 0\n",
            "0: 384x640 1 fire, 25.3ms\n",
            "WARNING ⚠️ Waiting for stream 0\n",
            "WARNING ⚠️ Waiting for stream 0\n",
            "WARNING ⚠️ Waiting for stream 0\n",
            "WARNING ⚠️ Waiting for stream 0\n",
            "WARNING ⚠️ Waiting for stream 0\n",
            "WARNING ⚠️ Waiting for stream 0\n",
            "WARNING ⚠️ Waiting for stream 0\n",
            "WARNING ⚠️ Waiting for stream 0\n",
            "0: 384x640 2 fires, 33.2ms\n",
            "0: 384x640 (no detections), 26.1ms\n",
            "WARNING ⚠️ Waiting for stream 0\n",
            "WARNING ⚠️ Waiting for stream 0\n",
            "WARNING ⚠️ Waiting for stream 0\n",
            "WARNING ⚠️ Waiting for stream 0\n",
            "WARNING ⚠️ Waiting for stream 0\n",
            "WARNING ⚠️ Waiting for stream 0\n",
            "WARNING ⚠️ Waiting for stream 0\n",
            "0: 384x640 (no detections), 35.1ms\n",
            "0: 384x640 (no detections), 25.2ms\n",
            "WARNING ⚠️ Waiting for stream 0\n",
            "WARNING ⚠️ Waiting for stream 0\n",
            "WARNING ⚠️ Waiting for stream 0\n",
            "WARNING ⚠️ Waiting for stream 0\n",
            "WARNING ⚠️ Waiting for stream 0\n",
            "WARNING ⚠️ Waiting for stream 0\n",
            "WARNING ⚠️ Waiting for stream 0\n",
            "WARNING ⚠️ Waiting for stream 0\n",
            "0: 384x640 (no detections), 28.7ms\n",
            "0: 384x640 1 fire, 26.7ms\n",
            "WARNING ⚠️ Waiting for stream 0\n",
            "WARNING ⚠️ Waiting for stream 0\n",
            "WARNING ⚠️ Waiting for stream 0\n",
            "WARNING ⚠️ Waiting for stream 0\n",
            "WARNING ⚠️ Waiting for stream 0\n",
            "0: 384x640 1 fire, 25.3ms\n",
            "0: 384x640 2 fires, 25.7ms\n",
            "WARNING ⚠️ Waiting for stream 0\n",
            "WARNING ⚠️ Waiting for stream 0\n",
            "WARNING ⚠️ Waiting for stream 0\n",
            "WARNING ⚠️ Waiting for stream 0\n",
            "WARNING ⚠️ Waiting for stream 0\n",
            "WARNING ⚠️ Waiting for stream 0\n",
            "WARNING ⚠️ Waiting for stream 0\n",
            "WARNING ⚠️ Waiting for stream 0\n",
            "0: 384x640 1 fire, 25.2ms\n",
            "WARNING ⚠️ Waiting for stream 0\n",
            "WARNING ⚠️ Waiting for stream 0\n",
            "WARNING ⚠️ Waiting for stream 0\n",
            "WARNING ⚠️ Waiting for stream 0\n",
            "WARNING ⚠️ Waiting for stream 0\n",
            "WARNING ⚠️ Waiting for stream 0\n",
            "WARNING ⚠️ Waiting for stream 0\n",
            "WARNING ⚠️ Waiting for stream 0\n",
            "WARNING ⚠️ Waiting for stream 0\n",
            "0: 384x640 (no detections), 25.3ms\n",
            "WARNING ⚠️ Waiting for stream 0\n",
            "WARNING ⚠️ Waiting for stream 0\n",
            "WARNING ⚠️ Waiting for stream 0\n",
            "WARNING ⚠️ Waiting for stream 0\n",
            "WARNING ⚠️ Waiting for stream 0\n",
            "WARNING ⚠️ Waiting for stream 0\n",
            "WARNING ⚠️ Waiting for stream 0\n",
            "WARNING ⚠️ Waiting for stream 0\n",
            "WARNING ⚠️ Waiting for stream 0\n",
            "WARNING ⚠️ Waiting for stream 0\n",
            "0: 384x640 1 fire, 25.2ms\n",
            "WARNING ⚠️ Waiting for stream 0\n",
            "WARNING ⚠️ Waiting for stream 0\n",
            "WARNING ⚠️ Waiting for stream 0\n",
            "WARNING ⚠️ Waiting for stream 0\n",
            "WARNING ⚠️ Waiting for stream 0\n",
            "WARNING ⚠️ Waiting for stream 0\n",
            "WARNING ⚠️ Waiting for stream 0\n",
            "WARNING ⚠️ Waiting for stream 0\n",
            "0: 384x640 (no detections), 25.3ms\n",
            "0: 384x640 (no detections), 25.6ms\n",
            "WARNING ⚠️ Waiting for stream 0\n",
            "WARNING ⚠️ Waiting for stream 0\n",
            "WARNING ⚠️ Waiting for stream 0\n",
            "WARNING ⚠️ Waiting for stream 0\n",
            "WARNING ⚠️ Waiting for stream 0\n",
            "0: 384x640 (no detections), 25.3ms\n",
            "0: 384x640 1 fire, 26.6ms\n",
            "WARNING ⚠️ Waiting for stream 0\n",
            "WARNING ⚠️ Waiting for stream 0\n",
            "WARNING ⚠️ Waiting for stream 0\n",
            "WARNING ⚠️ Waiting for stream 0\n",
            "WARNING ⚠️ Waiting for stream 0\n",
            "WARNING ⚠️ Waiting for stream 0\n",
            "WARNING ⚠️ Waiting for stream 0\n",
            "WARNING ⚠️ Waiting for stream 0\n",
            "WARNING ⚠️ Waiting for stream 0\n",
            "0: 384x640 (no detections), 25.2ms\n",
            "WARNING ⚠️ Waiting for stream 0\n",
            "WARNING ⚠️ Waiting for stream 0\n",
            "WARNING ⚠️ Waiting for stream 0\n",
            "WARNING ⚠️ Waiting for stream 0\n",
            "WARNING ⚠️ Waiting for stream 0\n",
            "WARNING ⚠️ Waiting for stream 0\n",
            "WARNING ⚠️ Waiting for stream 0\n",
            "WARNING ⚠️ Waiting for stream 0\n",
            "0: 384x640 1 fire, 27.7ms\n",
            "0: 384x640 1 fire, 25.1ms\n",
            "WARNING ⚠️ Waiting for stream 0\n",
            "WARNING ⚠️ Waiting for stream 0\n",
            "WARNING ⚠️ Waiting for stream 0\n",
            "WARNING ⚠️ Waiting for stream 0\n",
            "WARNING ⚠️ Waiting for stream 0\n",
            "WARNING ⚠️ Waiting for stream 0\n",
            "WARNING ⚠️ Waiting for stream 0\n",
            "WARNING ⚠️ Waiting for stream 0\n",
            "0: 384x640 1 fire, 25.2ms\n",
            "WARNING ⚠️ Waiting for stream 0\n",
            "WARNING ⚠️ Waiting for stream 0\n",
            "WARNING ⚠️ Waiting for stream 0\n",
            "WARNING ⚠️ Waiting for stream 0\n",
            "WARNING ⚠️ Waiting for stream 0\n",
            "WARNING ⚠️ Waiting for stream 0\n",
            "WARNING ⚠️ Waiting for stream 0\n",
            "WARNING ⚠️ Waiting for stream 0\n",
            "0: 384x640 1 fire, 25.3ms\n",
            "0: 384x640 1 fire, 26.0ms\n",
            "WARNING ⚠️ Waiting for stream 0\n",
            "WARNING ⚠️ Waiting for stream 0\n",
            "WARNING ⚠️ Waiting for stream 0\n",
            "WARNING ⚠️ Waiting for stream 0\n",
            "WARNING ⚠️ Waiting for stream 0\n",
            "0: 384x640 1 fire, 25.4ms\n",
            "0: 384x640 1 fire, 30.9ms\n",
            "WARNING ⚠️ Waiting for stream 0\n",
            "WARNING ⚠️ Waiting for stream 0\n",
            "WARNING ⚠️ Waiting for stream 0\n",
            "WARNING ⚠️ Waiting for stream 0\n",
            "WARNING ⚠️ Waiting for stream 0\n",
            "WARNING ⚠️ Waiting for stream 0\n",
            "WARNING ⚠️ Waiting for stream 0\n",
            "0: 384x640 1 fire, 27.4ms\n",
            "0: 384x640 1 fire, 1 smoke, 25.2ms\n",
            "WARNING ⚠️ Waiting for stream 0\n",
            "WARNING ⚠️ Waiting for stream 0\n",
            "WARNING ⚠️ Waiting for stream 0\n",
            "WARNING ⚠️ Waiting for stream 0\n",
            "WARNING ⚠️ Waiting for stream 0\n",
            "WARNING ⚠️ Waiting for stream 0\n",
            "WARNING ⚠️ Waiting for stream 0\n",
            "WARNING ⚠️ Waiting for stream 0\n",
            "WARNING ⚠️ Waiting for stream 0\n",
            "0: 384x640 3 fires, 25.2ms\n",
            "WARNING ⚠️ Waiting for stream 0\n",
            "WARNING ⚠️ Waiting for stream 0\n",
            "WARNING ⚠️ Waiting for stream 0\n",
            "WARNING ⚠️ Waiting for stream 0\n",
            "WARNING ⚠️ Waiting for stream 0\n",
            "WARNING ⚠️ Waiting for stream 0\n",
            "WARNING ⚠️ Waiting for stream 0\n",
            "WARNING ⚠️ Waiting for stream 0\n",
            "WARNING ⚠️ Waiting for stream 0\n",
            "0: 384x640 1 fire, 25.2ms\n",
            "WARNING ⚠️ Waiting for stream 0\n",
            "WARNING ⚠️ Waiting for stream 0\n",
            "WARNING ⚠️ Waiting for stream 0\n",
            "WARNING ⚠️ Waiting for stream 0\n",
            "WARNING ⚠️ Waiting for stream 0\n",
            "WARNING ⚠️ Waiting for stream 0\n",
            "WARNING ⚠️ Waiting for stream 0\n",
            "WARNING ⚠️ Waiting for stream 0\n",
            "0: 384x640 1 fire, 27.4ms\n",
            "0: 384x640 (no detections), 25.8ms\n",
            "WARNING ⚠️ Waiting for stream 0\n",
            "WARNING ⚠️ Waiting for stream 0\n",
            "WARNING ⚠️ Waiting for stream 0\n",
            "WARNING ⚠️ Waiting for stream 0\n",
            "WARNING ⚠️ Waiting for stream 0\n",
            "0: 384x640 (no detections), 25.3ms\n",
            "0: 384x640 (no detections), 25.3ms\n",
            "WARNING ⚠️ Waiting for stream 0\n",
            "WARNING ⚠️ Waiting for stream 0\n",
            "WARNING ⚠️ Waiting for stream 0\n",
            "WARNING ⚠️ Waiting for stream 0\n",
            "WARNING ⚠️ Waiting for stream 0\n",
            "WARNING ⚠️ Waiting for stream 0\n",
            "WARNING ⚠️ Waiting for stream 0\n",
            "WARNING ⚠️ Waiting for stream 0\n",
            "WARNING ⚠️ Waiting for stream 0\n",
            "0: 384x640 (no detections), 25.3ms\n",
            "WARNING ⚠️ Waiting for stream 0\n",
            "WARNING ⚠️ Waiting for stream 0\n",
            "WARNING ⚠️ Waiting for stream 0\n",
            "WARNING ⚠️ Waiting for stream 0\n",
            "WARNING ⚠️ Waiting for stream 0\n",
            "WARNING ⚠️ Waiting for stream 0\n",
            "WARNING ⚠️ Waiting for stream 0\n",
            "WARNING ⚠️ Waiting for stream 0\n",
            "WARNING ⚠️ Waiting for stream 0\n",
            "0: 384x640 (no detections), 26.9ms\n",
            "0: 384x640 (no detections), 25.1ms\n",
            "WARNING ⚠️ Waiting for stream 0\n",
            "WARNING ⚠️ Waiting for stream 0\n",
            "WARNING ⚠️ Waiting for stream 0\n",
            "WARNING ⚠️ Waiting for stream 0\n",
            "WARNING ⚠️ Waiting for stream 0\n",
            "WARNING ⚠️ Waiting for stream 0\n",
            "WARNING ⚠️ Waiting for stream 0\n",
            "0: 384x640 (no detections), 25.3ms\n",
            "WARNING ⚠️ Waiting for stream 0\n",
            "WARNING ⚠️ Waiting for stream 0\n",
            "WARNING ⚠️ Waiting for stream 0\n",
            "WARNING ⚠️ Waiting for stream 0\n",
            "WARNING ⚠️ Waiting for stream 0\n",
            "WARNING ⚠️ Waiting for stream 0\n",
            "WARNING ⚠️ Waiting for stream 0\n",
            "WARNING ⚠️ Waiting for stream 0\n",
            "WARNING ⚠️ Waiting for stream 0\n",
            "0: 384x640 (no detections), 26.5ms\n",
            "0: 384x640 (no detections), 25.3ms\n",
            "WARNING ⚠️ Waiting for stream 0\n",
            "WARNING ⚠️ Waiting for stream 0\n",
            "WARNING ⚠️ Waiting for stream 0\n",
            "WARNING ⚠️ Waiting for stream 0\n",
            "WARNING ⚠️ Waiting for stream 0\n",
            "WARNING ⚠️ Waiting for stream 0\n",
            "WARNING ⚠️ Waiting for stream 0\n",
            "0: 384x640 1 fire, 25.2ms\n",
            "WARNING ⚠️ Waiting for stream 0\n",
            "WARNING ⚠️ Waiting for stream 0\n",
            "WARNING ⚠️ Waiting for stream 0\n",
            "WARNING ⚠️ Waiting for stream 0\n",
            "WARNING ⚠️ Waiting for stream 0\n",
            "WARNING ⚠️ Waiting for stream 0\n",
            "WARNING ⚠️ Waiting for stream 0\n",
            "WARNING ⚠️ Waiting for stream 0\n",
            "WARNING ⚠️ Waiting for stream 0\n",
            "0: 384x640 3 fires, 28.2ms\n",
            "0: 384x640 4 fires, 25.8ms\n",
            "WARNING ⚠️ Waiting for stream 0\n",
            "WARNING ⚠️ Waiting for stream 0\n",
            "WARNING ⚠️ Waiting for stream 0\n",
            "WARNING ⚠️ Waiting for stream 0\n",
            "WARNING ⚠️ Waiting for stream 0\n",
            "WARNING ⚠️ Waiting for stream 0\n",
            "WARNING ⚠️ Waiting for stream 0\n",
            "0: 384x640 4 fires, 25.2ms\n",
            "WARNING ⚠️ Waiting for stream 0\n",
            "WARNING ⚠️ Waiting for stream 0\n",
            "WARNING ⚠️ Waiting for stream 0\n",
            "WARNING ⚠️ Waiting for stream 0\n",
            "WARNING ⚠️ Waiting for stream 0\n",
            "WARNING ⚠️ Waiting for stream 0\n",
            "WARNING ⚠️ Waiting for stream 0\n",
            "WARNING ⚠️ Waiting for stream 0\n",
            "WARNING ⚠️ Waiting for stream 0\n",
            "0: 384x640 5 fires, 25.2ms\n",
            "WARNING ⚠️ Waiting for stream 0\n",
            "WARNING ⚠️ Waiting for stream 0\n",
            "WARNING ⚠️ Waiting for stream 0\n",
            "WARNING ⚠️ Waiting for stream 0\n",
            "WARNING ⚠️ Waiting for stream 0\n",
            "0: 384x640 5 fires, 30.4ms\n",
            "0: 384x640 3 fires, 25.4ms\n",
            "WARNING ⚠️ Waiting for stream 0\n",
            "WARNING ⚠️ Waiting for stream 0\n",
            "WARNING ⚠️ Waiting for stream 0\n",
            "WARNING ⚠️ Waiting for stream 0\n",
            "WARNING ⚠️ Waiting for stream 0\n",
            "WARNING ⚠️ Waiting for stream 0\n",
            "WARNING ⚠️ Waiting for stream 0\n",
            "WARNING ⚠️ Waiting for stream 0\n",
            "0: 384x640 (no detections), 25.2ms\n",
            "WARNING ⚠️ Waiting for stream 0\n",
            "WARNING ⚠️ Waiting for stream 0\n",
            "WARNING ⚠️ Waiting for stream 0\n",
            "WARNING ⚠️ Waiting for stream 0\n",
            "WARNING ⚠️ Waiting for stream 0\n",
            "WARNING ⚠️ Waiting for stream 0\n",
            "WARNING ⚠️ Waiting for stream 0\n",
            "WARNING ⚠️ Waiting for stream 0\n",
            "0: 384x640 1 fire, 1 smoke, 25.4ms\n",
            "0: 384x640 1 fire, 1 smoke, 25.5ms\n",
            "WARNING ⚠️ Waiting for stream 0\n",
            "WARNING ⚠️ Waiting for stream 0\n",
            "WARNING ⚠️ Waiting for stream 0\n",
            "WARNING ⚠️ Waiting for stream 0\n",
            "WARNING ⚠️ Waiting for stream 0\n",
            "WARNING ⚠️ Waiting for stream 0\n",
            "WARNING ⚠️ Waiting for stream 0\n",
            "WARNING ⚠️ Waiting for stream 0\n",
            "0: 384x640 (no detections), 26.9ms\n",
            "WARNING ⚠️ Waiting for stream 0\n",
            "WARNING ⚠️ Waiting for stream 0\n",
            "WARNING ⚠️ Waiting for stream 0\n",
            "WARNING ⚠️ Waiting for stream 0\n",
            "WARNING ⚠️ Waiting for stream 0\n",
            "WARNING ⚠️ Waiting for stream 0\n",
            "WARNING ⚠️ Waiting for stream 0\n",
            "WARNING ⚠️ Waiting for stream 0\n",
            "0: 384x640 (no detections), 30.2ms\n",
            "0: 384x640 (no detections), 27.2ms\n",
            "WARNING ⚠️ Waiting for stream 0\n",
            "WARNING ⚠️ Waiting for stream 0\n",
            "WARNING ⚠️ Waiting for stream 0\n",
            "WARNING ⚠️ Waiting for stream 0\n",
            "WARNING ⚠️ Waiting for stream 0\n",
            "WARNING ⚠️ Waiting for stream 0\n",
            "WARNING ⚠️ Waiting for stream 0\n",
            "WARNING ⚠️ Waiting for stream 0\n",
            "0: 384x640 (no detections), 26.4ms\n",
            "0: 384x640 (no detections), 25.9ms\n",
            "0: 384x640 (no detections), 25.2ms\n",
            "WARNING ⚠️ Waiting for stream 0\n",
            "WARNING ⚠️ Waiting for stream 0\n",
            "WARNING ⚠️ Waiting for stream 0\n",
            "WARNING ⚠️ Waiting for stream 0\n",
            "WARNING ⚠️ Waiting for stream 0\n",
            "WARNING ⚠️ Waiting for stream 0\n",
            "WARNING ⚠️ Waiting for stream 0\n",
            "0: 384x640 (no detections), 25.6ms\n",
            "WARNING ⚠️ Waiting for stream 0\n",
            "WARNING ⚠️ Waiting for stream 0\n",
            "WARNING ⚠️ Waiting for stream 0\n",
            "WARNING ⚠️ Waiting for stream 0\n",
            "WARNING ⚠️ Waiting for stream 0\n",
            "WARNING ⚠️ Waiting for stream 0\n",
            "0: 384x640 (no detections), 25.5ms\n",
            "WARNING ⚠️ Waiting for stream 0\n",
            "WARNING ⚠️ Waiting for stream 0\n",
            "WARNING ⚠️ Waiting for stream 0\n",
            "WARNING ⚠️ Waiting for stream 0\n",
            "WARNING ⚠️ Waiting for stream 0\n",
            "WARNING ⚠️ Waiting for stream 0\n",
            "WARNING ⚠️ Waiting for stream 0\n",
            "WARNING ⚠️ Waiting for stream 0\n",
            "WARNING ⚠️ Waiting for stream 0\n",
            "0: 384x640 (no detections), 25.3ms\n",
            "WARNING ⚠️ Waiting for stream 0\n",
            "WARNING ⚠️ Waiting for stream 0\n",
            "WARNING ⚠️ Waiting for stream 0\n",
            "WARNING ⚠️ Waiting for stream 0\n",
            "WARNING ⚠️ Waiting for stream 0\n",
            "WARNING ⚠️ Waiting for stream 0\n",
            "WARNING ⚠️ Waiting for stream 0\n",
            "WARNING ⚠️ Waiting for stream 0\n",
            "0: 384x640 (no detections), 30.9ms\n",
            "0: 384x640 (no detections), 25.7ms\n",
            "WARNING ⚠️ Waiting for stream 0\n",
            "WARNING ⚠️ Waiting for stream 0\n",
            "WARNING ⚠️ Waiting for stream 0\n",
            "WARNING ⚠️ Waiting for stream 0\n",
            "WARNING ⚠️ Waiting for stream 0\n",
            "WARNING ⚠️ Waiting for stream 0\n",
            "WARNING ⚠️ Waiting for stream 0\n",
            "WARNING ⚠️ Waiting for stream 0\n",
            "WARNING ⚠️ Waiting for stream 0\n",
            "0: 384x640 1 fire, 25.2ms\n",
            "WARNING ⚠️ Waiting for stream 0\n",
            "WARNING ⚠️ Waiting for stream 0\n",
            "WARNING ⚠️ Waiting for stream 0\n",
            "WARNING ⚠️ Waiting for stream 0\n",
            "WARNING ⚠️ Waiting for stream 0\n",
            "WARNING ⚠️ Waiting for stream 0\n",
            "WARNING ⚠️ Waiting for stream 0\n",
            "WARNING ⚠️ Waiting for stream 0\n",
            "0: 384x640 1 fire, 26.1ms\n",
            "0: 384x640 2 fires, 25.1ms\n",
            "WARNING ⚠️ Waiting for stream 0\n",
            "WARNING ⚠️ Waiting for stream 0\n",
            "WARNING ⚠️ Waiting for stream 0\n",
            "WARNING ⚠️ Waiting for stream 0\n",
            "WARNING ⚠️ Waiting for stream 0\n",
            "0: 384x640 2 fires, 25.2ms\n",
            "WARNING ⚠️ Waiting for stream 0\n",
            "WARNING ⚠️ Waiting for stream 0\n",
            "WARNING ⚠️ Waiting for stream 0\n",
            "WARNING ⚠️ Waiting for stream 0\n",
            "WARNING ⚠️ Waiting for stream 0\n",
            "WARNING ⚠️ Waiting for stream 0\n",
            "WARNING ⚠️ Waiting for stream 0\n",
            "WARNING ⚠️ Waiting for stream 0\n",
            "WARNING ⚠️ Waiting for stream 0\n",
            "0: 384x640 2 fires, 25.3ms\n",
            "0: 384x640 2 fires, 26.2ms\n",
            "WARNING ⚠️ Waiting for stream 0\n",
            "WARNING ⚠️ Waiting for stream 0\n",
            "WARNING ⚠️ Waiting for stream 0\n",
            "WARNING ⚠️ Waiting for stream 0\n",
            "WARNING ⚠️ Waiting for stream 0\n",
            "WARNING ⚠️ Waiting for stream 0\n",
            "WARNING ⚠️ Waiting for stream 0\n",
            "WARNING ⚠️ Waiting for stream 0\n",
            "0: 384x640 4 fires, 25.2ms\n",
            "WARNING ⚠️ Waiting for stream 0\n",
            "WARNING ⚠️ Waiting for stream 0\n",
            "WARNING ⚠️ Waiting for stream 0\n",
            "WARNING ⚠️ Waiting for stream 0\n",
            "WARNING ⚠️ Waiting for stream 0\n",
            "WARNING ⚠️ Waiting for stream 0\n",
            "WARNING ⚠️ Waiting for stream 0\n",
            "WARNING ⚠️ Waiting for stream 0\n",
            "0: 384x640 4 fires, 25.3ms\n",
            "0: 384x640 1 fire, 25.9ms\n",
            "WARNING ⚠️ Waiting for stream 0\n",
            "WARNING ⚠️ Waiting for stream 0\n",
            "WARNING ⚠️ Waiting for stream 0\n",
            "WARNING ⚠️ Waiting for stream 0\n",
            "WARNING ⚠️ Waiting for stream 0\n",
            "WARNING ⚠️ Waiting for stream 0\n",
            "WARNING ⚠️ Waiting for stream 0\n",
            "WARNING ⚠️ Waiting for stream 0\n",
            "0: 384x640 2 fires, 25.2ms\n",
            "WARNING ⚠️ Waiting for stream 0\n",
            "WARNING ⚠️ Waiting for stream 0\n",
            "WARNING ⚠️ Waiting for stream 0\n",
            "WARNING ⚠️ Waiting for stream 0\n",
            "WARNING ⚠️ Waiting for stream 0\n",
            "WARNING ⚠️ Waiting for stream 0\n",
            "WARNING ⚠️ Waiting for stream 0\n",
            "WARNING ⚠️ Waiting for stream 0\n",
            "WARNING ⚠️ Waiting for stream 0\n",
            "0: 384x640 2 fires, 25.2ms\n",
            "0: 384x640 3 fires, 26.0ms\n",
            "WARNING ⚠️ Waiting for stream 0\n",
            "WARNING ⚠️ Waiting for stream 0\n",
            "WARNING ⚠️ Waiting for stream 0\n",
            "WARNING ⚠️ Waiting for stream 0\n",
            "0: 384x640 4 fires, 25.3ms\n",
            "0: 384x640 2 fires, 25.6ms\n",
            "WARNING ⚠️ Waiting for stream 0\n",
            "WARNING ⚠️ Waiting for stream 0\n",
            "WARNING ⚠️ Waiting for stream 0\n",
            "WARNING ⚠️ Waiting for stream 0\n",
            "WARNING ⚠️ Waiting for stream 0\n",
            "WARNING ⚠️ Waiting for stream 0\n",
            "WARNING ⚠️ Waiting for stream 0\n",
            "WARNING ⚠️ Waiting for stream 0\n",
            "WARNING ⚠️ Waiting for stream 0\n",
            "0: 384x640 2 fires, 25.2ms\n",
            "WARNING ⚠️ Waiting for stream 0\n",
            "WARNING ⚠️ Waiting for stream 0\n",
            "WARNING ⚠️ Waiting for stream 0\n",
            "WARNING ⚠️ Waiting for stream 0\n",
            "WARNING ⚠️ Waiting for stream 0\n",
            "WARNING ⚠️ Waiting for stream 0\n",
            "WARNING ⚠️ Waiting for stream 0\n",
            "WARNING ⚠️ Waiting for stream 0\n",
            "WARNING ⚠️ Waiting for stream 0\n",
            "0: 384x640 3 fires, 25.3ms\n",
            "WARNING ⚠️ Waiting for stream 0\n",
            "WARNING ⚠️ Waiting for stream 0\n",
            "WARNING ⚠️ Waiting for stream 0\n",
            "WARNING ⚠️ Waiting for stream 0\n",
            "WARNING ⚠️ Waiting for stream 0\n",
            "WARNING ⚠️ Waiting for stream 0\n",
            "WARNING ⚠️ Waiting for stream 0\n",
            "WARNING ⚠️ Waiting for stream 0\n",
            "WARNING ⚠️ Waiting for stream 0\n",
            "WARNING ⚠️ Waiting for stream 0\n",
            "0: 384x640 4 fires, 25.2ms\n",
            "WARNING ⚠️ Waiting for stream 0\n",
            "WARNING ⚠️ Waiting for stream 0\n",
            "WARNING ⚠️ Waiting for stream 0\n",
            "WARNING ⚠️ Waiting for stream 0\n",
            "0: 384x640 2 fires, 25.2ms\n",
            "0: 384x640 3 fires, 26.3ms\n",
            "WARNING ⚠️ Waiting for stream 0\n",
            "WARNING ⚠️ Waiting for stream 0\n",
            "WARNING ⚠️ Waiting for stream 0\n",
            "WARNING ⚠️ Waiting for stream 0\n",
            "WARNING ⚠️ Waiting for stream 0\n",
            "WARNING ⚠️ Waiting for stream 0\n",
            "WARNING ⚠️ Waiting for stream 0\n",
            "WARNING ⚠️ Waiting for stream 0\n",
            "0: 384x640 2 fires, 25.2ms\n",
            "WARNING ⚠️ Waiting for stream 0\n",
            "WARNING ⚠️ Waiting for stream 0\n",
            "WARNING ⚠️ Waiting for stream 0\n",
            "WARNING ⚠️ Waiting for stream 0\n",
            "WARNING ⚠️ Waiting for stream 0\n",
            "WARNING ⚠️ Waiting for stream 0\n",
            "WARNING ⚠️ Waiting for stream 0\n",
            "WARNING ⚠️ Waiting for stream 0\n",
            "WARNING ⚠️ Waiting for stream 0\n",
            "0: 384x640 3 fires, 25.2ms\n",
            "WARNING ⚠️ Waiting for stream 0\n",
            "WARNING ⚠️ Waiting for stream 0\n",
            "WARNING ⚠️ Waiting for stream 0\n",
            "WARNING ⚠️ Waiting for stream 0\n",
            "WARNING ⚠️ Waiting for stream 0\n",
            "WARNING ⚠️ Waiting for stream 0\n",
            "WARNING ⚠️ Waiting for stream 0\n",
            "WARNING ⚠️ Waiting for stream 0\n",
            "WARNING ⚠️ Waiting for stream 0\n",
            "WARNING ⚠️ Waiting for stream 0\n",
            "0: 384x640 3 fires, 25.3ms\n",
            "WARNING ⚠️ Waiting for stream 0\n",
            "WARNING ⚠️ Waiting for stream 0\n",
            "WARNING ⚠️ Waiting for stream 0\n",
            "WARNING ⚠️ Waiting for stream 0\n",
            "WARNING ⚠️ Waiting for stream 0\n",
            "WARNING ⚠️ Waiting for stream 0\n",
            "WARNING ⚠️ Waiting for stream 0\n",
            "WARNING ⚠️ Waiting for stream 0\n",
            "0: 384x640 2 fires, 25.2ms\n",
            "WARNING ⚠️ Waiting for stream 0\n",
            "WARNING ⚠️ Waiting for stream 0\n",
            "WARNING ⚠️ Waiting for stream 0\n",
            "WARNING ⚠️ Waiting for stream 0\n",
            "WARNING ⚠️ Waiting for stream 0\n",
            "WARNING ⚠️ Waiting for stream 0\n",
            "WARNING ⚠️ Waiting for stream 0\n",
            "WARNING ⚠️ Waiting for stream 0\n",
            "WARNING ⚠️ Waiting for stream 0\n",
            "0: 384x640 2 fires, 25.2ms\n",
            "WARNING ⚠️ Waiting for stream 0\n",
            "WARNING ⚠️ Waiting for stream 0\n",
            "WARNING ⚠️ Waiting for stream 0\n",
            "WARNING ⚠️ Waiting for stream 0\n",
            "WARNING ⚠️ Waiting for stream 0\n",
            "WARNING ⚠️ Waiting for stream 0\n",
            "WARNING ⚠️ Waiting for stream 0\n",
            "WARNING ⚠️ Waiting for stream 0\n",
            "0: 384x640 1 fire, 25.3ms\n",
            "0: 384x640 4 fires, 25.1ms\n",
            "WARNING ⚠️ Waiting for stream 0\n",
            "WARNING ⚠️ Waiting for stream 0\n",
            "WARNING ⚠️ Waiting for stream 0\n",
            "WARNING ⚠️ Waiting for stream 0\n",
            "WARNING ⚠️ Waiting for stream 0\n",
            "0: 384x640 2 fires, 25.3ms\n",
            "0: 384x640 3 fires, 25.2ms\n",
            "WARNING ⚠️ Waiting for stream 0\n",
            "WARNING ⚠️ Waiting for stream 0\n",
            "WARNING ⚠️ Waiting for stream 0\n",
            "WARNING ⚠️ Waiting for stream 0\n",
            "WARNING ⚠️ Waiting for stream 0\n",
            "WARNING ⚠️ Waiting for stream 0\n",
            "WARNING ⚠️ Waiting for stream 0\n",
            "WARNING ⚠️ Waiting for stream 0\n",
            "0: 384x640 2 fires, 25.2ms\n",
            "WARNING ⚠️ Waiting for stream 0\n",
            "WARNING ⚠️ Waiting for stream 0\n",
            "WARNING ⚠️ Waiting for stream 0\n",
            "WARNING ⚠️ Waiting for stream 0\n",
            "WARNING ⚠️ Waiting for stream 0\n",
            "WARNING ⚠️ Waiting for stream 0\n",
            "WARNING ⚠️ Waiting for stream 0\n",
            "WARNING ⚠️ Waiting for stream 0\n",
            "WARNING ⚠️ Waiting for stream 0\n",
            "0: 384x640 2 fires, 25.3ms\n",
            "0: 384x640 2 fires, 25.7ms\n",
            "WARNING ⚠️ Waiting for stream 0\n",
            "WARNING ⚠️ Waiting for stream 0\n",
            "WARNING ⚠️ Waiting for stream 0\n",
            "WARNING ⚠️ Waiting for stream 0\n",
            "WARNING ⚠️ Waiting for stream 0\n",
            "WARNING ⚠️ Waiting for stream 0\n",
            "WARNING ⚠️ Waiting for stream 0\n",
            "WARNING ⚠️ Waiting for stream 0\n",
            "WARNING ⚠️ Waiting for stream 0\n",
            "0: 384x640 5 fires, 25.2ms\n",
            "WARNING ⚠️ Waiting for stream 0\n",
            "WARNING ⚠️ Waiting for stream 0\n",
            "WARNING ⚠️ Waiting for stream 0\n",
            "WARNING ⚠️ Waiting for stream 0\n",
            "WARNING ⚠️ Waiting for stream 0\n",
            "WARNING ⚠️ Waiting for stream 0\n",
            "0: 384x640 4 fires, 25.2ms\n",
            "WARNING ⚠️ Waiting for stream 0\n",
            "WARNING ⚠️ Waiting for stream 0\n",
            "WARNING ⚠️ Waiting for stream 0\n",
            "WARNING ⚠️ Waiting for stream 0\n",
            "WARNING ⚠️ Waiting for stream 0\n",
            "WARNING ⚠️ Waiting for stream 0\n",
            "WARNING ⚠️ Waiting for stream 0\n",
            "WARNING ⚠️ Waiting for stream 0\n",
            "WARNING ⚠️ Waiting for stream 0\n",
            "0: 384x640 3 fires, 25.2ms\n",
            "0: 384x640 3 fires, 25.3ms\n",
            "WARNING ⚠️ Waiting for stream 0\n",
            "WARNING ⚠️ Waiting for stream 0\n",
            "WARNING ⚠️ Waiting for stream 0\n",
            "WARNING ⚠️ Waiting for stream 0\n",
            "WARNING ⚠️ Waiting for stream 0\n",
            "WARNING ⚠️ Waiting for stream 0\n",
            "WARNING ⚠️ Waiting for stream 0\n",
            "WARNING ⚠️ Waiting for stream 0\n",
            "WARNING ⚠️ Waiting for stream 0\n",
            "0: 384x640 4 fires, 25.2ms\n",
            "WARNING ⚠️ Waiting for stream 0\n",
            "WARNING ⚠️ Waiting for stream 0\n",
            "WARNING ⚠️ Waiting for stream 0\n",
            "WARNING ⚠️ Waiting for stream 0\n",
            "WARNING ⚠️ Waiting for stream 0\n",
            "WARNING ⚠️ Waiting for stream 0\n",
            "WARNING ⚠️ Waiting for stream 0\n",
            "0: 384x640 3 fires, 25.2ms\n",
            "0: 384x640 3 fires, 26.7ms\n",
            "WARNING ⚠️ Waiting for stream 0\n",
            "WARNING ⚠️ Waiting for stream 0\n",
            "WARNING ⚠️ Waiting for stream 0\n",
            "WARNING ⚠️ Waiting for stream 0\n",
            "WARNING ⚠️ Waiting for stream 0\n",
            "WARNING ⚠️ Waiting for stream 0\n",
            "WARNING ⚠️ Waiting for stream 0\n",
            "WARNING ⚠️ Waiting for stream 0\n",
            "0: 384x640 4 fires, 25.3ms\n",
            "0: 384x640 3 fires, 25.2ms\n",
            "WARNING ⚠️ Waiting for stream 0\n",
            "WARNING ⚠️ Waiting for stream 0\n",
            "WARNING ⚠️ Waiting for stream 0\n",
            "WARNING ⚠️ Waiting for stream 0\n",
            "WARNING ⚠️ Waiting for stream 0\n",
            "WARNING ⚠️ Waiting for stream 0\n",
            "0: 384x640 2 fires, 25.3ms\n",
            "WARNING ⚠️ Waiting for stream 0\n",
            "WARNING ⚠️ Waiting for stream 0\n",
            "WARNING ⚠️ Waiting for stream 0\n",
            "WARNING ⚠️ Waiting for stream 0\n",
            "WARNING ⚠️ Waiting for stream 0\n",
            "WARNING ⚠️ Waiting for stream 0\n",
            "WARNING ⚠️ Waiting for stream 0\n",
            "WARNING ⚠️ Waiting for stream 0\n",
            "WARNING ⚠️ Waiting for stream 0\n",
            "0: 384x640 4 fires, 25.3ms\n",
            "0: 384x640 3 fires, 25.6ms\n",
            "WARNING ⚠️ Waiting for stream 0\n",
            "WARNING ⚠️ Waiting for stream 0\n",
            "WARNING ⚠️ Waiting for stream 0\n",
            "WARNING ⚠️ Waiting for stream 0\n",
            "WARNING ⚠️ Waiting for stream 0\n",
            "WARNING ⚠️ Waiting for stream 0\n",
            "WARNING ⚠️ Waiting for stream 0\n",
            "WARNING ⚠️ Waiting for stream 0\n",
            "0: 384x640 3 fires, 25.3ms\n",
            "WARNING ⚠️ Waiting for stream 0\n",
            "WARNING ⚠️ Waiting for stream 0\n",
            "WARNING ⚠️ Waiting for stream 0\n",
            "WARNING ⚠️ Waiting for stream 0\n",
            "WARNING ⚠️ Waiting for stream 0\n",
            "WARNING ⚠️ Waiting for stream 0\n",
            "WARNING ⚠️ Waiting for stream 0\n",
            "0: 384x640 2 fires, 25.3ms\n",
            "0: 384x640 3 fires, 25.1ms\n",
            "WARNING ⚠️ Waiting for stream 0\n",
            "WARNING ⚠️ Waiting for stream 0\n",
            "WARNING ⚠️ Waiting for stream 0\n",
            "WARNING ⚠️ Waiting for stream 0\n",
            "WARNING ⚠️ Waiting for stream 0\n",
            "0: 384x640 2 fires, 25.2ms\n",
            "WARNING ⚠️ Waiting for stream 0\n",
            "WARNING ⚠️ Waiting for stream 0\n",
            "WARNING ⚠️ Waiting for stream 0\n",
            "WARNING ⚠️ Waiting for stream 0\n",
            "WARNING ⚠️ Waiting for stream 0\n",
            "WARNING ⚠️ Waiting for stream 0\n",
            "WARNING ⚠️ Waiting for stream 0\n",
            "WARNING ⚠️ Waiting for stream 0\n",
            "0: 384x640 3 fires, 25.2ms\n",
            "WARNING ⚠️ Waiting for stream 0\n",
            "WARNING ⚠️ Waiting for stream 0\n",
            "WARNING ⚠️ Waiting for stream 0\n",
            "WARNING ⚠️ Waiting for stream 0\n",
            "WARNING ⚠️ Waiting for stream 0\n",
            "WARNING ⚠️ Waiting for stream 0\n",
            "WARNING ⚠️ Waiting for stream 0\n",
            "WARNING ⚠️ Waiting for stream 0\n",
            "WARNING ⚠️ Waiting for stream 0\n",
            "0: 384x640 2 fires, 25.2ms\n",
            "WARNING ⚠️ Waiting for stream 0\n",
            "WARNING ⚠️ Waiting for stream 0\n",
            "WARNING ⚠️ Waiting for stream 0\n",
            "WARNING ⚠️ Waiting for stream 0\n",
            "WARNING ⚠️ Waiting for stream 0\n",
            "WARNING ⚠️ Waiting for stream 0\n",
            "WARNING ⚠️ Waiting for stream 0\n",
            "WARNING ⚠️ Waiting for stream 0\n",
            "WARNING ⚠️ Waiting for stream 0\n",
            "0: 384x640 1 fire, 25.2ms\n",
            "WARNING ⚠️ Waiting for stream 0\n",
            "WARNING ⚠️ Waiting for stream 0\n",
            "WARNING ⚠️ Waiting for stream 0\n",
            "WARNING ⚠️ Waiting for stream 0\n",
            "WARNING ⚠️ Waiting for stream 0\n",
            "WARNING ⚠️ Waiting for stream 0\n",
            "WARNING ⚠️ Waiting for stream 0\n",
            "WARNING ⚠️ Waiting for stream 0\n",
            "WARNING ⚠️ Waiting for stream 0\n",
            "0: 384x640 2 fires, 25.4ms\n",
            "0: 384x640 2 fires, 25.2ms\n",
            "WARNING ⚠️ Waiting for stream 0\n",
            "WARNING ⚠️ Waiting for stream 0\n",
            "WARNING ⚠️ Waiting for stream 0\n",
            "WARNING ⚠️ Waiting for stream 0\n",
            "WARNING ⚠️ Waiting for stream 0\n",
            "WARNING ⚠️ Waiting for stream 0\n",
            "WARNING ⚠️ Waiting for stream 0\n",
            "WARNING ⚠️ Waiting for stream 0\n",
            "0: 384x640 1 fire, 25.2ms\n",
            "WARNING ⚠️ Waiting for stream 0\n",
            "WARNING ⚠️ Waiting for stream 0\n",
            "WARNING ⚠️ Waiting for stream 0\n",
            "WARNING ⚠️ Waiting for stream 0\n",
            "WARNING ⚠️ Waiting for stream 0\n",
            "WARNING ⚠️ Waiting for stream 0\n",
            "0: 384x640 5 fires, 25.2ms\n",
            "WARNING ⚠️ Waiting for stream 0\n",
            "WARNING ⚠️ Waiting for stream 0\n",
            "WARNING ⚠️ Waiting for stream 0\n",
            "WARNING ⚠️ Waiting for stream 0\n",
            "WARNING ⚠️ Waiting for stream 0\n",
            "WARNING ⚠️ Waiting for stream 0\n",
            "WARNING ⚠️ Waiting for stream 0\n",
            "WARNING ⚠️ Waiting for stream 0\n",
            "0: 384x640 1 fire, 25.3ms\n",
            "0: 384x640 1 fire, 26.0ms\n",
            "WARNING ⚠️ Waiting for stream 0\n",
            "WARNING ⚠️ Waiting for stream 0\n",
            "WARNING ⚠️ Waiting for stream 0\n",
            "WARNING ⚠️ Waiting for stream 0\n",
            "WARNING ⚠️ Waiting for stream 0\n",
            "WARNING ⚠️ Waiting for stream 0\n",
            "WARNING ⚠️ Waiting for stream 0\n",
            "WARNING ⚠️ Waiting for stream 0\n",
            "WARNING ⚠️ Waiting for stream 0\n",
            "0: 384x640 3 fires, 25.2ms\n",
            "WARNING ⚠️ Waiting for stream 0\n",
            "WARNING ⚠️ Waiting for stream 0\n",
            "WARNING ⚠️ Waiting for stream 0\n",
            "WARNING ⚠️ Waiting for stream 0\n",
            "WARNING ⚠️ Waiting for stream 0\n",
            "WARNING ⚠️ Waiting for stream 0\n",
            "WARNING ⚠️ Waiting for stream 0\n",
            "WARNING ⚠️ Waiting for stream 0\n",
            "0: 384x640 1 fire, 25.2ms\n",
            "WARNING ⚠️ Waiting for stream 0\n",
            "WARNING ⚠️ Waiting for stream 0\n",
            "WARNING ⚠️ Waiting for stream 0\n",
            "WARNING ⚠️ Waiting for stream 0\n",
            "WARNING ⚠️ Waiting for stream 0\n",
            "WARNING ⚠️ Waiting for stream 0\n",
            "WARNING ⚠️ Waiting for stream 0\n",
            "WARNING ⚠️ Waiting for stream 0\n",
            "0: 384x640 (no detections), 25.2ms\n",
            "WARNING ⚠️ Waiting for stream 0\n",
            "WARNING ⚠️ Waiting for stream 0\n",
            "WARNING ⚠️ Waiting for stream 0\n",
            "WARNING ⚠️ Waiting for stream 0\n",
            "WARNING ⚠️ Waiting for stream 0\n",
            "WARNING ⚠️ Waiting for stream 0\n",
            "WARNING ⚠️ Waiting for stream 0\n",
            "WARNING ⚠️ Waiting for stream 0\n",
            "WARNING ⚠️ Waiting for stream 0\n",
            "WARNING ⚠️ Waiting for stream 0\n",
            "0: 384x640 1 fire, 25.2ms\n",
            "WARNING ⚠️ Waiting for stream 0\n",
            "WARNING ⚠️ Waiting for stream 0\n",
            "WARNING ⚠️ Waiting for stream 0\n",
            "WARNING ⚠️ Waiting for stream 0\n",
            "WARNING ⚠️ Waiting for stream 0\n",
            "WARNING ⚠️ Waiting for stream 0\n",
            "WARNING ⚠️ Waiting for stream 0\n",
            "0: 384x640 (no detections), 25.9ms\n",
            "0: 384x640 (no detections), 25.4ms\n",
            "WARNING ⚠️ Waiting for stream 0\n",
            "WARNING ⚠️ Waiting for stream 0\n",
            "WARNING ⚠️ Waiting for stream 0\n",
            "WARNING ⚠️ Waiting for stream 0\n",
            "WARNING ⚠️ Waiting for stream 0\n",
            "WARNING ⚠️ Waiting for stream 0\n",
            "WARNING ⚠️ Waiting for stream 0\n",
            "WARNING ⚠️ Waiting for stream 0\n",
            "0: 384x640 (no detections), 25.3ms\n",
            "WARNING ⚠️ Waiting for stream 0\n",
            "WARNING ⚠️ Waiting for stream 0\n",
            "WARNING ⚠️ Waiting for stream 0\n",
            "WARNING ⚠️ Waiting for stream 0\n",
            "WARNING ⚠️ Waiting for stream 0\n",
            "WARNING ⚠️ Waiting for stream 0\n",
            "WARNING ⚠️ Waiting for stream 0\n",
            "WARNING ⚠️ Waiting for stream 0\n",
            "0: 384x640 1 fire, 26.1ms\n",
            "0: 384x640 (no detections), 25.6ms\n",
            "WARNING ⚠️ Waiting for stream 0\n",
            "WARNING ⚠️ Waiting for stream 0\n",
            "WARNING ⚠️ Waiting for stream 0\n",
            "WARNING ⚠️ Waiting for stream 0\n",
            "WARNING ⚠️ Waiting for stream 0\n",
            "WARNING ⚠️ Waiting for stream 0\n",
            "WARNING ⚠️ Waiting for stream 0\n",
            "WARNING ⚠️ Waiting for stream 0\n",
            "0: 384x640 (no detections), 25.2ms\n",
            "WARNING ⚠️ Waiting for stream 0\n",
            "WARNING ⚠️ Waiting for stream 0\n",
            "WARNING ⚠️ Waiting for stream 0\n",
            "WARNING ⚠️ Waiting for stream 0\n",
            "WARNING ⚠️ Waiting for stream 0\n",
            "WARNING ⚠️ Waiting for stream 0\n",
            "WARNING ⚠️ Waiting for stream 0\n",
            "WARNING ⚠️ Waiting for stream 0\n",
            "0: 384x640 1 fire, 27.2ms\n",
            "0: 384x640 1 fire, 25.2ms\n",
            "WARNING ⚠️ Waiting for stream 0\n",
            "WARNING ⚠️ Waiting for stream 0\n",
            "WARNING ⚠️ Waiting for stream 0\n",
            "WARNING ⚠️ Waiting for stream 0\n",
            "WARNING ⚠️ Waiting for stream 0\n",
            "WARNING ⚠️ Waiting for stream 0\n",
            "WARNING ⚠️ Waiting for stream 0\n",
            "WARNING ⚠️ Waiting for stream 0\n",
            "0: 384x640 1 fire, 25.3ms\n",
            "WARNING ⚠️ Waiting for stream 0\n",
            "WARNING ⚠️ Waiting for stream 0\n",
            "WARNING ⚠️ Waiting for stream 0\n",
            "WARNING ⚠️ Waiting for stream 0\n",
            "WARNING ⚠️ Waiting for stream 0\n",
            "WARNING ⚠️ Waiting for stream 0\n",
            "WARNING ⚠️ Waiting for stream 0\n",
            "WARNING ⚠️ Waiting for stream 0\n",
            "WARNING ⚠️ Waiting for stream 0\n",
            "0: 384x640 (no detections), 25.3ms\n",
            "WARNING ⚠️ Waiting for stream 0\n",
            "WARNING ⚠️ Waiting for stream 0\n",
            "WARNING ⚠️ Waiting for stream 0\n",
            "WARNING ⚠️ Waiting for stream 0\n",
            "WARNING ⚠️ Waiting for stream 0\n",
            "0: 384x640 (no detections), 25.8ms\n",
            "0: 384x640 1 fire, 25.3ms\n",
            "WARNING ⚠️ Waiting for stream 0\n",
            "WARNING ⚠️ Waiting for stream 0\n",
            "WARNING ⚠️ Waiting for stream 0\n",
            "WARNING ⚠️ Waiting for stream 0\n",
            "WARNING ⚠️ Waiting for stream 0\n",
            "WARNING ⚠️ Waiting for stream 0\n",
            "WARNING ⚠️ Waiting for stream 0\n",
            "WARNING ⚠️ Waiting for stream 0\n",
            "WARNING ⚠️ Waiting for stream 0\n",
            "WARNING ⚠️ Waiting for stream 0\n",
            "0: 384x640 (no detections), 25.2ms\n",
            "WARNING ⚠️ Waiting for stream 0\n",
            "WARNING ⚠️ Waiting for stream 0\n",
            "WARNING ⚠️ Waiting for stream 0\n",
            "WARNING ⚠️ Waiting for stream 0\n",
            "WARNING ⚠️ Waiting for stream 0\n",
            "WARNING ⚠️ Waiting for stream 0\n",
            "WARNING ⚠️ Waiting for stream 0\n",
            "WARNING ⚠️ Waiting for stream 0\n",
            "0: 384x640 (no detections), 30.9ms\n",
            "0: 384x640 1 fire, 25.1ms\n",
            "WARNING ⚠️ Waiting for stream 0\n",
            "WARNING ⚠️ Waiting for stream 0\n",
            "WARNING ⚠️ Waiting for stream 0\n",
            "WARNING ⚠️ Waiting for stream 0\n",
            "WARNING ⚠️ Waiting for stream 0\n",
            "WARNING ⚠️ Waiting for stream 0\n",
            "0: 384x640 1 fire, 25.2ms\n",
            "WARNING ⚠️ Waiting for stream 0\n",
            "WARNING ⚠️ Waiting for stream 0\n",
            "WARNING ⚠️ Waiting for stream 0\n",
            "WARNING ⚠️ Waiting for stream 0\n",
            "WARNING ⚠️ Waiting for stream 0\n",
            "WARNING ⚠️ Waiting for stream 0\n",
            "WARNING ⚠️ Waiting for stream 0\n",
            "WARNING ⚠️ Waiting for stream 0\n",
            "WARNING ⚠️ Waiting for stream 0\n",
            "0: 384x640 2 fires, 25.2ms\n",
            "WARNING ⚠️ Waiting for stream 0\n",
            "WARNING ⚠️ Waiting for stream 0\n",
            "WARNING ⚠️ Waiting for stream 0\n",
            "WARNING ⚠️ Waiting for stream 0\n",
            "WARNING ⚠️ Waiting for stream 0\n",
            "WARNING ⚠️ Waiting for stream 0\n",
            "WARNING ⚠️ Waiting for stream 0\n",
            "WARNING ⚠️ Waiting for stream 0\n",
            "0: 384x640 1 fire, 25.2ms\n",
            "0: 384x640 1 fire, 26.4ms\n",
            "WARNING ⚠️ Waiting for stream 0\n",
            "WARNING ⚠️ Waiting for stream 0\n",
            "WARNING ⚠️ Waiting for stream 0\n",
            "WARNING ⚠️ Waiting for stream 0\n",
            "WARNING ⚠️ Waiting for stream 0\n",
            "WARNING ⚠️ Waiting for stream 0\n",
            "WARNING ⚠️ Waiting for stream 0\n",
            "0: 384x640 1 fire, 25.2ms\n",
            "WARNING ⚠️ Waiting for stream 0\n",
            "WARNING ⚠️ Waiting for stream 0\n",
            "WARNING ⚠️ Waiting for stream 0\n",
            "WARNING ⚠️ Waiting for stream 0\n",
            "WARNING ⚠️ Waiting for stream 0\n",
            "WARNING ⚠️ Waiting for stream 0\n",
            "WARNING ⚠️ Waiting for stream 0\n",
            "WARNING ⚠️ Waiting for stream 0\n",
            "0: 384x640 1 fire, 25.3ms\n",
            "WARNING ⚠️ Waiting for stream 0\n",
            "WARNING ⚠️ Waiting for stream 0\n",
            "WARNING ⚠️ Waiting for stream 0\n",
            "WARNING ⚠️ Waiting for stream 0\n",
            "WARNING ⚠️ Waiting for stream 0\n",
            "WARNING ⚠️ Waiting for stream 0\n",
            "WARNING ⚠️ Waiting for stream 0\n",
            "WARNING ⚠️ Waiting for stream 0\n",
            "0: 384x640 1 fire, 25.3ms\n",
            "0: 384x640 1 fire, 27.5ms\n",
            "WARNING ⚠️ Waiting for stream 0\n",
            "WARNING ⚠️ Waiting for stream 0\n",
            "WARNING ⚠️ Waiting for stream 0\n",
            "WARNING ⚠️ Waiting for stream 0\n",
            "WARNING ⚠️ Waiting for stream 0\n",
            "WARNING ⚠️ Waiting for stream 0\n",
            "WARNING ⚠️ Waiting for stream 0\n",
            "0: 384x640 1 fire, 25.3ms\n",
            "WARNING ⚠️ Waiting for stream 0\n",
            "WARNING ⚠️ Waiting for stream 0\n",
            "WARNING ⚠️ Waiting for stream 0\n",
            "WARNING ⚠️ Waiting for stream 0\n",
            "WARNING ⚠️ Waiting for stream 0\n",
            "WARNING ⚠️ Waiting for stream 0\n",
            "WARNING ⚠️ Waiting for stream 0\n",
            "WARNING ⚠️ Waiting for stream 0\n",
            "0: 384x640 1 fire, 26.4ms\n",
            "0: 384x640 1 fire, 25.2ms\n",
            "WARNING ⚠️ Waiting for stream 0\n",
            "WARNING ⚠️ Waiting for stream 0\n",
            "WARNING ⚠️ Waiting for stream 0\n",
            "WARNING ⚠️ Waiting for stream 0\n",
            "WARNING ⚠️ Waiting for stream 0\n",
            "WARNING ⚠️ Waiting for stream 0\n",
            "WARNING ⚠️ Waiting for stream 0\n",
            "WARNING ⚠️ Waiting for stream 0\n",
            "0: 384x640 2 fires, 40.6ms\n",
            "0: 384x640 2 fires, 27.5ms\n",
            "WARNING ⚠️ Waiting for stream 0\n",
            "WARNING ⚠️ Waiting for stream 0\n",
            "WARNING ⚠️ Waiting for stream 0\n",
            "WARNING ⚠️ Waiting for stream 0\n",
            "WARNING ⚠️ Waiting for stream 0\n",
            "WARNING ⚠️ Waiting for stream 0\n",
            "WARNING ⚠️ Waiting for stream 0\n",
            "0: 384x640 2 fires, 29.7ms\n",
            "0: 384x640 2 fires, 25.7ms\n",
            "WARNING ⚠️ Waiting for stream 0\n",
            "WARNING ⚠️ Waiting for stream 0\n",
            "WARNING ⚠️ Waiting for stream 0\n",
            "WARNING ⚠️ Waiting for stream 0\n",
            "WARNING ⚠️ Waiting for stream 0\n",
            "WARNING ⚠️ Waiting for stream 0\n",
            "WARNING ⚠️ Waiting for stream 0\n",
            "WARNING ⚠️ Waiting for stream 0\n",
            "0: 384x640 1 fire, 36.5ms\n",
            "0: 384x640 1 fire, 25.4ms\n",
            "WARNING ⚠️ Waiting for stream 0\n",
            "WARNING ⚠️ Waiting for stream 0\n",
            "WARNING ⚠️ Waiting for stream 0\n",
            "WARNING ⚠️ Waiting for stream 0\n",
            "WARNING ⚠️ Waiting for stream 0\n",
            "WARNING ⚠️ Waiting for stream 0\n",
            "WARNING ⚠️ Waiting for stream 0\n",
            "WARNING ⚠️ Waiting for stream 0\n",
            "0: 384x640 1 fire, 25.2ms\n",
            "WARNING ⚠️ Waiting for stream 0\n",
            "WARNING ⚠️ Waiting for stream 0\n",
            "WARNING ⚠️ Waiting for stream 0\n",
            "WARNING ⚠️ Waiting for stream 0\n",
            "WARNING ⚠️ Waiting for stream 0\n",
            "WARNING ⚠️ Waiting for stream 0\n",
            "WARNING ⚠️ Waiting for stream 0\n",
            "WARNING ⚠️ Waiting for stream 0\n",
            "0: 384x640 2 fires, 25.2ms\n",
            "WARNING ⚠️ Waiting for stream 0\n",
            "WARNING ⚠️ Waiting for stream 0\n",
            "WARNING ⚠️ Waiting for stream 0\n",
            "WARNING ⚠️ Waiting for stream 0\n",
            "WARNING ⚠️ Waiting for stream 0\n",
            "WARNING ⚠️ Waiting for stream 0\n",
            "WARNING ⚠️ Waiting for stream 0\n",
            "WARNING ⚠️ Waiting for stream 0\n",
            "WARNING ⚠️ Waiting for stream 0\n",
            "0: 384x640 3 fires, 25.2ms\n",
            "WARNING ⚠️ Waiting for stream 0\n",
            "WARNING ⚠️ Waiting for stream 0\n",
            "WARNING ⚠️ Waiting for stream 0\n",
            "WARNING ⚠️ Waiting for stream 0\n",
            "WARNING ⚠️ Waiting for stream 0\n",
            "WARNING ⚠️ Waiting for stream 0\n",
            "0: 384x640 2 fires, 26.6ms\n",
            "0: 384x640 1 fire, 25.9ms\n",
            "WARNING ⚠️ Waiting for stream 0\n",
            "WARNING ⚠️ Waiting for stream 0\n",
            "WARNING ⚠️ Waiting for stream 0\n",
            "WARNING ⚠️ Waiting for stream 0\n",
            "WARNING ⚠️ Waiting for stream 0\n",
            "WARNING ⚠️ Waiting for stream 0\n",
            "WARNING ⚠️ Waiting for stream 0\n",
            "WARNING ⚠️ Waiting for stream 0\n",
            "0: 384x640 1 fire, 25.2ms\n",
            "WARNING ⚠️ Waiting for stream 0\n",
            "WARNING ⚠️ Waiting for stream 0\n",
            "WARNING ⚠️ Waiting for stream 0\n",
            "WARNING ⚠️ Waiting for stream 0\n",
            "WARNING ⚠️ Waiting for stream 0\n",
            "WARNING ⚠️ Waiting for stream 0\n",
            "WARNING ⚠️ Waiting for stream 0\n",
            "WARNING ⚠️ Waiting for stream 0\n",
            "0: 384x640 1 fire, 27.4ms\n",
            "0: 384x640 1 fire, 25.6ms\n",
            "WARNING ⚠️ Waiting for stream 0\n",
            "WARNING ⚠️ Waiting for stream 0\n",
            "WARNING ⚠️ Waiting for stream 0\n",
            "WARNING ⚠️ Waiting for stream 0\n",
            "WARNING ⚠️ Waiting for stream 0\n",
            "WARNING ⚠️ Waiting for stream 0\n",
            "WARNING ⚠️ Waiting for stream 0\n",
            "WARNING ⚠️ Waiting for stream 0\n",
            "0: 384x640 1 fire, 25.2ms\n",
            "WARNING ⚠️ Waiting for stream 0\n",
            "WARNING ⚠️ Waiting for stream 0\n",
            "WARNING ⚠️ Waiting for stream 0\n",
            "WARNING ⚠️ Waiting for stream 0\n",
            "WARNING ⚠️ Waiting for stream 0\n",
            "WARNING ⚠️ Waiting for stream 0\n",
            "WARNING ⚠️ Waiting for stream 0\n",
            "WARNING ⚠️ Waiting for stream 0\n",
            "0: 384x640 2 fires, 25.4ms\n",
            "0: 384x640 3 fires, 25.3ms\n",
            "WARNING ⚠️ Waiting for stream 0\n",
            "WARNING ⚠️ Waiting for stream 0\n",
            "WARNING ⚠️ Waiting for stream 0\n",
            "WARNING ⚠️ Waiting for stream 0\n",
            "WARNING ⚠️ Waiting for stream 0\n",
            "WARNING ⚠️ Waiting for stream 0\n",
            "WARNING ⚠️ Waiting for stream 0\n",
            "WARNING ⚠️ Waiting for stream 0\n",
            "0: 384x640 1 fire, 25.2ms\n",
            "WARNING ⚠️ Waiting for stream 0\n",
            "WARNING ⚠️ Waiting for stream 0\n",
            "WARNING ⚠️ Waiting for stream 0\n",
            "WARNING ⚠️ Waiting for stream 0\n",
            "WARNING ⚠️ Waiting for stream 0\n",
            "WARNING ⚠️ Waiting for stream 0\n",
            "WARNING ⚠️ Waiting for stream 0\n",
            "WARNING ⚠️ Waiting for stream 0\n",
            "0: 384x640 1 fire, 27.3ms\n",
            "0: 384x640 1 fire, 26.5ms\n",
            "WARNING ⚠️ Waiting for stream 0\n",
            "WARNING ⚠️ Waiting for stream 0\n",
            "WARNING ⚠️ Waiting for stream 0\n",
            "WARNING ⚠️ Waiting for stream 0\n",
            "WARNING ⚠️ Waiting for stream 0\n",
            "WARNING ⚠️ Waiting for stream 0\n",
            "WARNING ⚠️ Waiting for stream 0\n",
            "WARNING ⚠️ Waiting for stream 0\n",
            "0: 384x640 1 fire, 25.3ms\n",
            "WARNING ⚠️ Waiting for stream 0\n",
            "WARNING ⚠️ Waiting for stream 0\n",
            "WARNING ⚠️ Waiting for stream 0\n",
            "WARNING ⚠️ Waiting for stream 0\n",
            "WARNING ⚠️ Waiting for stream 0\n",
            "WARNING ⚠️ Waiting for stream 0\n",
            "WARNING ⚠️ Waiting for stream 0\n",
            "0: 384x640 (no detections), 25.2ms\n",
            "WARNING ⚠️ Waiting for stream 0\n",
            "WARNING ⚠️ Waiting for stream 0\n",
            "WARNING ⚠️ Waiting for stream 0\n",
            "WARNING ⚠️ Waiting for stream 0\n",
            "WARNING ⚠️ Waiting for stream 0\n",
            "WARNING ⚠️ Waiting for stream 0\n",
            "WARNING ⚠️ Waiting for stream 0\n",
            "WARNING ⚠️ Waiting for stream 0\n",
            "0: 384x640 2 fires, 25.3ms\n",
            "WARNING ⚠️ Waiting for stream 0\n",
            "WARNING ⚠️ Waiting for stream 0\n",
            "WARNING ⚠️ Waiting for stream 0\n",
            "WARNING ⚠️ Waiting for stream 0\n",
            "WARNING ⚠️ Waiting for stream 0\n",
            "WARNING ⚠️ Waiting for stream 0\n",
            "WARNING ⚠️ Waiting for stream 0\n",
            "WARNING ⚠️ Waiting for stream 0\n",
            "WARNING ⚠️ Waiting for stream 0\n",
            "0: 384x640 1 fire, 25.2ms\n",
            "WARNING ⚠️ Waiting for stream 0\n",
            "WARNING ⚠️ Waiting for stream 0\n",
            "WARNING ⚠️ Waiting for stream 0\n",
            "WARNING ⚠️ Waiting for stream 0\n",
            "WARNING ⚠️ Waiting for stream 0\n",
            "WARNING ⚠️ Waiting for stream 0\n",
            "WARNING ⚠️ Waiting for stream 0\n",
            "WARNING ⚠️ Waiting for stream 0\n",
            "0: 384x640 1 fire, 25.3ms\n",
            "WARNING ⚠️ Waiting for stream 0\n",
            "WARNING ⚠️ Waiting for stream 0\n",
            "WARNING ⚠️ Waiting for stream 0\n",
            "WARNING ⚠️ Waiting for stream 0\n",
            "WARNING ⚠️ Waiting for stream 0\n",
            "WARNING ⚠️ Waiting for stream 0\n",
            "WARNING ⚠️ Waiting for stream 0\n",
            "WARNING ⚠️ Waiting for stream 0\n",
            "WARNING ⚠️ Waiting for stream 0\n",
            "0: 384x640 1 fire, 25.2ms\n",
            "WARNING ⚠️ Waiting for stream 0\n",
            "WARNING ⚠️ Waiting for stream 0\n",
            "WARNING ⚠️ Waiting for stream 0\n",
            "WARNING ⚠️ Waiting for stream 0\n",
            "WARNING ⚠️ Waiting for stream 0\n",
            "WARNING ⚠️ Waiting for stream 0\n",
            "WARNING ⚠️ Waiting for stream 0\n",
            "WARNING ⚠️ Waiting for stream 0\n",
            "0: 384x640 1 fire, 27.1ms\n",
            "0: 384x640 (no detections), 25.6ms\n",
            "WARNING ⚠️ Waiting for stream 0\n",
            "WARNING ⚠️ Waiting for stream 0\n",
            "WARNING ⚠️ Waiting for stream 0\n",
            "WARNING ⚠️ Waiting for stream 0\n",
            "WARNING ⚠️ Waiting for stream 0\n",
            "WARNING ⚠️ Waiting for stream 0\n",
            "WARNING ⚠️ Waiting for stream 0\n",
            "WARNING ⚠️ Waiting for stream 0\n",
            "0: 384x640 1 fire, 25.2ms\n",
            "WARNING ⚠️ Waiting for stream 0\n",
            "WARNING ⚠️ Waiting for stream 0\n",
            "WARNING ⚠️ Waiting for stream 0\n",
            "WARNING ⚠️ Waiting for stream 0\n",
            "WARNING ⚠️ Waiting for stream 0\n",
            "WARNING ⚠️ Waiting for stream 0\n",
            "WARNING ⚠️ Waiting for stream 0\n",
            "WARNING ⚠️ Waiting for stream 0\n",
            "0: 384x640 1 fire, 25.2ms\n",
            "0: 384x640 1 fire, 25.8ms\n",
            "WARNING ⚠️ Waiting for stream 0\n",
            "WARNING ⚠️ Waiting for stream 0\n",
            "WARNING ⚠️ Waiting for stream 0\n",
            "WARNING ⚠️ Waiting for stream 0\n",
            "0: 384x640 (no detections), 25.3ms\n",
            "0: 384x640 1 fire, 27.1ms\n",
            "WARNING ⚠️ Waiting for stream 0\n",
            "WARNING ⚠️ Waiting for stream 0\n",
            "WARNING ⚠️ Waiting for stream 0\n",
            "WARNING ⚠️ Waiting for stream 0\n",
            "WARNING ⚠️ Waiting for stream 0\n",
            "WARNING ⚠️ Waiting for stream 0\n",
            "WARNING ⚠️ Waiting for stream 0\n",
            "WARNING ⚠️ Waiting for stream 0\n",
            "0: 384x640 2 fires, 29.6ms\n",
            "WARNING ⚠️ Waiting for stream 0\n",
            "WARNING ⚠️ Waiting for stream 0\n",
            "WARNING ⚠️ Waiting for stream 0\n",
            "WARNING ⚠️ Waiting for stream 0\n",
            "WARNING ⚠️ Waiting for stream 0\n",
            "WARNING ⚠️ Waiting for stream 0\n",
            "WARNING ⚠️ Waiting for stream 0\n",
            "WARNING ⚠️ Waiting for stream 0\n",
            "0: 384x640 (no detections), 25.2ms\n",
            "WARNING ⚠️ Waiting for stream 0\n",
            "WARNING ⚠️ Waiting for stream 0\n",
            "WARNING ⚠️ Waiting for stream 0\n",
            "WARNING ⚠️ Waiting for stream 0\n",
            "WARNING ⚠️ Waiting for stream 0\n",
            "WARNING ⚠️ Waiting for stream 0\n",
            "WARNING ⚠️ Waiting for stream 0\n",
            "WARNING ⚠️ Waiting for stream 0\n",
            "WARNING ⚠️ Waiting for stream 0\n",
            "0: 384x640 1 fire, 25.2ms\n",
            "WARNING ⚠️ Waiting for stream 0\n",
            "WARNING ⚠️ Waiting for stream 0\n",
            "WARNING ⚠️ Waiting for stream 0\n",
            "WARNING ⚠️ Waiting for stream 0\n",
            "WARNING ⚠️ Waiting for stream 0\n",
            "WARNING ⚠️ Waiting for stream 0\n",
            "WARNING ⚠️ Waiting for stream 0\n",
            "WARNING ⚠️ Waiting for stream 0\n",
            "WARNING ⚠️ Waiting for stream 0\n",
            "WARNING ⚠️ Waiting for stream 0\n",
            "0: 384x640 (no detections), 25.2ms\n",
            "WARNING ⚠️ Waiting for stream 0\n",
            "WARNING ⚠️ Waiting for stream 0\n",
            "WARNING ⚠️ Waiting for stream 0\n",
            "WARNING ⚠️ Waiting for stream 0\n",
            "WARNING ⚠️ Waiting for stream 0\n",
            "WARNING ⚠️ Waiting for stream 0\n",
            "WARNING ⚠️ Waiting for stream 0\n",
            "WARNING ⚠️ Waiting for stream 0\n",
            "WARNING ⚠️ Waiting for stream 0\n",
            "0: 384x640 (no detections), 25.2ms\n",
            "WARNING ⚠️ Waiting for stream 0\n",
            "WARNING ⚠️ Waiting for stream 0\n",
            "WARNING ⚠️ Waiting for stream 0\n",
            "WARNING ⚠️ Waiting for stream 0\n",
            "WARNING ⚠️ Waiting for stream 0\n",
            "WARNING ⚠️ Waiting for stream 0\n",
            "WARNING ⚠️ Waiting for stream 0\n",
            "WARNING ⚠️ Waiting for stream 0\n",
            "0: 384x640 (no detections), 25.3ms\n",
            "0: 384x640 (no detections), 25.2ms\n",
            "WARNING ⚠️ Waiting for stream 0\n",
            "WARNING ⚠️ Waiting for stream 0\n",
            "WARNING ⚠️ Waiting for stream 0\n",
            "WARNING ⚠️ Waiting for stream 0\n",
            "WARNING ⚠️ Waiting for stream 0\n",
            "WARNING ⚠️ Waiting for stream 0\n",
            "WARNING ⚠️ Waiting for stream 0\n",
            "WARNING ⚠️ Waiting for stream 0\n",
            "0: 384x640 (no detections), 25.2ms\n",
            "WARNING ⚠️ Waiting for stream 0\n",
            "WARNING ⚠️ Waiting for stream 0\n",
            "WARNING ⚠️ Waiting for stream 0\n",
            "WARNING ⚠️ Waiting for stream 0\n",
            "WARNING ⚠️ Waiting for stream 0\n",
            "WARNING ⚠️ Waiting for stream 0\n",
            "WARNING ⚠️ Waiting for stream 0\n",
            "WARNING ⚠️ Waiting for stream 0\n",
            "WARNING ⚠️ Waiting for stream 0\n",
            "0: 384x640 (no detections), 29.7ms\n",
            "WARNING ⚠️ Waiting for stream 0\n",
            "WARNING ⚠️ Waiting for stream 0\n",
            "WARNING ⚠️ Waiting for stream 0\n",
            "WARNING ⚠️ Waiting for stream 0\n",
            "0: 384x640 (no detections), 56.3ms\n",
            "0: 384x640 (no detections), 25.2ms\n",
            "WARNING ⚠️ Waiting for stream 0\n",
            "WARNING ⚠️ Waiting for stream 0\n",
            "WARNING ⚠️ Waiting for stream 0\n",
            "WARNING ⚠️ Waiting for stream 0\n",
            "WARNING ⚠️ Waiting for stream 0\n",
            "WARNING ⚠️ Waiting for stream 0\n",
            "WARNING ⚠️ Waiting for stream 0\n",
            "0: 384x640 (no detections), 62.0ms\n",
            "0: 384x640 (no detections), 43.7ms\n",
            "0: 384x640 (no detections), 25.6ms\n",
            "WARNING ⚠️ Waiting for stream 0\n",
            "WARNING ⚠️ Waiting for stream 0\n",
            "WARNING ⚠️ Waiting for stream 0\n",
            "WARNING ⚠️ Waiting for stream 0\n",
            "WARNING ⚠️ Waiting for stream 0\n",
            "WARNING ⚠️ Waiting for stream 0\n",
            "0: 384x640 (no detections), 69.0ms\n",
            "0: 384x640 (no detections), 27.7ms\n",
            "WARNING ⚠️ Waiting for stream 0\n",
            "WARNING ⚠️ Waiting for stream 0\n",
            "WARNING ⚠️ Waiting for stream 0\n",
            "WARNING ⚠️ Waiting for stream 0\n",
            "WARNING ⚠️ Waiting for stream 0\n",
            "WARNING ⚠️ Waiting for stream 0\n",
            "0: 384x640 (no detections), 29.5ms\n",
            "0: 384x640 (no detections), 39.9ms\n",
            "0: 384x640 (no detections), 31.0ms\n",
            "0: 384x640 (no detections), 28.1ms\n",
            "WARNING ⚠️ Waiting for stream 0\n",
            "WARNING ⚠️ Waiting for stream 0\n",
            "WARNING ⚠️ Waiting for stream 0\n",
            "WARNING ⚠️ Waiting for stream 0\n",
            "0: 384x640 (no detections), 38.5ms\n",
            "0: 384x640 (no detections), 37.3ms\n",
            "0: 384x640 1 fire, 31.2ms\n",
            "WARNING ⚠️ Waiting for stream 0\n",
            "WARNING ⚠️ Waiting for stream 0\n",
            "WARNING ⚠️ Waiting for stream 0\n",
            "WARNING ⚠️ Waiting for stream 0\n",
            "WARNING ⚠️ Waiting for stream 0\n",
            "WARNING ⚠️ Waiting for stream 0\n",
            "0: 384x640 (no detections), 25.2ms\n",
            "WARNING ⚠️ Waiting for stream 0\n",
            "WARNING ⚠️ Waiting for stream 0\n",
            "WARNING ⚠️ Waiting for stream 0\n",
            "WARNING ⚠️ Waiting for stream 0\n",
            "WARNING ⚠️ Waiting for stream 0\n",
            "WARNING ⚠️ Waiting for stream 0\n",
            "WARNING ⚠️ Waiting for stream 0\n",
            "WARNING ⚠️ Waiting for stream 0\n",
            "WARNING ⚠️ Waiting for stream 0\n",
            "0: 384x640 1 fire, 25.2ms\n",
            "WARNING ⚠️ Waiting for stream 0\n",
            "WARNING ⚠️ Waiting for stream 0\n",
            "WARNING ⚠️ Waiting for stream 0\n",
            "WARNING ⚠️ Waiting for stream 0\n",
            "WARNING ⚠️ Waiting for stream 0\n",
            "WARNING ⚠️ Waiting for stream 0\n",
            "WARNING ⚠️ Waiting for stream 0\n",
            "WARNING ⚠️ Waiting for stream 0\n",
            "0: 384x640 (no detections), 25.3ms\n",
            "0: 384x640 (no detections), 25.8ms\n",
            "WARNING ⚠️ Waiting for stream 0\n",
            "WARNING ⚠️ Waiting for stream 0\n",
            "WARNING ⚠️ Waiting for stream 0\n",
            "WARNING ⚠️ Waiting for stream 0\n",
            "WARNING ⚠️ Waiting for stream 0\n",
            "WARNING ⚠️ Waiting for stream 0\n",
            "0: 384x640 (no detections), 25.3ms\n",
            "0: 384x640 (no detections), 25.1ms\n",
            "WARNING ⚠️ Waiting for stream 0\n",
            "WARNING ⚠️ Waiting for stream 0\n",
            "WARNING ⚠️ Waiting for stream 0\n",
            "WARNING ⚠️ Waiting for stream 0\n",
            "WARNING ⚠️ Waiting for stream 0\n",
            "WARNING ⚠️ Waiting for stream 0\n",
            "WARNING ⚠️ Waiting for stream 0\n",
            "WARNING ⚠️ Waiting for stream 0\n",
            "0: 384x640 (no detections), 25.3ms\n",
            "WARNING ⚠️ Waiting for stream 0\n",
            "WARNING ⚠️ Waiting for stream 0\n",
            "WARNING ⚠️ Waiting for stream 0\n",
            "WARNING ⚠️ Waiting for stream 0\n",
            "WARNING ⚠️ Waiting for stream 0\n",
            "WARNING ⚠️ Waiting for stream 0\n",
            "WARNING ⚠️ Waiting for stream 0\n",
            "0: 384x640 (no detections), 25.4ms\n",
            "0: 384x640 (no detections), 25.3ms\n",
            "WARNING ⚠️ Waiting for stream 0\n",
            "WARNING ⚠️ Waiting for stream 0\n",
            "WARNING ⚠️ Waiting for stream 0\n",
            "WARNING ⚠️ Waiting for stream 0\n",
            "WARNING ⚠️ Waiting for stream 0\n",
            "WARNING ⚠️ Waiting for stream 0\n",
            "WARNING ⚠️ Waiting for stream 0\n",
            "WARNING ⚠️ Waiting for stream 0\n",
            "WARNING ⚠️ Waiting for stream 0\n",
            "0: 384x640 (no detections), 25.6ms\n",
            "0: 384x640 (no detections), 25.2ms\n",
            "WARNING ⚠️ Waiting for stream 0\n",
            "WARNING ⚠️ Waiting for stream 0\n",
            "WARNING ⚠️ Waiting for stream 0\n",
            "WARNING ⚠️ Waiting for stream 0\n",
            "WARNING ⚠️ Waiting for stream 0\n",
            "WARNING ⚠️ Waiting for stream 0\n",
            "WARNING ⚠️ Waiting for stream 0\n",
            "WARNING ⚠️ Waiting for stream 0\n",
            "0: 384x640 (no detections), 25.4ms\n",
            "0: 384x640 (no detections), 25.2ms\n",
            "0: 384x640 (no detections), 25.2ms\n",
            "WARNING ⚠️ Waiting for stream 0\n",
            "WARNING ⚠️ Waiting for stream 0\n",
            "WARNING ⚠️ Waiting for stream 0\n",
            "WARNING ⚠️ Waiting for stream 0\n",
            "WARNING ⚠️ Waiting for stream 0\n",
            "0: 384x640 (no detections), 29.0ms\n",
            "0: 384x640 (no detections), 25.1ms\n",
            "WARNING ⚠️ Waiting for stream 0\n",
            "WARNING ⚠️ Waiting for stream 0\n",
            "WARNING ⚠️ Waiting for stream 0\n",
            "WARNING ⚠️ Waiting for stream 0\n",
            "WARNING ⚠️ Waiting for stream 0\n",
            "WARNING ⚠️ Waiting for stream 0\n",
            "WARNING ⚠️ Waiting for stream 0\n",
            "WARNING ⚠️ Waiting for stream 0\n",
            "WARNING ⚠️ Waiting for stream 0\n",
            "0: 384x640 (no detections), 25.3ms\n",
            "0: 384x640 (no detections), 25.1ms\n",
            "WARNING ⚠️ Waiting for stream 0\n",
            "WARNING ⚠️ Waiting for stream 0\n",
            "WARNING ⚠️ Waiting for stream 0\n",
            "WARNING ⚠️ Waiting for stream 0\n",
            "WARNING ⚠️ Waiting for stream 0\n",
            "WARNING ⚠️ Waiting for stream 0\n",
            "WARNING ⚠️ Waiting for stream 0\n",
            "0: 384x640 (no detections), 26.5ms\n",
            "0: 384x640 (no detections), 25.2ms\n",
            "WARNING ⚠️ Waiting for stream 0\n",
            "WARNING ⚠️ Waiting for stream 0\n",
            "WARNING ⚠️ Waiting for stream 0\n",
            "WARNING ⚠️ Waiting for stream 0\n",
            "WARNING ⚠️ Waiting for stream 0\n",
            "WARNING ⚠️ Waiting for stream 0\n",
            "0: 384x640 (no detections), 26.9ms\n",
            "0: 384x640 (no detections), 26.8ms\n",
            "0: 384x640 (no detections), 25.4ms\n",
            "WARNING ⚠️ Waiting for stream 0\n",
            "WARNING ⚠️ Waiting for stream 0\n",
            "WARNING ⚠️ Waiting for stream 0\n",
            "WARNING ⚠️ Waiting for stream 0\n",
            "WARNING ⚠️ Waiting for stream 0\n",
            "WARNING ⚠️ Waiting for stream 0\n",
            "WARNING ⚠️ Waiting for stream 0\n",
            "0: 384x640 (no detections), 29.0ms\n",
            "0: 384x640 (no detections), 25.2ms\n",
            "WARNING ⚠️ Waiting for stream 0\n",
            "WARNING ⚠️ Waiting for stream 0\n",
            "WARNING ⚠️ Waiting for stream 0\n",
            "WARNING ⚠️ Waiting for stream 0\n",
            "WARNING ⚠️ Waiting for stream 0\n",
            "WARNING ⚠️ Waiting for stream 0\n",
            "WARNING ⚠️ Waiting for stream 0\n",
            "0: 384x640 (no detections), 33.8ms\n",
            "0: 384x640 (no detections), 25.2ms\n",
            "WARNING ⚠️ Waiting for stream 0\n",
            "WARNING ⚠️ Waiting for stream 0\n",
            "WARNING ⚠️ Waiting for stream 0\n",
            "WARNING ⚠️ Waiting for stream 0\n",
            "WARNING ⚠️ Waiting for stream 0\n",
            "WARNING ⚠️ Waiting for stream 0\n",
            "WARNING ⚠️ Waiting for stream 0\n",
            "WARNING ⚠️ Waiting for stream 0\n",
            "0: 384x640 (no detections), 25.2ms\n",
            "WARNING ⚠️ Waiting for stream 0\n",
            "WARNING ⚠️ Waiting for stream 0\n",
            "WARNING ⚠️ Waiting for stream 0\n",
            "WARNING ⚠️ Waiting for stream 0\n",
            "WARNING ⚠️ Waiting for stream 0\n",
            "WARNING ⚠️ Waiting for stream 0\n",
            "WARNING ⚠️ Waiting for stream 0\n",
            "WARNING ⚠️ Waiting for stream 0\n",
            "0: 384x640 (no detections), 29.4ms\n",
            "0: 384x640 (no detections), 25.7ms\n",
            "WARNING ⚠️ Waiting for stream 0\n",
            "WARNING ⚠️ Waiting for stream 0\n",
            "WARNING ⚠️ Waiting for stream 0\n",
            "WARNING ⚠️ Waiting for stream 0\n",
            "WARNING ⚠️ Waiting for stream 0\n",
            "WARNING ⚠️ Waiting for stream 0\n",
            "WARNING ⚠️ Waiting for stream 0\n",
            "WARNING ⚠️ Waiting for stream 0\n",
            "0: 384x640 (no detections), 25.2ms\n",
            "WARNING ⚠️ Waiting for stream 0\n",
            "WARNING ⚠️ Waiting for stream 0\n",
            "WARNING ⚠️ Waiting for stream 0\n",
            "WARNING ⚠️ Waiting for stream 0\n",
            "WARNING ⚠️ Waiting for stream 0\n",
            "WARNING ⚠️ Waiting for stream 0\n",
            "WARNING ⚠️ Waiting for stream 0\n",
            "WARNING ⚠️ Waiting for stream 0\n",
            "0: 384x640 (no detections), 25.2ms\n",
            "0: 384x640 (no detections), 25.3ms\n",
            "WARNING ⚠️ Waiting for stream 0\n",
            "WARNING ⚠️ Waiting for stream 0\n",
            "WARNING ⚠️ Waiting for stream 0\n",
            "WARNING ⚠️ Waiting for stream 0\n",
            "WARNING ⚠️ Waiting for stream 0\n",
            "WARNING ⚠️ Waiting for stream 0\n",
            "WARNING ⚠️ Waiting for stream 0\n",
            "WARNING ⚠️ Waiting for stream 0\n",
            "0: 384x640 (no detections), 25.2ms\n",
            "WARNING ⚠️ Waiting for stream 0\n",
            "WARNING ⚠️ Waiting for stream 0\n",
            "WARNING ⚠️ Waiting for stream 0\n",
            "WARNING ⚠️ Waiting for stream 0\n",
            "WARNING ⚠️ Waiting for stream 0\n",
            "WARNING ⚠️ Waiting for stream 0\n",
            "WARNING ⚠️ Waiting for stream 0\n",
            "0: 384x640 (no detections), 25.2ms\n",
            "WARNING ⚠️ Waiting for stream 0\n",
            "WARNING ⚠️ Waiting for stream 0\n",
            "WARNING ⚠️ Waiting for stream 0\n",
            "WARNING ⚠️ Waiting for stream 0\n",
            "WARNING ⚠️ Waiting for stream 0\n",
            "WARNING ⚠️ Waiting for stream 0\n",
            "WARNING ⚠️ Waiting for stream 0\n",
            "WARNING ⚠️ Waiting for stream 0\n",
            "0: 384x640 (no detections), 32.1ms\n",
            "0: 384x640 (no detections), 25.8ms\n",
            "WARNING ⚠️ Waiting for stream 0\n",
            "WARNING ⚠️ Waiting for stream 0\n",
            "WARNING ⚠️ Waiting for stream 0\n",
            "WARNING ⚠️ Waiting for stream 0\n",
            "WARNING ⚠️ Waiting for stream 0\n",
            "WARNING ⚠️ Waiting for stream 0\n",
            "WARNING ⚠️ Waiting for stream 0\n",
            "WARNING ⚠️ Waiting for stream 0\n",
            "0: 384x640 (no detections), 25.2ms\n",
            "WARNING ⚠️ Waiting for stream 0\n",
            "WARNING ⚠️ Waiting for stream 0\n",
            "WARNING ⚠️ Waiting for stream 0\n",
            "WARNING ⚠️ Waiting for stream 0\n",
            "WARNING ⚠️ Waiting for stream 0\n",
            "WARNING ⚠️ Waiting for stream 0\n",
            "WARNING ⚠️ Waiting for stream 0\n",
            "0: 384x640 (no detections), 25.2ms\n",
            "WARNING ⚠️ Waiting for stream 0\n",
            "WARNING ⚠️ Waiting for stream 0\n",
            "WARNING ⚠️ Waiting for stream 0\n",
            "WARNING ⚠️ Waiting for stream 0\n",
            "WARNING ⚠️ Waiting for stream 0\n",
            "WARNING ⚠️ Waiting for stream 0\n",
            "WARNING ⚠️ Waiting for stream 0\n",
            "WARNING ⚠️ Waiting for stream 0\n",
            "WARNING ⚠️ Waiting for stream 0\n",
            "WARNING ⚠️ Waiting for stream 0\n",
            "0: 384x640 (no detections), 25.3ms\n",
            "WARNING ⚠️ Waiting for stream 0\n",
            "WARNING ⚠️ Waiting for stream 0\n",
            "WARNING ⚠️ Waiting for stream 0\n",
            "WARNING ⚠️ Waiting for stream 0\n",
            "WARNING ⚠️ Waiting for stream 0\n",
            "WARNING ⚠️ Waiting for stream 0\n",
            "WARNING ⚠️ Waiting for stream 0\n",
            "WARNING ⚠️ Waiting for stream 0\n",
            "WARNING ⚠️ Waiting for stream 0\n",
            "0: 384x640 1 fire, 25.3ms\n",
            "WARNING ⚠️ Waiting for stream 0\n",
            "WARNING ⚠️ Waiting for stream 0\n",
            "WARNING ⚠️ Waiting for stream 0\n",
            "WARNING ⚠️ Waiting for stream 0\n",
            "WARNING ⚠️ Waiting for stream 0\n",
            "WARNING ⚠️ Waiting for stream 0\n",
            "0: 384x640 1 fire, 25.3ms\n",
            "0: 384x640 1 fire, 26.3ms\n",
            "WARNING ⚠️ Waiting for stream 0\n",
            "WARNING ⚠️ Waiting for stream 0\n",
            "WARNING ⚠️ Waiting for stream 0\n",
            "WARNING ⚠️ Waiting for stream 0\n",
            "WARNING ⚠️ Waiting for stream 0\n",
            "WARNING ⚠️ Waiting for stream 0\n",
            "WARNING ⚠️ Waiting for stream 0\n",
            "WARNING ⚠️ Waiting for stream 0\n",
            "0: 384x640 1 fire, 25.3ms\n",
            "WARNING ⚠️ Waiting for stream 0\n",
            "WARNING ⚠️ Waiting for stream 0\n",
            "WARNING ⚠️ Waiting for stream 0\n",
            "WARNING ⚠️ Waiting for stream 0\n",
            "WARNING ⚠️ Waiting for stream 0\n",
            "WARNING ⚠️ Waiting for stream 0\n",
            "WARNING ⚠️ Waiting for stream 0\n",
            "WARNING ⚠️ Waiting for stream 0\n",
            "0: 384x640 1 fire, 25.9ms\n",
            "0: 384x640 1 fire, 25.1ms\n",
            "WARNING ⚠️ Waiting for stream 0\n",
            "WARNING ⚠️ Waiting for stream 0\n",
            "WARNING ⚠️ Waiting for stream 0\n",
            "WARNING ⚠️ Waiting for stream 0\n",
            "WARNING ⚠️ Waiting for stream 0\n",
            "WARNING ⚠️ Waiting for stream 0\n",
            "WARNING ⚠️ Waiting for stream 0\n",
            "WARNING ⚠️ Waiting for stream 0\n",
            "0: 384x640 1 fire, 25.8ms\n",
            "WARNING ⚠️ Waiting for stream 0\n",
            "WARNING ⚠️ Waiting for stream 0\n",
            "WARNING ⚠️ Waiting for stream 0\n",
            "WARNING ⚠️ Waiting for stream 0\n",
            "WARNING ⚠️ Waiting for stream 0\n",
            "WARNING ⚠️ Waiting for stream 0\n",
            "WARNING ⚠️ Waiting for stream 0\n",
            "WARNING ⚠️ Waiting for stream 0\n",
            "0: 384x640 1 fire, 25.3ms\n",
            "0: 384x640 1 fire, 25.1ms\n",
            "WARNING ⚠️ Waiting for stream 0\n",
            "WARNING ⚠️ Waiting for stream 0\n",
            "WARNING ⚠️ Waiting for stream 0\n",
            "WARNING ⚠️ Waiting for stream 0\n",
            "WARNING ⚠️ Waiting for stream 0\n",
            "WARNING ⚠️ Waiting for stream 0\n",
            "WARNING ⚠️ Waiting for stream 0\n",
            "0: 384x640 1 fire, 34.0ms\n",
            "0: 384x640 1 fire, 26.1ms\n",
            "WARNING ⚠️ Waiting for stream 0\n",
            "WARNING ⚠️ Waiting for stream 0\n",
            "WARNING ⚠️ Waiting for stream 0\n",
            "WARNING ⚠️ Waiting for stream 0\n",
            "WARNING ⚠️ Waiting for stream 0\n",
            "WARNING ⚠️ Waiting for stream 0\n",
            "WARNING ⚠️ Waiting for stream 0\n",
            "0: 384x640 1 fire, 41.9ms\n",
            "0: 384x640 (no detections), 25.2ms\n",
            "WARNING ⚠️ Waiting for stream 0\n",
            "WARNING ⚠️ Waiting for stream 0\n",
            "WARNING ⚠️ Waiting for stream 0\n",
            "WARNING ⚠️ Waiting for stream 0\n",
            "WARNING ⚠️ Waiting for stream 0\n",
            "0: 384x640 (no detections), 47.6ms\n",
            "0: 384x640 (no detections), 25.2ms\n",
            "WARNING ⚠️ Waiting for stream 0\n",
            "WARNING ⚠️ Waiting for stream 0\n",
            "WARNING ⚠️ Waiting for stream 0\n",
            "WARNING ⚠️ Waiting for stream 0\n",
            "WARNING ⚠️ Waiting for stream 0\n",
            "WARNING ⚠️ Waiting for stream 0\n",
            "WARNING ⚠️ Waiting for stream 0\n",
            "WARNING ⚠️ Waiting for stream 0\n",
            "0: 384x640 (no detections), 38.6ms\n",
            "0: 384x640 (no detections), 25.1ms\n",
            "WARNING ⚠️ Waiting for stream 0\n",
            "WARNING ⚠️ Waiting for stream 0\n",
            "WARNING ⚠️ Waiting for stream 0\n",
            "WARNING ⚠️ Waiting for stream 0\n",
            "WARNING ⚠️ Waiting for stream 0\n",
            "WARNING ⚠️ Waiting for stream 0\n",
            "0: 384x640 (no detections), 25.2ms\n",
            "WARNING ⚠️ Waiting for stream 0\n",
            "WARNING ⚠️ Waiting for stream 0\n",
            "WARNING ⚠️ Waiting for stream 0\n",
            "WARNING ⚠️ Waiting for stream 0\n",
            "WARNING ⚠️ Waiting for stream 0\n",
            "WARNING ⚠️ Waiting for stream 0\n",
            "WARNING ⚠️ Waiting for stream 0\n",
            "WARNING ⚠️ Waiting for stream 0\n",
            "0: 384x640 (no detections), 30.0ms\n",
            "0: 384x640 (no detections), 25.8ms\n",
            "WARNING ⚠️ Waiting for stream 0\n",
            "WARNING ⚠️ Waiting for stream 0\n",
            "WARNING ⚠️ Waiting for stream 0\n",
            "WARNING ⚠️ Waiting for stream 0\n",
            "WARNING ⚠️ Waiting for stream 0\n",
            "WARNING ⚠️ Waiting for stream 0\n",
            "WARNING ⚠️ Waiting for stream 0\n",
            "WARNING ⚠️ Waiting for stream 0\n",
            "0: 384x640 (no detections), 25.2ms\n",
            "WARNING ⚠️ Waiting for stream 0\n",
            "WARNING ⚠️ Waiting for stream 0\n",
            "WARNING ⚠️ Waiting for stream 0\n",
            "WARNING ⚠️ Waiting for stream 0\n",
            "WARNING ⚠️ Waiting for stream 0\n",
            "WARNING ⚠️ Waiting for stream 0\n",
            "WARNING ⚠️ Waiting for stream 0\n",
            "WARNING ⚠️ Waiting for stream 0\n",
            "WARNING ⚠️ Waiting for stream 0\n",
            "0: 384x640 1 fire, 25.2ms\n",
            "WARNING ⚠️ Waiting for stream 0\n",
            "WARNING ⚠️ Waiting for stream 0\n",
            "WARNING ⚠️ Waiting for stream 0\n",
            "WARNING ⚠️ Waiting for stream 0\n",
            "WARNING ⚠️ Waiting for stream 0\n",
            "WARNING ⚠️ Waiting for stream 0\n",
            "WARNING ⚠️ Waiting for stream 0\n",
            "WARNING ⚠️ Waiting for stream 0\n",
            "0: 384x640 (no detections), 25.5ms\n",
            "0: 384x640 (no detections), 27.1ms\n",
            "WARNING ⚠️ Waiting for stream 0\n",
            "WARNING ⚠️ Waiting for stream 0\n",
            "WARNING ⚠️ Waiting for stream 0\n",
            "WARNING ⚠️ Waiting for stream 0\n",
            "WARNING ⚠️ Waiting for stream 0\n",
            "WARNING ⚠️ Waiting for stream 0\n",
            "WARNING ⚠️ Waiting for stream 0\n",
            "WARNING ⚠️ Waiting for stream 0\n",
            "0: 384x640 (no detections), 25.3ms\n",
            "0: 384x640 (no detections), 26.1ms\n",
            "WARNING ⚠️ Waiting for stream 0\n",
            "WARNING ⚠️ Waiting for stream 0\n",
            "WARNING ⚠️ Waiting for stream 0\n",
            "WARNING ⚠️ Waiting for stream 0\n",
            "WARNING ⚠️ Waiting for stream 0\n",
            "WARNING ⚠️ Waiting for stream 0\n",
            "WARNING ⚠️ Waiting for stream 0\n",
            "WARNING ⚠️ Waiting for stream 0\n",
            "0: 384x640 (no detections), 25.2ms\n",
            "WARNING ⚠️ Waiting for stream 0\n",
            "WARNING ⚠️ Waiting for stream 0\n",
            "WARNING ⚠️ Waiting for stream 0\n",
            "WARNING ⚠️ Waiting for stream 0\n",
            "WARNING ⚠️ Waiting for stream 0\n",
            "WARNING ⚠️ Waiting for stream 0\n",
            "WARNING ⚠️ Waiting for stream 0\n",
            "WARNING ⚠️ Waiting for stream 0\n",
            "0: 384x640 (no detections), 25.4ms\n",
            "0: 384x640 (no detections), 25.6ms\n",
            "WARNING ⚠️ Waiting for stream 0\n",
            "WARNING ⚠️ Waiting for stream 0\n",
            "WARNING ⚠️ Waiting for stream 0\n",
            "WARNING ⚠️ Waiting for stream 0\n",
            "WARNING ⚠️ Waiting for stream 0\n",
            "WARNING ⚠️ Waiting for stream 0\n",
            "WARNING ⚠️ Waiting for stream 0\n",
            "WARNING ⚠️ Waiting for stream 0\n",
            "0: 384x640 (no detections), 25.2ms\n",
            "WARNING ⚠️ Waiting for stream 0\n",
            "WARNING ⚠️ Waiting for stream 0\n",
            "WARNING ⚠️ Waiting for stream 0\n",
            "WARNING ⚠️ Waiting for stream 0\n",
            "WARNING ⚠️ Waiting for stream 0\n",
            "0: 384x640 (no detections), 26.0ms\n",
            "0: 384x640 (no detections), 25.2ms\n",
            "WARNING ⚠️ Waiting for stream 0\n",
            "WARNING ⚠️ Waiting for stream 0\n",
            "WARNING ⚠️ Waiting for stream 0\n",
            "WARNING ⚠️ Waiting for stream 0\n",
            "WARNING ⚠️ Waiting for stream 0\n",
            "WARNING ⚠️ Waiting for stream 0\n",
            "WARNING ⚠️ Waiting for stream 0\n",
            "WARNING ⚠️ Waiting for stream 0\n",
            "WARNING ⚠️ Waiting for stream 0\n",
            "0: 384x640 (no detections), 25.3ms\n",
            "0: 384x640 (no detections), 25.1ms\n",
            "WARNING ⚠️ Waiting for stream 0\n",
            "WARNING ⚠️ Waiting for stream 0\n",
            "WARNING ⚠️ Waiting for stream 0\n",
            "WARNING ⚠️ Waiting for stream 0\n",
            "WARNING ⚠️ Waiting for stream 0\n",
            "WARNING ⚠️ Waiting for stream 0\n",
            "0: 384x640 (no detections), 25.3ms\n",
            "0: 384x640 (no detections), 26.6ms\n",
            "WARNING ⚠️ Waiting for stream 0\n",
            "WARNING ⚠️ Waiting for stream 0\n",
            "WARNING ⚠️ Waiting for stream 0\n",
            "WARNING ⚠️ Waiting for stream 0\n",
            "WARNING ⚠️ Waiting for stream 0\n",
            "WARNING ⚠️ Waiting for stream 0\n",
            "WARNING ⚠️ Waiting for stream 0\n",
            "WARNING ⚠️ Waiting for stream 0\n",
            "WARNING ⚠️ Waiting for stream 0\n",
            "WARNING ⚠️ Waiting for stream 0\n",
            "0: 384x640 (no detections), 25.2ms\n",
            "WARNING ⚠️ Waiting for stream 0\n",
            "WARNING ⚠️ Waiting for stream 0\n",
            "WARNING ⚠️ Waiting for stream 0\n",
            "WARNING ⚠️ Waiting for stream 0\n",
            "WARNING ⚠️ Waiting for stream 0\n",
            "WARNING ⚠️ Waiting for stream 0\n",
            "WARNING ⚠️ Waiting for stream 0\n",
            "WARNING ⚠️ Waiting for stream 0\n",
            "0: 384x640 (no detections), 39.7ms\n",
            "0: 384x640 (no detections), 25.8ms\n",
            "0: 384x640 (no detections), 25.6ms\n",
            "WARNING ⚠️ Waiting for stream 0\n",
            "WARNING ⚠️ Waiting for stream 0\n",
            "WARNING ⚠️ Waiting for stream 0\n",
            "WARNING ⚠️ Waiting for stream 0\n",
            "WARNING ⚠️ Waiting for stream 0\n",
            "WARNING ⚠️ Waiting for stream 0\n",
            "0: 384x640 (no detections), 26.9ms\n",
            "0: 384x640 (no detections), 25.1ms\n",
            "WARNING ⚠️ Waiting for stream 0\n",
            "WARNING ⚠️ Waiting for stream 0\n",
            "WARNING ⚠️ Waiting for stream 0\n",
            "WARNING ⚠️ Waiting for stream 0\n",
            "WARNING ⚠️ Waiting for stream 0\n",
            "WARNING ⚠️ Waiting for stream 0\n",
            "WARNING ⚠️ Waiting for stream 0\n",
            "WARNING ⚠️ Waiting for stream 0\n",
            "0: 384x640 (no detections), 25.3ms\n",
            "0: 384x640 (no detections), 25.2ms\n",
            "0: 384x640 (no detections), 25.3ms\n",
            "WARNING ⚠️ Waiting for stream 0\n",
            "WARNING ⚠️ Waiting for stream 0\n",
            "WARNING ⚠️ Waiting for stream 0\n",
            "WARNING ⚠️ Waiting for stream 0\n",
            "WARNING ⚠️ Waiting for stream 0\n",
            "WARNING ⚠️ Waiting for stream 0\n",
            "0: 384x640 (no detections), 36.2ms\n",
            "0: 384x640 (no detections), 25.1ms\n",
            "WARNING ⚠️ Waiting for stream 0\n",
            "WARNING ⚠️ Waiting for stream 0\n",
            "WARNING ⚠️ Waiting for stream 0\n",
            "WARNING ⚠️ Waiting for stream 0\n",
            "WARNING ⚠️ Waiting for stream 0\n",
            "WARNING ⚠️ Waiting for stream 0\n",
            "0: 384x640 (no detections), 25.3ms\n",
            "0: 384x640 (no detections), 25.9ms\n",
            "WARNING ⚠️ Waiting for stream 0\n",
            "WARNING ⚠️ Waiting for stream 0\n",
            "WARNING ⚠️ Waiting for stream 0\n",
            "WARNING ⚠️ Waiting for stream 0\n",
            "WARNING ⚠️ Waiting for stream 0\n",
            "WARNING ⚠️ Waiting for stream 0\n",
            "WARNING ⚠️ Waiting for stream 0\n",
            "WARNING ⚠️ Waiting for stream 0\n",
            "0: 384x640 (no detections), 25.2ms\n",
            "WARNING ⚠️ Waiting for stream 0\n",
            "WARNING ⚠️ Waiting for stream 0\n",
            "WARNING ⚠️ Waiting for stream 0\n",
            "WARNING ⚠️ Waiting for stream 0\n",
            "WARNING ⚠️ Waiting for stream 0\n",
            "WARNING ⚠️ Waiting for stream 0\n",
            "WARNING ⚠️ Waiting for stream 0\n",
            "WARNING ⚠️ Waiting for stream 0\n",
            "0: 384x640 (no detections), 25.4ms\n",
            "0: 384x640 (no detections), 35.4ms\n",
            "0: 384x640 1 fire, 25.3ms\n",
            "WARNING ⚠️ Waiting for stream 0\n",
            "WARNING ⚠️ Waiting for stream 0\n",
            "0: 384x640 1 fire, 25.4ms\n",
            "0: 384x640 1 fire, 25.3ms\n",
            "Speed: 3.3ms preprocess, 34.5ms inference, 1.5ms postprocess per image at shape (1, 3, 384, 640)\n"
          ]
        }
      ],
      "source": [
        "model = YOLO(\"/content/yolotest/runs/detect/train/weights/best.pt\")\n",
        "results = model.predict(\"https://youtu.be/F_muEod1-Fo\")"
      ]
    },
    {
      "cell_type": "code",
      "execution_count": null,
      "metadata": {
        "colab": {
          "background_save": true,
          "base_uri": "https://localhost:8080/",
          "height": 1000
        },
        "id": "bgYwGK16yGrg",
        "outputId": "e85cfcae-3a14-4273-a5d9-cf155b65ed7b"
      },
      "outputs": [],
      "source": [
        "for i in results:\n",
        "  cv2_imshow(i.plot())"
      ]
    }
  ],
  "metadata": {
    "accelerator": "GPU",
    "colab": {
      "gpuType": "T4",
      "provenance": []
    },
    "kernelspec": {
      "display_name": "Python 3",
      "name": "python3"
    },
    "language_info": {
      "name": "python"
    }
  },
  "nbformat": 4,
  "nbformat_minor": 0
}
